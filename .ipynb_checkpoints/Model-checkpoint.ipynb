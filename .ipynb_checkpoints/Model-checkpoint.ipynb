{
 "cells": [
  {
   "cell_type": "code",
   "execution_count": 71,
   "metadata": {},
   "outputs": [],
   "source": [
    "import pandas as pd\n",
    "from sklearn.model_selection import train_test_split\n",
    "from sklearn.linear_model import LogisticRegression\n",
    "from sklearn.linear_model import Ridge\n",
    "from sklearn import metrics\n",
    "from sklearn.svm import LinearSVC\n",
    "from sklearn.calibration import CalibratedClassifierCV"
   ]
  },
  {
   "cell_type": "code",
   "execution_count": 72,
   "metadata": {},
   "outputs": [],
   "source": [
    "test = pd.read_csv(\"test_transformed_allFeatures.csv\")\n",
    "df = pd.read_csv(\"train_transformed_allFeat.csv\")\n",
    "test.drop(test.columns[[9,10]], axis=1, inplace=True)"
   ]
  },
  {
   "cell_type": "code",
   "execution_count": 73,
   "metadata": {},
   "outputs": [
    {
     "data": {
      "text/html": [
       "<div>\n",
       "<style scoped>\n",
       "    .dataframe tbody tr th:only-of-type {\n",
       "        vertical-align: middle;\n",
       "    }\n",
       "\n",
       "    .dataframe tbody tr th {\n",
       "        vertical-align: top;\n",
       "    }\n",
       "\n",
       "    .dataframe thead th {\n",
       "        text-align: right;\n",
       "    }\n",
       "</style>\n",
       "<table border=\"1\" class=\"dataframe\">\n",
       "  <thead>\n",
       "    <tr style=\"text-align: right;\">\n",
       "      <th></th>\n",
       "      <th>aa</th>\n",
       "      <th>ra</th>\n",
       "      <th>jc</th>\n",
       "      <th>pa</th>\n",
       "      <th>path_len</th>\n",
       "      <th>dc_A</th>\n",
       "      <th>dc_B</th>\n",
       "      <th>cc_A</th>\n",
       "      <th>cc_B</th>\n",
       "      <th>hits_A</th>\n",
       "      <th>hits_B</th>\n",
       "    </tr>\n",
       "  </thead>\n",
       "  <tbody>\n",
       "    <tr>\n",
       "      <th>0</th>\n",
       "      <td>2.471649</td>\n",
       "      <td>0.531746</td>\n",
       "      <td>0.428571</td>\n",
       "      <td>96</td>\n",
       "      <td>1</td>\n",
       "      <td>0.002124</td>\n",
       "      <td>0.003186</td>\n",
       "      <td>0.187879</td>\n",
       "      <td>0.223134</td>\n",
       "      <td>0.000003</td>\n",
       "      <td>5.710000e-05</td>\n",
       "    </tr>\n",
       "    <tr>\n",
       "      <th>1</th>\n",
       "      <td>2.976054</td>\n",
       "      <td>0.668651</td>\n",
       "      <td>0.466667</td>\n",
       "      <td>112</td>\n",
       "      <td>1</td>\n",
       "      <td>0.002124</td>\n",
       "      <td>0.003717</td>\n",
       "      <td>0.187879</td>\n",
       "      <td>0.209683</td>\n",
       "      <td>0.000003</td>\n",
       "      <td>1.070000e-05</td>\n",
       "    </tr>\n",
       "    <tr>\n",
       "      <th>2</th>\n",
       "      <td>2.899858</td>\n",
       "      <td>0.628968</td>\n",
       "      <td>0.700000</td>\n",
       "      <td>72</td>\n",
       "      <td>1</td>\n",
       "      <td>0.002124</td>\n",
       "      <td>0.002390</td>\n",
       "      <td>0.187879</td>\n",
       "      <td>0.187891</td>\n",
       "      <td>0.000003</td>\n",
       "      <td>3.200000e-06</td>\n",
       "    </tr>\n",
       "    <tr>\n",
       "      <th>3</th>\n",
       "      <td>2.471649</td>\n",
       "      <td>0.531746</td>\n",
       "      <td>0.600000</td>\n",
       "      <td>64</td>\n",
       "      <td>1</td>\n",
       "      <td>0.002124</td>\n",
       "      <td>0.002124</td>\n",
       "      <td>0.187879</td>\n",
       "      <td>0.181356</td>\n",
       "      <td>0.000003</td>\n",
       "      <td>2.090000e-06</td>\n",
       "    </tr>\n",
       "    <tr>\n",
       "      <th>4</th>\n",
       "      <td>2.976054</td>\n",
       "      <td>0.668651</td>\n",
       "      <td>0.466667</td>\n",
       "      <td>112</td>\n",
       "      <td>1</td>\n",
       "      <td>0.002124</td>\n",
       "      <td>0.003717</td>\n",
       "      <td>0.187879</td>\n",
       "      <td>0.208769</td>\n",
       "      <td>0.000003</td>\n",
       "      <td>1.830000e-05</td>\n",
       "    </tr>\n",
       "    <tr>\n",
       "      <th>...</th>\n",
       "      <td>...</td>\n",
       "      <td>...</td>\n",
       "      <td>...</td>\n",
       "      <td>...</td>\n",
       "      <td>...</td>\n",
       "      <td>...</td>\n",
       "      <td>...</td>\n",
       "      <td>...</td>\n",
       "      <td>...</td>\n",
       "      <td>...</td>\n",
       "      <td>...</td>\n",
       "    </tr>\n",
       "    <tr>\n",
       "      <th>32067</th>\n",
       "      <td>0.000000</td>\n",
       "      <td>0.000000</td>\n",
       "      <td>0.000000</td>\n",
       "      <td>510</td>\n",
       "      <td>3</td>\n",
       "      <td>0.002655</td>\n",
       "      <td>0.001328</td>\n",
       "      <td>0.246668</td>\n",
       "      <td>0.225652</td>\n",
       "      <td>0.000229</td>\n",
       "      <td>4.054780e-04</td>\n",
       "    </tr>\n",
       "    <tr>\n",
       "      <th>32068</th>\n",
       "      <td>0.000000</td>\n",
       "      <td>0.000000</td>\n",
       "      <td>0.000000</td>\n",
       "      <td>30</td>\n",
       "      <td>999</td>\n",
       "      <td>0.002655</td>\n",
       "      <td>0.001593</td>\n",
       "      <td>0.246668</td>\n",
       "      <td>0.173938</td>\n",
       "      <td>0.000229</td>\n",
       "      <td>5.740000e-07</td>\n",
       "    </tr>\n",
       "    <tr>\n",
       "      <th>32069</th>\n",
       "      <td>0.000000</td>\n",
       "      <td>0.000000</td>\n",
       "      <td>0.000000</td>\n",
       "      <td>310</td>\n",
       "      <td>3</td>\n",
       "      <td>0.002655</td>\n",
       "      <td>0.002390</td>\n",
       "      <td>0.246668</td>\n",
       "      <td>0.224344</td>\n",
       "      <td>0.000229</td>\n",
       "      <td>3.290000e-05</td>\n",
       "    </tr>\n",
       "    <tr>\n",
       "      <th>32070</th>\n",
       "      <td>0.000000</td>\n",
       "      <td>0.000000</td>\n",
       "      <td>0.000000</td>\n",
       "      <td>140</td>\n",
       "      <td>3</td>\n",
       "      <td>0.002655</td>\n",
       "      <td>0.001062</td>\n",
       "      <td>0.246668</td>\n",
       "      <td>0.213252</td>\n",
       "      <td>0.000229</td>\n",
       "      <td>2.260000e-05</td>\n",
       "    </tr>\n",
       "    <tr>\n",
       "      <th>32071</th>\n",
       "      <td>0.000000</td>\n",
       "      <td>0.000000</td>\n",
       "      <td>0.000000</td>\n",
       "      <td>60</td>\n",
       "      <td>4</td>\n",
       "      <td>0.002655</td>\n",
       "      <td>0.001062</td>\n",
       "      <td>0.246668</td>\n",
       "      <td>0.239830</td>\n",
       "      <td>0.000229</td>\n",
       "      <td>3.084950e-04</td>\n",
       "    </tr>\n",
       "  </tbody>\n",
       "</table>\n",
       "<p>32072 rows × 11 columns</p>\n",
       "</div>"
      ],
      "text/plain": [
       "             aa        ra        jc   pa  path_len      dc_A      dc_B  \\\n",
       "0      2.471649  0.531746  0.428571   96         1  0.002124  0.003186   \n",
       "1      2.976054  0.668651  0.466667  112         1  0.002124  0.003717   \n",
       "2      2.899858  0.628968  0.700000   72         1  0.002124  0.002390   \n",
       "3      2.471649  0.531746  0.600000   64         1  0.002124  0.002124   \n",
       "4      2.976054  0.668651  0.466667  112         1  0.002124  0.003717   \n",
       "...         ...       ...       ...  ...       ...       ...       ...   \n",
       "32067  0.000000  0.000000  0.000000  510         3  0.002655  0.001328   \n",
       "32068  0.000000  0.000000  0.000000   30       999  0.002655  0.001593   \n",
       "32069  0.000000  0.000000  0.000000  310         3  0.002655  0.002390   \n",
       "32070  0.000000  0.000000  0.000000  140         3  0.002655  0.001062   \n",
       "32071  0.000000  0.000000  0.000000   60         4  0.002655  0.001062   \n",
       "\n",
       "           cc_A      cc_B    hits_A        hits_B  \n",
       "0      0.187879  0.223134  0.000003  5.710000e-05  \n",
       "1      0.187879  0.209683  0.000003  1.070000e-05  \n",
       "2      0.187879  0.187891  0.000003  3.200000e-06  \n",
       "3      0.187879  0.181356  0.000003  2.090000e-06  \n",
       "4      0.187879  0.208769  0.000003  1.830000e-05  \n",
       "...         ...       ...       ...           ...  \n",
       "32067  0.246668  0.225652  0.000229  4.054780e-04  \n",
       "32068  0.246668  0.173938  0.000229  5.740000e-07  \n",
       "32069  0.246668  0.224344  0.000229  3.290000e-05  \n",
       "32070  0.246668  0.213252  0.000229  2.260000e-05  \n",
       "32071  0.246668  0.239830  0.000229  3.084950e-04  \n",
       "\n",
       "[32072 rows x 11 columns]"
      ]
     },
     "execution_count": 73,
     "metadata": {},
     "output_type": "execute_result"
    }
   ],
   "source": [
    "df.iloc[:,4:]"
   ]
  },
  {
   "cell_type": "code",
   "execution_count": 74,
   "metadata": {},
   "outputs": [
    {
     "data": {
      "text/html": [
       "<div>\n",
       "<style scoped>\n",
       "    .dataframe tbody tr th:only-of-type {\n",
       "        vertical-align: middle;\n",
       "    }\n",
       "\n",
       "    .dataframe tbody tr th {\n",
       "        vertical-align: top;\n",
       "    }\n",
       "\n",
       "    .dataframe thead th {\n",
       "        text-align: right;\n",
       "    }\n",
       "</style>\n",
       "<table border=\"1\" class=\"dataframe\">\n",
       "  <thead>\n",
       "    <tr style=\"text-align: right;\">\n",
       "      <th></th>\n",
       "      <th>aa</th>\n",
       "      <th>ra</th>\n",
       "      <th>jc</th>\n",
       "      <th>pa</th>\n",
       "      <th>path_len</th>\n",
       "      <th>dc_A</th>\n",
       "      <th>dc_B</th>\n",
       "      <th>cc_A</th>\n",
       "      <th>cc_B</th>\n",
       "      <th>hits_A</th>\n",
       "      <th>hits_B</th>\n",
       "    </tr>\n",
       "  </thead>\n",
       "  <tbody>\n",
       "    <tr>\n",
       "      <th>0</th>\n",
       "      <td>0.000000</td>\n",
       "      <td>0.000000</td>\n",
       "      <td>0.000000</td>\n",
       "      <td>56</td>\n",
       "      <td>3</td>\n",
       "      <td>0.002124</td>\n",
       "      <td>0.001859</td>\n",
       "      <td>0.187879</td>\n",
       "      <td>0.218136</td>\n",
       "      <td>0.000003</td>\n",
       "      <td>6.080000e-05</td>\n",
       "    </tr>\n",
       "    <tr>\n",
       "      <th>1</th>\n",
       "      <td>0.000000</td>\n",
       "      <td>0.000000</td>\n",
       "      <td>0.000000</td>\n",
       "      <td>24</td>\n",
       "      <td>5</td>\n",
       "      <td>0.002124</td>\n",
       "      <td>0.000797</td>\n",
       "      <td>0.187879</td>\n",
       "      <td>0.203260</td>\n",
       "      <td>0.000003</td>\n",
       "      <td>1.960000e-05</td>\n",
       "    </tr>\n",
       "    <tr>\n",
       "      <th>2</th>\n",
       "      <td>0.000000</td>\n",
       "      <td>0.000000</td>\n",
       "      <td>0.000000</td>\n",
       "      <td>496</td>\n",
       "      <td>3</td>\n",
       "      <td>0.004249</td>\n",
       "      <td>0.008232</td>\n",
       "      <td>0.229441</td>\n",
       "      <td>0.256824</td>\n",
       "      <td>0.000122</td>\n",
       "      <td>2.218010e-04</td>\n",
       "    </tr>\n",
       "    <tr>\n",
       "      <th>3</th>\n",
       "      <td>1.242670</td>\n",
       "      <td>0.400000</td>\n",
       "      <td>0.080000</td>\n",
       "      <td>72</td>\n",
       "      <td>1</td>\n",
       "      <td>0.006373</td>\n",
       "      <td>0.000797</td>\n",
       "      <td>0.263182</td>\n",
       "      <td>0.206104</td>\n",
       "      <td>0.000755</td>\n",
       "      <td>1.700000e-05</td>\n",
       "    </tr>\n",
       "    <tr>\n",
       "      <th>4</th>\n",
       "      <td>0.000000</td>\n",
       "      <td>0.000000</td>\n",
       "      <td>0.000000</td>\n",
       "      <td>391</td>\n",
       "      <td>4</td>\n",
       "      <td>0.004514</td>\n",
       "      <td>0.006107</td>\n",
       "      <td>0.247700</td>\n",
       "      <td>0.246366</td>\n",
       "      <td>0.000269</td>\n",
       "      <td>3.346920e-04</td>\n",
       "    </tr>\n",
       "    <tr>\n",
       "      <th>...</th>\n",
       "      <td>...</td>\n",
       "      <td>...</td>\n",
       "      <td>...</td>\n",
       "      <td>...</td>\n",
       "      <td>...</td>\n",
       "      <td>...</td>\n",
       "      <td>...</td>\n",
       "      <td>...</td>\n",
       "      <td>...</td>\n",
       "      <td>...</td>\n",
       "      <td>...</td>\n",
       "    </tr>\n",
       "    <tr>\n",
       "      <th>1995</th>\n",
       "      <td>0.000000</td>\n",
       "      <td>0.000000</td>\n",
       "      <td>0.000000</td>\n",
       "      <td>2</td>\n",
       "      <td>5</td>\n",
       "      <td>0.000266</td>\n",
       "      <td>0.000531</td>\n",
       "      <td>0.177465</td>\n",
       "      <td>0.217868</td>\n",
       "      <td>0.000001</td>\n",
       "      <td>2.930000e-05</td>\n",
       "    </tr>\n",
       "    <tr>\n",
       "      <th>1996</th>\n",
       "      <td>0.000000</td>\n",
       "      <td>0.000000</td>\n",
       "      <td>0.000000</td>\n",
       "      <td>2</td>\n",
       "      <td>999</td>\n",
       "      <td>0.000531</td>\n",
       "      <td>0.000266</td>\n",
       "      <td>0.228538</td>\n",
       "      <td>0.000266</td>\n",
       "      <td>0.000144</td>\n",
       "      <td>5.590000e-78</td>\n",
       "    </tr>\n",
       "    <tr>\n",
       "      <th>1997</th>\n",
       "      <td>0.000000</td>\n",
       "      <td>0.000000</td>\n",
       "      <td>0.000000</td>\n",
       "      <td>116</td>\n",
       "      <td>3</td>\n",
       "      <td>0.001062</td>\n",
       "      <td>0.007700</td>\n",
       "      <td>0.214815</td>\n",
       "      <td>0.249028</td>\n",
       "      <td>0.000071</td>\n",
       "      <td>3.111110e-04</td>\n",
       "    </tr>\n",
       "    <tr>\n",
       "      <th>1998</th>\n",
       "      <td>1.766048</td>\n",
       "      <td>0.424368</td>\n",
       "      <td>0.053333</td>\n",
       "      <td>370</td>\n",
       "      <td>1</td>\n",
       "      <td>0.019649</td>\n",
       "      <td>0.001328</td>\n",
       "      <td>0.280597</td>\n",
       "      <td>0.231677</td>\n",
       "      <td>0.002251</td>\n",
       "      <td>1.134690e-04</td>\n",
       "    </tr>\n",
       "    <tr>\n",
       "      <th>1999</th>\n",
       "      <td>0.000000</td>\n",
       "      <td>0.000000</td>\n",
       "      <td>0.000000</td>\n",
       "      <td>15</td>\n",
       "      <td>5</td>\n",
       "      <td>0.003983</td>\n",
       "      <td>0.000266</td>\n",
       "      <td>0.227797</td>\n",
       "      <td>0.169839</td>\n",
       "      <td>0.000117</td>\n",
       "      <td>2.280000e-07</td>\n",
       "    </tr>\n",
       "  </tbody>\n",
       "</table>\n",
       "<p>2000 rows × 11 columns</p>\n",
       "</div>"
      ],
      "text/plain": [
       "            aa        ra        jc   pa  path_len      dc_A      dc_B  \\\n",
       "0     0.000000  0.000000  0.000000   56         3  0.002124  0.001859   \n",
       "1     0.000000  0.000000  0.000000   24         5  0.002124  0.000797   \n",
       "2     0.000000  0.000000  0.000000  496         3  0.004249  0.008232   \n",
       "3     1.242670  0.400000  0.080000   72         1  0.006373  0.000797   \n",
       "4     0.000000  0.000000  0.000000  391         4  0.004514  0.006107   \n",
       "...        ...       ...       ...  ...       ...       ...       ...   \n",
       "1995  0.000000  0.000000  0.000000    2         5  0.000266  0.000531   \n",
       "1996  0.000000  0.000000  0.000000    2       999  0.000531  0.000266   \n",
       "1997  0.000000  0.000000  0.000000  116         3  0.001062  0.007700   \n",
       "1998  1.766048  0.424368  0.053333  370         1  0.019649  0.001328   \n",
       "1999  0.000000  0.000000  0.000000   15         5  0.003983  0.000266   \n",
       "\n",
       "          cc_A      cc_B    hits_A        hits_B  \n",
       "0     0.187879  0.218136  0.000003  6.080000e-05  \n",
       "1     0.187879  0.203260  0.000003  1.960000e-05  \n",
       "2     0.229441  0.256824  0.000122  2.218010e-04  \n",
       "3     0.263182  0.206104  0.000755  1.700000e-05  \n",
       "4     0.247700  0.246366  0.000269  3.346920e-04  \n",
       "...        ...       ...       ...           ...  \n",
       "1995  0.177465  0.217868  0.000001  2.930000e-05  \n",
       "1996  0.228538  0.000266  0.000144  5.590000e-78  \n",
       "1997  0.214815  0.249028  0.000071  3.111110e-04  \n",
       "1998  0.280597  0.231677  0.002251  1.134690e-04  \n",
       "1999  0.227797  0.169839  0.000117  2.280000e-07  \n",
       "\n",
       "[2000 rows x 11 columns]"
      ]
     },
     "execution_count": 74,
     "metadata": {},
     "output_type": "execute_result"
    }
   ],
   "source": [
    "test.iloc[:,4:]"
   ]
  },
  {
   "cell_type": "code",
   "execution_count": 75,
   "metadata": {},
   "outputs": [],
   "source": [
    "x_train, x_test, y_train, y_test = train_test_split(df.iloc[:,4:], [\"pos\" if i <= df.shape[0]//2 else \"neg\" for i in range(df.shape[0])])"
   ]
  },
  {
   "cell_type": "code",
   "execution_count": 76,
   "metadata": {},
   "outputs": [
    {
     "name": "stdout",
     "output_type": "stream",
     "text": [
      "              precision    recall  f1-score   support\n",
      "\n",
      "         neg       1.00      1.00      1.00      3994\n",
      "         pos       1.00      1.00      1.00      4024\n",
      "\n",
      "    accuracy                           1.00      8018\n",
      "   macro avg       1.00      1.00      1.00      8018\n",
      "weighted avg       1.00      1.00      1.00      8018\n",
      "\n"
     ]
    }
   ],
   "source": [
    "LR = LogisticRegression(n_jobs = 4).fit(x_train, y_train)\n",
    "LRT = LR.predict(x_test)\n",
    "\n",
    "print(metrics.classification_report(y_test, LRT))\n"
   ]
  },
  {
   "cell_type": "code",
   "execution_count": 77,
   "metadata": {},
   "outputs": [],
   "source": [
    "probs = LR.predict_proba(x_test)"
   ]
  },
  {
   "cell_type": "code",
   "execution_count": 78,
   "metadata": {},
   "outputs": [
    {
     "data": {
      "text/plain": [
       "1.0"
      ]
     },
     "execution_count": 78,
     "metadata": {},
     "output_type": "execute_result"
    }
   ],
   "source": [
    "metrics.roc_auc_score(y_test, probs[:, 1])"
   ]
  },
  {
   "cell_type": "code",
   "execution_count": 79,
   "metadata": {},
   "outputs": [
    {
     "data": {
      "text/plain": [
       "Counter({'neg': 1282, 'pos': 718})"
      ]
     },
     "execution_count": 79,
     "metadata": {},
     "output_type": "execute_result"
    }
   ],
   "source": [
    "import collections\n",
    "collections.Counter(LR.predict(test.iloc[:,4:]))"
   ]
  },
  {
   "cell_type": "code",
   "execution_count": 53,
   "metadata": {},
   "outputs": [
    {
     "data": {
      "text/plain": [
       "Counter({'neg': 4041, 'pos': 3977})"
      ]
     },
     "execution_count": 53,
     "metadata": {},
     "output_type": "execute_result"
    }
   ],
   "source": [
    "collections.Counter(y_test)"
   ]
  },
  {
   "cell_type": "code",
   "execution_count": 54,
   "metadata": {},
   "outputs": [
    {
     "data": {
      "text/plain": [
       "Counter({'neg': 4041, 'pos': 3977})"
      ]
     },
     "execution_count": 54,
     "metadata": {},
     "output_type": "execute_result"
    }
   ],
   "source": [
    "collections.Counter(LR.predict(x_test))"
   ]
  },
  {
   "cell_type": "code",
   "execution_count": 55,
   "metadata": {},
   "outputs": [
    {
     "data": {
      "text/plain": [
       "array([9.47617186e-04, 1.45543526e-09, 7.50627889e-04, ...,\n",
       "       9.22607442e-04, 9.99930115e-01, 1.46334527e-09])"
      ]
     },
     "execution_count": 55,
     "metadata": {},
     "output_type": "execute_result"
    }
   ],
   "source": [
    "results = LR.predict_proba(test.iloc[:,4:])\n",
    "results[:,1]"
   ]
  },
  {
   "cell_type": "code",
   "execution_count": 56,
   "metadata": {},
   "outputs": [],
   "source": [
    "output = pd.DataFrame({'Id': [i for i in range(1,2001)], 'Predicted': results[:,1]})\n",
    "output.to_csv('logRegResult_no_btwCentrality.csv', header = True, index= False)"
   ]
  },
  {
   "cell_type": "code",
   "execution_count": null,
   "metadata": {},
   "outputs": [],
   "source": [
    "#ridge regression\n",
    "\n",
    "clf = Ridge(alpha=1.0)\n",
    "clf.fit(X, y)"
   ]
  },
  {
   "cell_type": "markdown",
   "metadata": {},
   "source": [
    "Support Vector Machine (SVM)"
   ]
  },
  {
   "cell_type": "code",
   "execution_count": 57,
   "metadata": {},
   "outputs": [
    {
     "name": "stderr",
     "output_type": "stream",
     "text": [
      "C:\\Users\\Melissa Speer\\anaconda3\\lib\\site-packages\\sklearn\\svm\\_base.py:976: ConvergenceWarning: Liblinear failed to converge, increase the number of iterations.\n",
      "  warnings.warn(\"Liblinear failed to converge, increase \"\n",
      "C:\\Users\\Melissa Speer\\anaconda3\\lib\\site-packages\\sklearn\\svm\\_base.py:976: ConvergenceWarning: Liblinear failed to converge, increase the number of iterations.\n",
      "  warnings.warn(\"Liblinear failed to converge, increase \"\n",
      "C:\\Users\\Melissa Speer\\anaconda3\\lib\\site-packages\\sklearn\\svm\\_base.py:976: ConvergenceWarning: Liblinear failed to converge, increase the number of iterations.\n",
      "  warnings.warn(\"Liblinear failed to converge, increase \"\n",
      "C:\\Users\\Melissa Speer\\anaconda3\\lib\\site-packages\\sklearn\\svm\\_base.py:976: ConvergenceWarning: Liblinear failed to converge, increase the number of iterations.\n",
      "  warnings.warn(\"Liblinear failed to converge, increase \"\n"
     ]
    },
    {
     "name": "stdout",
     "output_type": "stream",
     "text": [
      "              precision    recall  f1-score   support\n",
      "\n",
      "         neg       1.00      1.00      1.00      4041\n",
      "         pos       1.00      1.00      1.00      3977\n",
      "\n",
      "    accuracy                           1.00      8018\n",
      "   macro avg       1.00      1.00      1.00      8018\n",
      "weighted avg       1.00      1.00      1.00      8018\n",
      "\n"
     ]
    },
    {
     "name": "stderr",
     "output_type": "stream",
     "text": [
      "C:\\Users\\Melissa Speer\\anaconda3\\lib\\site-packages\\sklearn\\svm\\_base.py:976: ConvergenceWarning: Liblinear failed to converge, increase the number of iterations.\n",
      "  warnings.warn(\"Liblinear failed to converge, increase \"\n"
     ]
    }
   ],
   "source": [
    "SVM = LinearSVC(max_iter=10000)\n",
    "#SVM_predict = SVM.predict(x_test)\n",
    "clf = CalibratedClassifierCV(SVM) \n",
    "clf.fit(x_train, y_train)\n",
    "clf_predict = clf.predict(x_test)\n",
    "\n",
    "\n",
    "print(metrics.classification_report(y_test, clf_predict))"
   ]
  },
  {
   "cell_type": "code",
   "execution_count": 58,
   "metadata": {},
   "outputs": [],
   "source": [
    "probs = clf.predict_proba(x_test)"
   ]
  },
  {
   "cell_type": "code",
   "execution_count": 59,
   "metadata": {},
   "outputs": [
    {
     "data": {
      "text/plain": [
       "array([[0.67533204, 0.32466796],\n",
       "       [0.34029695, 0.65970305],\n",
       "       [0.35430718, 0.64569282],\n",
       "       ...,\n",
       "       [0.80227792, 0.19772208],\n",
       "       [0.67984221, 0.32015779],\n",
       "       [0.67347837, 0.32652163]])"
      ]
     },
     "execution_count": 59,
     "metadata": {},
     "output_type": "execute_result"
    }
   ],
   "source": [
    "probs"
   ]
  },
  {
   "cell_type": "code",
   "execution_count": 60,
   "metadata": {},
   "outputs": [
    {
     "data": {
      "text/plain": [
       "1.0"
      ]
     },
     "execution_count": 60,
     "metadata": {},
     "output_type": "execute_result"
    }
   ],
   "source": [
    "metrics.roc_auc_score(y_test, probs[:, 1])"
   ]
  },
  {
   "cell_type": "code",
   "execution_count": 61,
   "metadata": {},
   "outputs": [
    {
     "data": {
      "text/plain": [
       "Counter({'neg': 1465, 'pos': 535})"
      ]
     },
     "execution_count": 61,
     "metadata": {},
     "output_type": "execute_result"
    }
   ],
   "source": [
    "collections.Counter(clf.predict(test.iloc[:,4:]))"
   ]
  },
  {
   "cell_type": "code",
   "execution_count": 42,
   "metadata": {},
   "outputs": [
    {
     "data": {
      "text/plain": [
       "Counter({'neg': 4029, 'pos': 3989})"
      ]
     },
     "execution_count": 42,
     "metadata": {},
     "output_type": "execute_result"
    }
   ],
   "source": [
    "collections.Counter(y_test)"
   ]
  },
  {
   "cell_type": "code",
   "execution_count": 20,
   "metadata": {},
   "outputs": [
    {
     "data": {
      "text/plain": [
       "array([0.32588784, 0.11201567, 0.32562297, ..., 0.32601893, 0.65587601,\n",
       "       0.11203549])"
      ]
     },
     "execution_count": 20,
     "metadata": {},
     "output_type": "execute_result"
    }
   ],
   "source": [
    "results = clf.predict_proba(test.iloc[:,4:])\n",
    "results[:,1]"
   ]
  },
  {
   "cell_type": "code",
   "execution_count": 22,
   "metadata": {},
   "outputs": [],
   "source": [
    "output = pd.DataFrame({'Id': [i for i in range(1,2001)], 'Predicted': results[:,1]})\n",
    "output.to_csv('svmResult.csv', header = True, index= False)"
   ]
  },
  {
   "cell_type": "code",
   "execution_count": null,
   "metadata": {},
   "outputs": [],
   "source": []
  }
 ],
 "metadata": {
  "kernelspec": {
   "display_name": "Python 3",
   "language": "python",
   "name": "python3"
  },
  "language_info": {
   "codemirror_mode": {
    "name": "ipython",
    "version": 3
   },
   "file_extension": ".py",
   "mimetype": "text/x-python",
   "name": "python",
   "nbconvert_exporter": "python",
   "pygments_lexer": "ipython3",
   "version": "3.8.5"
  }
 },
 "nbformat": 4,
 "nbformat_minor": 4
}
