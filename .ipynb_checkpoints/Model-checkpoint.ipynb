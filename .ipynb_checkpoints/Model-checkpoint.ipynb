{
 "cells": [
  {
   "cell_type": "code",
   "execution_count": 1,
   "metadata": {},
   "outputs": [],
   "source": [
    "import pandas as pd\n",
    "from sklearn.model_selection import train_test_split\n",
    "from sklearn.linear_model import LogisticRegression\n",
    "from sklearn.linear_model import Ridge\n",
    "from sklearn import metrics"
   ]
  },
  {
   "cell_type": "code",
   "execution_count": 2,
   "metadata": {},
   "outputs": [],
   "source": [
    "test = pd.read_csv(\"test_transformed9feat.csv\")\n",
    "df = pd.read_csv(\"train_transformed9feat.csv\")"
   ]
  },
  {
   "cell_type": "code",
   "execution_count": 3,
   "metadata": {},
   "outputs": [
    {
     "data": {
      "text/html": [
       "<div>\n",
       "<style scoped>\n",
       "    .dataframe tbody tr th:only-of-type {\n",
       "        vertical-align: middle;\n",
       "    }\n",
       "\n",
       "    .dataframe tbody tr th {\n",
       "        vertical-align: top;\n",
       "    }\n",
       "\n",
       "    .dataframe thead th {\n",
       "        text-align: right;\n",
       "    }\n",
       "</style>\n",
       "<table border=\"1\" class=\"dataframe\">\n",
       "  <thead>\n",
       "    <tr style=\"text-align: right;\">\n",
       "      <th></th>\n",
       "      <th>aa</th>\n",
       "      <th>ra</th>\n",
       "      <th>jc</th>\n",
       "      <th>pa</th>\n",
       "      <th>path_len</th>\n",
       "      <th>bet_cA</th>\n",
       "      <th>bet_cB</th>\n",
       "      <th>dc_A</th>\n",
       "      <th>dc_B</th>\n",
       "    </tr>\n",
       "  </thead>\n",
       "  <tbody>\n",
       "    <tr>\n",
       "      <th>0</th>\n",
       "      <td>2.471649</td>\n",
       "      <td>0.531746</td>\n",
       "      <td>0.428571</td>\n",
       "      <td>96</td>\n",
       "      <td>1</td>\n",
       "      <td>0.000004</td>\n",
       "      <td>7.627580e-04</td>\n",
       "      <td>0.002124</td>\n",
       "      <td>0.003186</td>\n",
       "    </tr>\n",
       "    <tr>\n",
       "      <th>1</th>\n",
       "      <td>2.976054</td>\n",
       "      <td>0.668651</td>\n",
       "      <td>0.466667</td>\n",
       "      <td>112</td>\n",
       "      <td>1</td>\n",
       "      <td>0.000004</td>\n",
       "      <td>7.945610e-04</td>\n",
       "      <td>0.002124</td>\n",
       "      <td>0.003717</td>\n",
       "    </tr>\n",
       "    <tr>\n",
       "      <th>2</th>\n",
       "      <td>2.899858</td>\n",
       "      <td>0.628968</td>\n",
       "      <td>0.700000</td>\n",
       "      <td>72</td>\n",
       "      <td>1</td>\n",
       "      <td>0.000004</td>\n",
       "      <td>9.620000e-06</td>\n",
       "      <td>0.002124</td>\n",
       "      <td>0.002390</td>\n",
       "    </tr>\n",
       "    <tr>\n",
       "      <th>3</th>\n",
       "      <td>2.471649</td>\n",
       "      <td>0.531746</td>\n",
       "      <td>0.600000</td>\n",
       "      <td>64</td>\n",
       "      <td>1</td>\n",
       "      <td>0.000004</td>\n",
       "      <td>4.700000e-08</td>\n",
       "      <td>0.002124</td>\n",
       "      <td>0.002124</td>\n",
       "    </tr>\n",
       "    <tr>\n",
       "      <th>4</th>\n",
       "      <td>2.976054</td>\n",
       "      <td>0.668651</td>\n",
       "      <td>0.466667</td>\n",
       "      <td>112</td>\n",
       "      <td>1</td>\n",
       "      <td>0.000004</td>\n",
       "      <td>4.391450e-04</td>\n",
       "      <td>0.002124</td>\n",
       "      <td>0.003717</td>\n",
       "    </tr>\n",
       "    <tr>\n",
       "      <th>...</th>\n",
       "      <td>...</td>\n",
       "      <td>...</td>\n",
       "      <td>...</td>\n",
       "      <td>...</td>\n",
       "      <td>...</td>\n",
       "      <td>...</td>\n",
       "      <td>...</td>\n",
       "      <td>...</td>\n",
       "      <td>...</td>\n",
       "    </tr>\n",
       "    <tr>\n",
       "      <th>32067</th>\n",
       "      <td>0.000000</td>\n",
       "      <td>0.000000</td>\n",
       "      <td>0.000000</td>\n",
       "      <td>510</td>\n",
       "      <td>3</td>\n",
       "      <td>0.000371</td>\n",
       "      <td>4.349246e-03</td>\n",
       "      <td>0.002655</td>\n",
       "      <td>0.001328</td>\n",
       "    </tr>\n",
       "    <tr>\n",
       "      <th>32068</th>\n",
       "      <td>0.000000</td>\n",
       "      <td>0.000000</td>\n",
       "      <td>0.000000</td>\n",
       "      <td>30</td>\n",
       "      <td>999</td>\n",
       "      <td>0.000371</td>\n",
       "      <td>0.000000e+00</td>\n",
       "      <td>0.002655</td>\n",
       "      <td>0.001593</td>\n",
       "    </tr>\n",
       "    <tr>\n",
       "      <th>32069</th>\n",
       "      <td>0.000000</td>\n",
       "      <td>0.000000</td>\n",
       "      <td>0.000000</td>\n",
       "      <td>310</td>\n",
       "      <td>3</td>\n",
       "      <td>0.000371</td>\n",
       "      <td>6.463828e-03</td>\n",
       "      <td>0.002655</td>\n",
       "      <td>0.002390</td>\n",
       "    </tr>\n",
       "    <tr>\n",
       "      <th>32070</th>\n",
       "      <td>0.000000</td>\n",
       "      <td>0.000000</td>\n",
       "      <td>0.000000</td>\n",
       "      <td>140</td>\n",
       "      <td>3</td>\n",
       "      <td>0.000371</td>\n",
       "      <td>3.241458e-03</td>\n",
       "      <td>0.002655</td>\n",
       "      <td>0.001062</td>\n",
       "    </tr>\n",
       "    <tr>\n",
       "      <th>32071</th>\n",
       "      <td>0.000000</td>\n",
       "      <td>0.000000</td>\n",
       "      <td>0.000000</td>\n",
       "      <td>60</td>\n",
       "      <td>4</td>\n",
       "      <td>0.000371</td>\n",
       "      <td>1.780000e-05</td>\n",
       "      <td>0.002655</td>\n",
       "      <td>0.001062</td>\n",
       "    </tr>\n",
       "  </tbody>\n",
       "</table>\n",
       "<p>32072 rows × 9 columns</p>\n",
       "</div>"
      ],
      "text/plain": [
       "             aa        ra        jc   pa  path_len    bet_cA        bet_cB  \\\n",
       "0      2.471649  0.531746  0.428571   96         1  0.000004  7.627580e-04   \n",
       "1      2.976054  0.668651  0.466667  112         1  0.000004  7.945610e-04   \n",
       "2      2.899858  0.628968  0.700000   72         1  0.000004  9.620000e-06   \n",
       "3      2.471649  0.531746  0.600000   64         1  0.000004  4.700000e-08   \n",
       "4      2.976054  0.668651  0.466667  112         1  0.000004  4.391450e-04   \n",
       "...         ...       ...       ...  ...       ...       ...           ...   \n",
       "32067  0.000000  0.000000  0.000000  510         3  0.000371  4.349246e-03   \n",
       "32068  0.000000  0.000000  0.000000   30       999  0.000371  0.000000e+00   \n",
       "32069  0.000000  0.000000  0.000000  310         3  0.000371  6.463828e-03   \n",
       "32070  0.000000  0.000000  0.000000  140         3  0.000371  3.241458e-03   \n",
       "32071  0.000000  0.000000  0.000000   60         4  0.000371  1.780000e-05   \n",
       "\n",
       "           dc_A      dc_B  \n",
       "0      0.002124  0.003186  \n",
       "1      0.002124  0.003717  \n",
       "2      0.002124  0.002390  \n",
       "3      0.002124  0.002124  \n",
       "4      0.002124  0.003717  \n",
       "...         ...       ...  \n",
       "32067  0.002655  0.001328  \n",
       "32068  0.002655  0.001593  \n",
       "32069  0.002655  0.002390  \n",
       "32070  0.002655  0.001062  \n",
       "32071  0.002655  0.001062  \n",
       "\n",
       "[32072 rows x 9 columns]"
      ]
     },
     "execution_count": 3,
     "metadata": {},
     "output_type": "execute_result"
    }
   ],
   "source": [
    "df.iloc[:,4:]"
   ]
  },
  {
   "cell_type": "code",
   "execution_count": 4,
   "metadata": {},
   "outputs": [
    {
     "data": {
      "text/html": [
       "<div>\n",
       "<style scoped>\n",
       "    .dataframe tbody tr th:only-of-type {\n",
       "        vertical-align: middle;\n",
       "    }\n",
       "\n",
       "    .dataframe tbody tr th {\n",
       "        vertical-align: top;\n",
       "    }\n",
       "\n",
       "    .dataframe thead th {\n",
       "        text-align: right;\n",
       "    }\n",
       "</style>\n",
       "<table border=\"1\" class=\"dataframe\">\n",
       "  <thead>\n",
       "    <tr style=\"text-align: right;\">\n",
       "      <th></th>\n",
       "      <th>aa</th>\n",
       "      <th>ra</th>\n",
       "      <th>jc</th>\n",
       "      <th>pa</th>\n",
       "      <th>path_len</th>\n",
       "      <th>bet_cA</th>\n",
       "      <th>bet_cB</th>\n",
       "      <th>dc_A</th>\n",
       "      <th>dc_B</th>\n",
       "    </tr>\n",
       "  </thead>\n",
       "  <tbody>\n",
       "    <tr>\n",
       "      <th>0</th>\n",
       "      <td>0.000000</td>\n",
       "      <td>0.000000</td>\n",
       "      <td>0.000000</td>\n",
       "      <td>56</td>\n",
       "      <td>3</td>\n",
       "      <td>0.000004</td>\n",
       "      <td>0.000012</td>\n",
       "      <td>0.002124</td>\n",
       "      <td>0.001859</td>\n",
       "    </tr>\n",
       "    <tr>\n",
       "      <th>1</th>\n",
       "      <td>0.000000</td>\n",
       "      <td>0.000000</td>\n",
       "      <td>0.000000</td>\n",
       "      <td>24</td>\n",
       "      <td>5</td>\n",
       "      <td>0.000004</td>\n",
       "      <td>0.000000</td>\n",
       "      <td>0.002124</td>\n",
       "      <td>0.000797</td>\n",
       "    </tr>\n",
       "    <tr>\n",
       "      <th>2</th>\n",
       "      <td>0.000000</td>\n",
       "      <td>0.000000</td>\n",
       "      <td>0.000000</td>\n",
       "      <td>496</td>\n",
       "      <td>3</td>\n",
       "      <td>0.000000</td>\n",
       "      <td>0.007868</td>\n",
       "      <td>0.004249</td>\n",
       "      <td>0.008232</td>\n",
       "    </tr>\n",
       "    <tr>\n",
       "      <th>3</th>\n",
       "      <td>1.242670</td>\n",
       "      <td>0.400000</td>\n",
       "      <td>0.080000</td>\n",
       "      <td>72</td>\n",
       "      <td>1</td>\n",
       "      <td>0.001841</td>\n",
       "      <td>0.000000</td>\n",
       "      <td>0.006373</td>\n",
       "      <td>0.000797</td>\n",
       "    </tr>\n",
       "    <tr>\n",
       "      <th>4</th>\n",
       "      <td>0.000000</td>\n",
       "      <td>0.000000</td>\n",
       "      <td>0.000000</td>\n",
       "      <td>391</td>\n",
       "      <td>4</td>\n",
       "      <td>0.000000</td>\n",
       "      <td>0.000800</td>\n",
       "      <td>0.004514</td>\n",
       "      <td>0.006107</td>\n",
       "    </tr>\n",
       "    <tr>\n",
       "      <th>...</th>\n",
       "      <td>...</td>\n",
       "      <td>...</td>\n",
       "      <td>...</td>\n",
       "      <td>...</td>\n",
       "      <td>...</td>\n",
       "      <td>...</td>\n",
       "      <td>...</td>\n",
       "      <td>...</td>\n",
       "      <td>...</td>\n",
       "    </tr>\n",
       "    <tr>\n",
       "      <th>1995</th>\n",
       "      <td>0.000000</td>\n",
       "      <td>0.000000</td>\n",
       "      <td>0.000000</td>\n",
       "      <td>2</td>\n",
       "      <td>5</td>\n",
       "      <td>0.000000</td>\n",
       "      <td>0.000000</td>\n",
       "      <td>0.000266</td>\n",
       "      <td>0.000531</td>\n",
       "    </tr>\n",
       "    <tr>\n",
       "      <th>1996</th>\n",
       "      <td>0.000000</td>\n",
       "      <td>0.000000</td>\n",
       "      <td>0.000000</td>\n",
       "      <td>2</td>\n",
       "      <td>999</td>\n",
       "      <td>0.000000</td>\n",
       "      <td>0.000000</td>\n",
       "      <td>0.000531</td>\n",
       "      <td>0.000266</td>\n",
       "    </tr>\n",
       "    <tr>\n",
       "      <th>1997</th>\n",
       "      <td>0.000000</td>\n",
       "      <td>0.000000</td>\n",
       "      <td>0.000000</td>\n",
       "      <td>116</td>\n",
       "      <td>3</td>\n",
       "      <td>0.000000</td>\n",
       "      <td>0.003659</td>\n",
       "      <td>0.001062</td>\n",
       "      <td>0.007700</td>\n",
       "    </tr>\n",
       "    <tr>\n",
       "      <th>1998</th>\n",
       "      <td>1.766048</td>\n",
       "      <td>0.424368</td>\n",
       "      <td>0.053333</td>\n",
       "      <td>370</td>\n",
       "      <td>1</td>\n",
       "      <td>0.010468</td>\n",
       "      <td>0.000026</td>\n",
       "      <td>0.019649</td>\n",
       "      <td>0.001328</td>\n",
       "    </tr>\n",
       "    <tr>\n",
       "      <th>1999</th>\n",
       "      <td>0.000000</td>\n",
       "      <td>0.000000</td>\n",
       "      <td>0.000000</td>\n",
       "      <td>15</td>\n",
       "      <td>5</td>\n",
       "      <td>0.000000</td>\n",
       "      <td>0.000000</td>\n",
       "      <td>0.003983</td>\n",
       "      <td>0.000266</td>\n",
       "    </tr>\n",
       "  </tbody>\n",
       "</table>\n",
       "<p>2000 rows × 9 columns</p>\n",
       "</div>"
      ],
      "text/plain": [
       "            aa        ra        jc   pa  path_len    bet_cA    bet_cB  \\\n",
       "0     0.000000  0.000000  0.000000   56         3  0.000004  0.000012   \n",
       "1     0.000000  0.000000  0.000000   24         5  0.000004  0.000000   \n",
       "2     0.000000  0.000000  0.000000  496         3  0.000000  0.007868   \n",
       "3     1.242670  0.400000  0.080000   72         1  0.001841  0.000000   \n",
       "4     0.000000  0.000000  0.000000  391         4  0.000000  0.000800   \n",
       "...        ...       ...       ...  ...       ...       ...       ...   \n",
       "1995  0.000000  0.000000  0.000000    2         5  0.000000  0.000000   \n",
       "1996  0.000000  0.000000  0.000000    2       999  0.000000  0.000000   \n",
       "1997  0.000000  0.000000  0.000000  116         3  0.000000  0.003659   \n",
       "1998  1.766048  0.424368  0.053333  370         1  0.010468  0.000026   \n",
       "1999  0.000000  0.000000  0.000000   15         5  0.000000  0.000000   \n",
       "\n",
       "          dc_A      dc_B  \n",
       "0     0.002124  0.001859  \n",
       "1     0.002124  0.000797  \n",
       "2     0.004249  0.008232  \n",
       "3     0.006373  0.000797  \n",
       "4     0.004514  0.006107  \n",
       "...        ...       ...  \n",
       "1995  0.000266  0.000531  \n",
       "1996  0.000531  0.000266  \n",
       "1997  0.001062  0.007700  \n",
       "1998  0.019649  0.001328  \n",
       "1999  0.003983  0.000266  \n",
       "\n",
       "[2000 rows x 9 columns]"
      ]
     },
     "execution_count": 4,
     "metadata": {},
     "output_type": "execute_result"
    }
   ],
   "source": [
    "test.iloc[:,4:]"
   ]
  },
  {
   "cell_type": "code",
   "execution_count": 5,
   "metadata": {},
   "outputs": [],
   "source": [
    "x_train, x_test, y_train, y_test = train_test_split(df.iloc[:,4:], [\"pos\" if i <= df.shape[0]//2 else \"neg\" for i in range(df.shape[0])])"
   ]
  },
  {
   "cell_type": "code",
   "execution_count": 6,
   "metadata": {},
   "outputs": [
    {
     "name": "stdout",
     "output_type": "stream",
     "text": [
      "              precision    recall  f1-score   support\n",
      "\n",
      "         neg       1.00      1.00      1.00      3994\n",
      "         pos       1.00      1.00      1.00      4024\n",
      "\n",
      "    accuracy                           1.00      8018\n",
      "   macro avg       1.00      1.00      1.00      8018\n",
      "weighted avg       1.00      1.00      1.00      8018\n",
      "\n"
     ]
    }
   ],
   "source": [
    "LR = LogisticRegression(n_jobs = 4).fit(x_train, y_train)\n",
    "LRT = LR.predict(x_test)\n",
    "\n",
    "print(metrics.classification_report(y_test, LRT))\n"
   ]
  },
  {
   "cell_type": "code",
   "execution_count": 7,
   "metadata": {},
   "outputs": [],
   "source": [
    "probs = LR.predict_proba(x_test)"
   ]
  },
  {
   "cell_type": "code",
   "execution_count": 8,
   "metadata": {},
   "outputs": [
    {
     "data": {
      "text/plain": [
       "1.0"
      ]
     },
     "execution_count": 8,
     "metadata": {},
     "output_type": "execute_result"
    }
   ],
   "source": [
    "metrics.roc_auc_score(y_test, probs[:, 1])"
   ]
  },
  {
   "cell_type": "code",
   "execution_count": 9,
   "metadata": {},
   "outputs": [
    {
     "data": {
      "text/plain": [
       "Counter({'neg': 1259, 'pos': 741})"
      ]
     },
     "execution_count": 9,
     "metadata": {},
     "output_type": "execute_result"
    }
   ],
   "source": [
    "import collections\n",
    "collections.Counter(LR.predict(test.iloc[:,4:]))"
   ]
  },
  {
   "cell_type": "code",
   "execution_count": 10,
   "metadata": {},
   "outputs": [
    {
     "data": {
      "text/plain": [
       "Counter({'pos': 4024, 'neg': 3994})"
      ]
     },
     "execution_count": 10,
     "metadata": {},
     "output_type": "execute_result"
    }
   ],
   "source": [
    "collections.Counter(y_test)"
   ]
  },
  {
   "cell_type": "code",
   "execution_count": 11,
   "metadata": {},
   "outputs": [
    {
     "data": {
      "text/plain": [
       "Counter({'pos': 4024, 'neg': 3994})"
      ]
     },
     "execution_count": 11,
     "metadata": {},
     "output_type": "execute_result"
    }
   ],
   "source": [
    "collections.Counter(LR.predict(x_test))"
   ]
  },
  {
   "cell_type": "code",
   "execution_count": 12,
   "metadata": {},
   "outputs": [
    {
     "data": {
      "text/plain": [
       "array([9.41515443e-04, 1.46783542e-09, 7.41808693e-04, ...,\n",
       "       9.11624832e-04, 9.99930156e-01, 1.47512395e-09])"
      ]
     },
     "execution_count": 12,
     "metadata": {},
     "output_type": "execute_result"
    }
   ],
   "source": [
    "results = LR.predict_proba(test.iloc[:,4:])\n",
    "results[:,1]"
   ]
  },
  {
   "cell_type": "code",
   "execution_count": 13,
   "metadata": {},
   "outputs": [],
   "source": [
    "output = pd.DataFrame({'Id': [i for i in range(1,2001)], 'Predicted': results[:,1]})\n",
    "output.to_csv('result9features.csv', header = True, index= False)"
   ]
  },
  {
   "cell_type": "code",
   "execution_count": null,
   "metadata": {},
   "outputs": [],
   "source": [
    "#ridge regression\n",
    "\n",
    "clf = Ridge(alpha=1.0)\n",
    "clf.fit(X, y)"
   ]
  }
 ],
 "metadata": {
  "kernelspec": {
   "display_name": "Python 3",
   "language": "python",
   "name": "python3"
  },
  "language_info": {
   "codemirror_mode": {
    "name": "ipython",
    "version": 3
   },
   "file_extension": ".py",
   "mimetype": "text/x-python",
   "name": "python",
   "nbconvert_exporter": "python",
   "pygments_lexer": "ipython3",
   "version": "3.8.5"
  }
 },
 "nbformat": 4,
 "nbformat_minor": 4
}
