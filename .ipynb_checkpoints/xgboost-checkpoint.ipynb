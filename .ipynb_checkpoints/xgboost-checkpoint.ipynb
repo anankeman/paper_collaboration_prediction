{
 "cells": [
  {
   "cell_type": "code",
   "execution_count": 2,
   "id": "metallic-anxiety",
   "metadata": {},
   "outputs": [],
   "source": [
    "import csv\n",
    "import itertools\n",
    "import pandas as pd\n",
    "import numpy as np\n",
    "import networkx as nx\n",
    "import pickle"
   ]
  },
  {
   "cell_type": "code",
   "execution_count": 63,
   "id": "supposed-cross",
   "metadata": {},
   "outputs": [],
   "source": [
    "#Opens training labels ob file\n",
    "file_to_read= open('training_labels_combined.ob', 'rb')\n",
    "y_train = pickle.load(file_to_read)\n",
    "\n",
    "#Opens training_set\n",
    "X_train=pd.read_csv(\"training_data_combined.csv\")\n",
    "X_train.drop(['Unnamed: 0'],axis=1, inplace=True)"
   ]
  },
  {
   "cell_type": "code",
   "execution_count": 58,
   "id": "adjustable-thong",
   "metadata": {},
   "outputs": [],
   "source": [
    "#Opens test_set\n",
    "X_test=pd.read_csv(\"test_data.csv\")\n",
    "X_test.drop(['Unnamed: 0'],axis=1, inplace=True)"
   ]
  },
  {
   "cell_type": "code",
   "execution_count": 31,
   "id": "competent-titanium",
   "metadata": {},
   "outputs": [
    {
     "data": {
      "text/plain": [
       "array([0.00202579, 0.53742579, 0.0104365 , 0.00256161, 0.02006332])"
      ]
     },
     "execution_count": 31,
     "metadata": {},
     "output_type": "execute_result"
    }
   ],
   "source": [
    "from xgboost import XGBRegressor\n",
    "from sklearn.model_selection import cross_val_score\n",
    "\n",
    "scores = cross_val_score(XGBRegressor(), X_train, y_train, scoring='neg_mean_squared_error')\n",
    "(-scores)"
   ]
  },
  {
   "cell_type": "code",
   "execution_count": 59,
   "id": "corporate-horror",
   "metadata": {},
   "outputs": [
    {
     "name": "stdout",
     "output_type": "stream",
     "text": [
      "[20:11:42] WARNING: ..\\src\\learner.cc:1061: Starting in XGBoost 1.3.0, the default evaluation metric used with the objective 'binary:logistic' was changed from 'error' to 'logloss'. Explicitly set eval_metric if you'd like to restore the old behavior.\n"
     ]
    },
    {
     "data": {
      "text/plain": [
       "XGBRegressor(base_score=0.5, booster='gbtree', colsample_bylevel=1,\n",
       "             colsample_bynode=1, colsample_bytree=1, gamma=0, gpu_id=-1,\n",
       "             importance_type='gain', interaction_constraints='',\n",
       "             learning_rate=0.300000012, max_delta_step=0, max_depth=6,\n",
       "             min_child_weight=1, missing=nan, monotone_constraints='()',\n",
       "             n_estimators=100, n_jobs=12, num_parallel_tree=1,\n",
       "             objective='binary:logistic', random_state=42, reg_alpha=0,\n",
       "             reg_lambda=1, scale_pos_weight=1, subsample=1, tree_method='exact',\n",
       "             validate_parameters=1, verbosity=None)"
      ]
     },
     "execution_count": 59,
     "metadata": {},
     "output_type": "execute_result"
    }
   ],
   "source": [
    "import xgboost as xgb\n",
    "\n",
    "xgb_model = xgb.XGBRegressor(objective=\"binary:logistic\", random_state=42)\n",
    "\n",
    "xgb_model.fit(X_train, y_train)"
   ]
  },
  {
   "cell_type": "code",
   "execution_count": 60,
   "id": "elect-treatment",
   "metadata": {},
   "outputs": [],
   "source": [
    "result=pd.DataFrame(xgb_model.predict(X_test))\n",
    "result.reset_index(inplace=True)\n",
    "result.columns=['Id','Predicted']\n",
    "result.to_csv('preds.csv',index=False)"
   ]
  }
 ],
 "metadata": {
  "kernelspec": {
   "display_name": "Python 3",
   "language": "python",
   "name": "python3"
  },
  "language_info": {
   "codemirror_mode": {
    "name": "ipython",
    "version": 3
   },
   "file_extension": ".py",
   "mimetype": "text/x-python",
   "name": "python",
   "nbconvert_exporter": "python",
   "pygments_lexer": "ipython3",
   "version": "3.7.10"
  }
 },
 "nbformat": 4,
 "nbformat_minor": 5
}
