{
 "cells": [
  {
   "cell_type": "markdown",
   "metadata": {},
   "source": [
    "Evaluation of feature importance using mutual information regression."
   ]
  },
  {
   "cell_type": "code",
   "execution_count": 13,
   "metadata": {},
   "outputs": [],
   "source": [
    "from sklearn.feature_selection import mutual_info_regression\n",
    "from sklearn.feature_selection import mutual_info_classif\n",
    "import pandas as pd\n",
    "import pickle"
   ]
  },
  {
   "cell_type": "code",
   "execution_count": 17,
   "metadata": {},
   "outputs": [],
   "source": [
    "def importanceFeatures(dfTrain, trainLabels):\n",
    "    threshold = 8  # the number of most relevant features\n",
    "    high_score_features = []\n",
    "    feature_scores = mutual_info_classif(dfTrain, trainLabels, random_state=0)\n",
    "    for score, f_name in sorted(zip(feature_scores, dfTrain.columns), reverse=True)[:threshold]:\n",
    "            print(f_name, score)\n",
    "            high_score_features.append(f_name)"
   ]
  },
  {
   "cell_type": "code",
   "execution_count": 18,
   "metadata": {},
   "outputs": [],
   "source": [
    "dfTrain = pd.read_csv('Train_transformed7feat.csv')\n",
    "dfTrain.drop(dfTrain.columns[[0,1,2]], axis=1, inplace=True)\n",
    "file_to_read= open('training_labels_combined.ob', 'rb')\n",
    "labels = pickle.load(file_to_read)"
   ]
  },
  {
   "cell_type": "code",
   "execution_count": 19,
   "metadata": {},
   "outputs": [
    {
     "name": "stdout",
     "output_type": "stream",
     "text": [
      "path_len 0.693505749024491\n",
      "jc 0.567381286753496\n",
      "aa 0.5663003077469486\n",
      "ra 0.5654628672558912\n",
      "count 0.11904616947514968\n",
      "pa 0.07353670732994799\n",
      "bet_cB 0.0\n",
      "bet_cA 0.0\n"
     ]
    }
   ],
   "source": [
    "importanceFeatures(dfTrain, labels)"
   ]
  },
  {
   "cell_type": "code",
   "execution_count": null,
   "metadata": {},
   "outputs": [],
   "source": []
  }
 ],
 "metadata": {
  "kernelspec": {
   "display_name": "Python 3",
   "language": "python",
   "name": "python3"
  },
  "language_info": {
   "codemirror_mode": {
    "name": "ipython",
    "version": 3
   },
   "file_extension": ".py",
   "mimetype": "text/x-python",
   "name": "python",
   "nbconvert_exporter": "python",
   "pygments_lexer": "ipython3",
   "version": "3.8.5"
  }
 },
 "nbformat": 4,
 "nbformat_minor": 4
}
