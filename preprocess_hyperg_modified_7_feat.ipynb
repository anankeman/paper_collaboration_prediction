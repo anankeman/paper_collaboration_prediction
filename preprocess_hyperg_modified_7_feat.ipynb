{
 "cells": [
  {
   "cell_type": "code",
   "execution_count": 10,
   "metadata": {},
   "outputs": [],
   "source": [
    "import csv\n",
    "import itertools\n",
    "import pandas as pd\n",
    "import numpy as np\n",
    "import networkx as nx"
   ]
  },
  {
   "cell_type": "markdown",
   "metadata": {},
   "source": [
    "## Hypergraph to regular graph"
   ]
  },
  {
   "cell_type": "code",
   "execution_count": 11,
   "metadata": {},
   "outputs": [],
   "source": [
    "papers=[]\n",
    "with open(\"train.txt\", \"r\") as f:\n",
    "    for x in f:\n",
    "        token_list=x.rstrip(\"\\n\").split()\n",
    "        papers.append(token_list)"
   ]
  },
  {
   "cell_type": "code",
   "execution_count": 60,
   "metadata": {},
   "outputs": [
    {
     "name": "stdout",
     "output_type": "stream",
     "text": [
      "Name: \n",
      "Type: Graph\n",
      "Number of nodes: 3455\n",
      "Number of edges: 12756\n",
      "Average degree:   7.3841\n"
     ]
    }
   ],
   "source": [
    "np.random.seed(27)\n",
    "np.random.shuffle(papers)\n",
    "\n",
    "\n",
    "trainPapers = papers[2300:]\n",
    "devPapers = papers[:2300]\n",
    "\n",
    "def hyper2simple(papers):\n",
    "    graph=[]\n",
    "    for paper in papers:\n",
    "        for pair in itertools.combinations(paper, 2):\n",
    "            graph.append(pair)\n",
    "\n",
    "    graph_df=pd.DataFrame(graph, columns=['Author_A','Author_B'])\n",
    "    #Calculate weights\n",
    "    g_df = graph_df.groupby(['Author_A','Author_B']).size().reset_index().rename(columns={0:'count'})\n",
    "    #create undirectional graph \n",
    "    ng = nx.convert_matrix.from_pandas_edgelist(g_df, source= 'Author_A', target = 'Author_B', edge_attr= 'count')\n",
    "    return ng, g_df\n",
    "\n",
    "ng, df_pos = hyper2simple(trainPapers)\n",
    "dev_ng, df_dev = hyper2simple(devPapers)\n",
    "print(nx.info(ng))\n"
   ]
  },
  {
   "cell_type": "code",
   "execution_count": 39,
   "metadata": {},
   "outputs": [
    {
     "name": "stdout",
     "output_type": "stream",
     "text": [
      "Name: \n",
      "Type: Graph\n",
      "Number of nodes: 2218\n",
      "Number of edges: 6000\n",
      "Average degree:   5.4103\n"
     ]
    }
   ],
   "source": [
    "print(nx.info(dev_ng))"
   ]
  },
  {
   "cell_type": "markdown",
   "metadata": {},
   "source": [
    "## Create negative samples"
   ]
  },
  {
   "cell_type": "code",
   "execution_count": 61,
   "metadata": {},
   "outputs": [
    {
     "name": "stdout",
     "output_type": "stream",
     "text": [
      "Wall time: 1.2 s\n"
     ]
    }
   ],
   "source": [
    "%%time\n",
    "###generating negative edges from given graph\n",
    "def negativeSampleGenerator(g_df, ng):\n",
    "    import random\n",
    "    \n",
    "    edges = {i:1 for i in zip(g_df.Author_A,g_df.Author_B)}\n",
    "\n",
    "    authorlist_A = list(set(g_df['Author_A'].to_list()))\n",
    "    authorlist_B = list(set(g_df['Author_B'].to_list()))\n",
    "    random.seed(1687)\n",
    "    missing_edges = set([])\n",
    "    while (len(missing_edges)<g_df.shape[0]): # such that same number as positive edges\n",
    "        a=random.choice(authorlist_A) # as the authorlist in the train set, contains all possible authors.\n",
    "        b=random.choice(authorlist_B)\n",
    "        tmp = edges.get((a,b),-1)\n",
    "        if tmp == -1 and a!=b:\n",
    "            try:\n",
    "                if nx.shortest_path_length(ng,source=a,target=b) > 2 and (a,b) not in missing_edges and (b,a) not in missing_edges: \n",
    "\n",
    "                    missing_edges.add((a,b))\n",
    "                else:\n",
    "                    continue  \n",
    "            except:\n",
    "                if (a,b) not in missing_edges and (b,a) not in missing_edges:\n",
    "                    missing_edges.add((a,b))              \n",
    "        else:\n",
    "            continue\n",
    "    df_neg = pd.DataFrame(list(missing_edges), columns=['Author_A', 'Author_B'])\n",
    "    df_neg = df_neg.groupby(['Author_A','Author_B']).size().reset_index().rename(columns={0:'count'})\n",
    "    df_neg['Author_A'] = df_neg['Author_A'].astype(str)\n",
    "    df_neg['Author_B'] = df_neg['Author_B'].astype(str)\n",
    "    \n",
    "    return df_neg\n",
    "\n",
    "df_neg = negativeSampleGenerator(df_pos, ng)\n",
    "df_dev_neg = negativeSampleGenerator(df_dev, dev_ng) #check if should we use ng or dev_ng"
   ]
  },
  {
   "cell_type": "code",
   "execution_count": 62,
   "metadata": {},
   "outputs": [
    {
     "name": "stdout",
     "output_type": "stream",
     "text": [
      "(12756, 3) (6017, 3)\n"
     ]
    }
   ],
   "source": [
    "print(df_pos.shape, df_dev.shape)"
   ]
  },
  {
   "cell_type": "code",
   "execution_count": 63,
   "metadata": {},
   "outputs": [
    {
     "name": "stdout",
     "output_type": "stream",
     "text": [
      "(12756, 3) (6017, 3)\n"
     ]
    }
   ],
   "source": [
    "print(df_neg.shape, df_dev_neg.shape)"
   ]
  },
  {
   "cell_type": "markdown",
   "metadata": {},
   "source": [
    "### Comparing negative and positive graphs"
   ]
  },
  {
   "cell_type": "markdown",
   "metadata": {},
   "source": [
    "!!!!!!!!!!!!!!!!!!!!!!!!!!! \n",
    "Although is not required to create a negative graph, as we need to calculate each negative edge as it was an edge in the orginal graph"
   ]
  },
  {
   "cell_type": "markdown",
   "metadata": {},
   "source": [
    "#### Positive graph"
   ]
  },
  {
   "cell_type": "code",
   "execution_count": 6,
   "metadata": {},
   "outputs": [
    {
     "data": {
      "text/plain": [
       "142"
      ]
     },
     "execution_count": 6,
     "metadata": {},
     "output_type": "execute_result"
    }
   ],
   "source": [
    "nx.number_connected_components(ng)"
   ]
  },
  {
   "cell_type": "code",
   "execution_count": 7,
   "metadata": {},
   "outputs": [
    {
     "data": {
      "image/png": "[encoded data removed]",
      "text/plain": [
       "<Figure size 432x288 with 1 Axes>"
      ]
     },
     "metadata": {},
     "output_type": "display_data"
    }
   ],
   "source": [
    "import matplotlib as plt\n",
    "nx.draw_spring(ng,node_size = 10)"
   ]
  },
  {
   "cell_type": "code",
   "execution_count": 33,
   "metadata": {},
   "outputs": [],
   "source": [
    "import matplotlib.pyplot as plt\n",
    "import collections\n",
    "\n",
    "def plot_degree(G):\n",
    "    degree_sequence = sorted([d for n, d in G.degree()], reverse=True)  # degree sequence\n",
    "    degreeCount = collections.Counter(degree_sequence)\n",
    "    deg, cnt = zip(*degreeCount.items())\n",
    "\n",
    "    fig, ax = plt.subplots()\n",
    "    plt.bar(deg, cnt, width=0.80, color=\"b\");\n",
    "\n",
    "    plt.title(\"Degree Histogram\")\n",
    "    plt.ylabel(\"Count\")\n",
    "    plt.xlabel(\"Degree\")\n",
    "    ax.set_xticks([d + 0.4 for d in deg])\n",
    "    ax.set_xticklabels(deg);\n"
   ]
  },
  {
   "cell_type": "code",
   "execution_count": 34,
   "metadata": {},
   "outputs": [
    {
     "data": {
      "image/png": "[encoded data removed]",
      "text/plain": [
       "<Figure size 432x288 with 1 Axes>"
      ]
     },
     "metadata": {
      "needs_background": "light"
     },
     "output_type": "display_data"
    }
   ],
   "source": [
    "plot_degree(ng)"
   ]
  },
  {
   "cell_type": "markdown",
   "metadata": {},
   "source": [
    "#### negative graph"
   ]
  },
  {
   "cell_type": "code",
   "execution_count": 35,
   "metadata": {},
   "outputs": [
    {
     "data": {
      "image/png": "[encoded data removed]",
      "text/plain": [
       "<Figure size 432x288 with 1 Axes>"
      ]
     },
     "metadata": {},
     "output_type": "display_data"
    }
   ],
   "source": [
    "nx.draw_spring(dev_ng,node_size = 10)"
   ]
  },
  {
   "cell_type": "code",
   "execution_count": 36,
   "metadata": {},
   "outputs": [
    {
     "data": {
      "image/png": "[encoded data removed]",
      "text/plain": [
       "<Figure size 432x288 with 1 Axes>"
      ]
     },
     "metadata": {
      "needs_background": "light"
     },
     "output_type": "display_data"
    }
   ],
   "source": [
    "plot_degree(dev_ng)"
   ]
  },
  {
   "cell_type": "markdown",
   "metadata": {},
   "source": [
    "## Calculate features"
   ]
  },
  {
   "cell_type": "code",
   "execution_count": 18,
   "metadata": {},
   "outputs": [],
   "source": [
    "def feature_maker(edges):\n",
    "    features = []\n",
    "    for pair in edges:\n",
    "        feat = []\n",
    "        tmp_ng = ng.copy()\n",
    "        \n",
    "        #Add an edge to the network if node is not in training\n",
    "        if not (ng.has_node(pair[0]) and ng.has_node(pair[1])):\n",
    "            tmp_ng.add_edge(pair[0],pair[1])\n",
    "        \n",
    "        # Calculate features\n",
    "        try:\n",
    "            metric = nx.adamic_adar_index(tmp_ng, [pair])\n",
    "            for s,t,m in metric:\n",
    "                feat.append(m)\n",
    "        except:\n",
    "            feat.append(0)\n",
    "        try:\n",
    "            metric = nx.resource_allocation_index(tmp_ng, [pair])\n",
    "            for s,t,m in metric:\n",
    "                feat.append(m)\n",
    "        except:\n",
    "            feat.append(0)\n",
    "        try:\n",
    "            metric = nx.jaccard_coefficient(tmp_ng, [pair])\n",
    "            for s,t,m in metric:\n",
    "                feat.append(m)\n",
    "        except:\n",
    "            feat.append(0)\n",
    "        try:\n",
    "            metric = nx.preferential_attachment(tmp_ng, [pair])\n",
    "            for s,t,m in metric:\n",
    "                feat.append(m)\n",
    "        except:\n",
    "            feat.append(0)\n",
    "            \n",
    "        features.append(feat)\n",
    "    return features       "
   ]
  },
  {
   "cell_type": "code",
   "execution_count": 7,
   "metadata": {},
   "outputs": [],
   "source": [
    "def feature_maker2(edges):\n",
    "    features = []\n",
    "    between_centrality=nx.betweenness_centrality(ng)\n",
    "    for pair in edges:\n",
    "        feat = []\n",
    "        tmp_ng = ng.copy()\n",
    "        between_centrality_tmp={}\n",
    "        #Add an edge to the network if node is not in training\n",
    "        if not (ng.has_node(pair[0]) and ng.has_node(pair[1])):\n",
    "            tmp_ng.add_edge(pair[0],pair[1])\n",
    "            #print('not in network')\n",
    "            between_centrality_tmp=nx.betweenness_centrality(tmp_ng)\n",
    "        \n",
    "        # Calculate features\n",
    "        #Calculates length of the shortest path between \n",
    "        try:\n",
    "            distance=nx.shortest_path_length(tmp_ng,source=pair[0],target=pair[1])\n",
    "            #print('calculated short path for nodes',pair[0],'and',pair[1])\n",
    "            feat.append(distance)\n",
    "        except:\n",
    "            feat.append(999)\n",
    "        try:\n",
    "            if len(between_centrality_tmp)==0:\n",
    "                feat.append(between_centrality[pair[0]]) #Between centrality author A on original network\n",
    "                feat.append(between_centrality[pair[1]]) #Between centrality author B on original network\n",
    "            else:\n",
    "                feat.append(between_centrality_tmp[pair[0]]) #Between centrality author A on altered network\n",
    "                feat.append(between_centrality_tmp[pair[1]]) #Between centrality author B on altered network                           \n",
    "        except:\n",
    "            feat.append(0)\n",
    "            feat.append(0)\n",
    "#         try:\n",
    "#             metric = nx.jaccard_coefficient(tmp_ng, [pair])\n",
    "#             for s,t,m in metric:\n",
    "#                 feat.append(m)\n",
    "#         except:\n",
    "#             feat.append(0)\n",
    "#         try:\n",
    "#             metric = nx.preferential_attachment(tmp_ng, [pair])\n",
    "#             for s,t,m in metric:\n",
    "#                 feat.append(m)\n",
    "#         except:\n",
    "#             feat.append(0)    \n",
    "        features.append(feat)\n",
    "    return features "
   ]
  },
  {
   "cell_type": "code",
   "execution_count": 30,
   "metadata": {},
   "outputs": [],
   "source": [
    "def feature_maker3(edges):\n",
    "    features = []\n",
    "    #degree_centrality=nx.degree_centrality(ng)\n",
    "    #closeness_centrality = nx.closeness_centrality(ng)\n",
    "    hits = nx.hits(ng, max_iter=500)\n",
    "    #print(hits)\n",
    "    for pair in edges:\n",
    "        feat = []\n",
    "        tmp_ng = ng.copy()\n",
    "        #degree_centrality_tmp={}\n",
    "        #closeness_centrality_tmp = {}\n",
    "        hits_tmp = {}\n",
    "        #Add an edge to the network if node is not in training\n",
    "        if not (ng.has_node(pair[0]) and ng.has_node(pair[1])):\n",
    "            tmp_ng.add_edge(pair[0],pair[1])\n",
    "            #print('not in network')\n",
    "            #degree_centrality_tmp = nx.degree_centrality(tmp_ng)\n",
    "            #closeness_centrality_tmp = nx.closeness_centrality(tmp_ng)\n",
    "            hits_tmp = nx.hits(tmp_ng, max_iter=500)\n",
    "            \n",
    "        # Calculate features\n",
    "        \"\"\"\n",
    "        try:\n",
    "            if len(degree_centrality_tmp)==0:\n",
    "                feat.append(degree_centrality[pair[0]]) #degree centrality author A on original network\n",
    "                feat.append(degree_centrality[pair[1]]) #degree centrality author B on original network\n",
    "            else:\n",
    "                feat.append(degree_centrality_tmp[pair[0]]) #degree centrality author A on altered network\n",
    "                feat.append(degree_centrality_tmp[pair[1]]) #degree centrality author B on altered network \n",
    "        except:\n",
    "            feat.append(0)\n",
    "            feat.append(0)\n",
    "        try:\n",
    "            if len(closeness_centrality_tmp)==0:\n",
    "                feat.append(closeness_centrality[pair[0]]) #closeness centrality author A on original network\n",
    "                feat.append(closeness_centrality[pair[1]]) #closeness centrality author B on original network\n",
    "            else:\n",
    "                feat.append(closeness_centrality_tmp[pair[0]]) #closeness centrality author A on altered network\n",
    "                feat.append(closeness_centrality_tmp[pair[1]]) #closeness centrality author B on altered network \n",
    "                \n",
    "        except:\n",
    "            feat.append(0)\n",
    "            feat.append(0)\n",
    "        \"\"\"\n",
    "        try:\n",
    "            if len(hits_tmp)==0:\n",
    "                feat.append(hits[0][pair[0]]) #hits A\n",
    "                feat.append(hits[1][pair[0]]) #authorities A\n",
    "                feat.append(hits[0][pair[1]]) #hits B\n",
    "                feat.append(hits[1][pair[1]]) #authorities B\n",
    "            else:\n",
    "                feat.append(hits_tmp[0][pair[0]]) #hits A\n",
    "                feat.append(hits_tmp[1][pair[0]]) #authorities A\n",
    "                feat.append(hits_tmp[0][pair[1]]) #hits B\n",
    "                feat.append(hits_tmp[1][pair[1]]) #authorities B\n",
    "        except:\n",
    "            feat.append(0)\n",
    "            feat.append(0)\n",
    "            feat.append(0)\n",
    "            feat.append(0)\n",
    "            \n",
    "        features.append(feat)\n",
    "    return features "
   ]
  },
  {
   "cell_type": "code",
   "execution_count": 10,
   "metadata": {},
   "outputs": [],
   "source": [
    "def feature_maker4(edges):\n",
    "    features = []\n",
    "    common_neighbour=nx.common_neighbor_centrality(ng)\n",
    "    for pair in edges:\n",
    "        feat = []\n",
    "        tmp_ng = ng.copy()\n",
    "        common_neighbour_tmp={}\n",
    "        #Add an edge to the network if node is not in training\n",
    "        if not (ng.has_node(pair[0]) and ng.has_node(pair[1])):\n",
    "            tmp_ng.add_edge(pair[0],pair[1])\n",
    "            #print('not in network')\n",
    "            common_neighbour_tmp = nx.common_neighbor_centrality(tmp_ng)\n",
    "        \n",
    "        # Calculate features\n",
    "        try:\n",
    "            if len(common_neighbour_tmp)==0:\n",
    "                for common_neighbour\n",
    "                for u,v,p in common_neighbour:\n",
    "                    feat.append(p)\n",
    "            else:\n",
    "                feat.append(degree_centrality_tmp[pair[0]]) #degree centrality author A on altered network\n",
    "                feat.append(degree_centrality_tmp[pair[1]]) #degree centrality author B on altered network \n",
    "        except:\n",
    "            feat.append(0)\n",
    "            feat.append(0)"
   ]
  },
  {
   "cell_type": "markdown",
   "metadata": {},
   "source": [
    "## File name format"
   ]
  },
  {
   "cell_type": "code",
   "execution_count": null,
   "metadata": {},
   "outputs": [],
   "source": [
    "## train-comm_neighbour-degree_central_A_B.csv "
   ]
  },
  {
   "cell_type": "code",
   "execution_count": null,
   "metadata": {},
   "outputs": [],
   "source": [
    "common_neighbour=nx.common_neighbor_centrality(ng)"
   ]
  },
  {
   "cell_type": "markdown",
   "metadata": {},
   "source": [
    "## Apply features to datsets"
   ]
  },
  {
   "cell_type": "code",
   "execution_count": 41,
   "metadata": {},
   "outputs": [],
   "source": [
    "test_df = pd.read_csv('test-public.csv')"
   ]
  },
  {
   "cell_type": "code",
   "execution_count": 42,
   "metadata": {},
   "outputs": [],
   "source": [
    "#trainset pos\n",
    "edges = [(i,e) for i,e in zip(df_pos.Author_A, df_pos.Author_B)]\n",
    "featp = feature_maker(edges)\n",
    "featp = pd.DataFrame(featp, columns = ['aa','ra','jc','pa'])\n",
    "df_posR = pd.concat([df_pos, featp], axis = 1)"
   ]
  },
  {
   "cell_type": "code",
   "execution_count": 55,
   "metadata": {},
   "outputs": [
    {
     "name": "stdout",
     "output_type": "stream",
     "text": [
      "Wall time: 9min 36s\n"
     ]
    }
   ],
   "source": [
    "%%time\n",
    "#trainset neg\n",
    "edges = [(i,e) for i,e in zip(df_neg.Author_A, df_neg.Author_B)]\n",
    "featn = feature_maker(edges)\n",
    "featn = pd.DataFrame(featn, columns = ['aa','ra','jc','pa'])\n",
    "df_negR = pd.concat([df_neg, featn], axis = 1)"
   ]
  },
  {
   "cell_type": "code",
   "execution_count": 56,
   "metadata": {},
   "outputs": [],
   "source": [
    "df_posR['label'] = [1 for i in range(df_posR.shape[0])]\n",
    "df_negR['label'] = [0 for i in range(df_negR.shape[0])]\n",
    "df_train = pd.concat([df_posR, df_negR], axis = 0)\n",
    "df_train.to_csv('train1.csv')"
   ]
  },
  {
   "cell_type": "code",
   "execution_count": 45,
   "metadata": {},
   "outputs": [],
   "source": [
    "#Dev set pos\n",
    "edges = [(i,e) for i,e in zip(df_dev.Author_A, df_dev.Author_B)]\n",
    "featdp = feature_maker(edges)\n",
    "featdp = pd.DataFrame(featdp, columns = ['aa','ra','jc','pa'])\n",
    "df_devR = pd.concat([df_dev, featdp], axis = 1)"
   ]
  },
  {
   "cell_type": "code",
   "execution_count": 57,
   "metadata": {},
   "outputs": [],
   "source": [
    "#devset neg\n",
    "edges = [(i,e) for i,e in zip(df_dev_neg.Author_A, df_dev_neg.Author_B)]\n",
    "featdn = feature_maker(edges)\n",
    "featdn = pd.DataFrame(featdn, columns = ['aa','ra','jc','pa'])\n",
    "df_dev_negR = pd.concat([df_dev_neg, featdn], axis = 1)"
   ]
  },
  {
   "cell_type": "code",
   "execution_count": 58,
   "metadata": {},
   "outputs": [],
   "source": [
    "df_devR['label'] = [1 for i in range(df_devR.shape[0])]\n",
    "df_dev_negR['label'] = [0 for i in range(df_dev_negR.shape[0])]\n",
    "df_devop = pd.concat([df_devR, df_dev_negR], axis = 0)\n",
    "df_devop.to_csv('dev1.csv')"
   ]
  },
  {
   "cell_type": "code",
   "execution_count": 48,
   "metadata": {},
   "outputs": [],
   "source": [
    "#test set\n",
    "edges = [(str(i),str(e)) for i,e in zip(test_df.Source, test_df.Sink)]\n",
    "featt = feature_maker(edges)\n",
    "featt = pd.DataFrame(featt, columns = ['aa','ra','jc','pa'])\n",
    "test_dfR = pd.concat([test_df, featt], axis = 1)\n",
    "test_dfR.to_csv(\"test1.csv\")"
   ]
  },
  {
   "cell_type": "markdown",
   "metadata": {},
   "source": [
    "### other old Staff"
   ]
  },
  {
   "cell_type": "code",
   "execution_count": 32,
   "metadata": {},
   "outputs": [
    {
     "data": {
      "text/html": [
       "<div>\n",
       "<style scoped>\n",
       "    .dataframe tbody tr th:only-of-type {\n",
       "        vertical-align: middle;\n",
       "    }\n",
       "\n",
       "    .dataframe tbody tr th {\n",
       "        vertical-align: top;\n",
       "    }\n",
       "\n",
       "    .dataframe thead th {\n",
       "        text-align: right;\n",
       "    }\n",
       "</style>\n",
       "<table border=\"1\" class=\"dataframe\">\n",
       "  <thead>\n",
       "    <tr style=\"text-align: right;\">\n",
       "      <th></th>\n",
       "      <th>Author_A</th>\n",
       "      <th>Author_B</th>\n",
       "      <th>count</th>\n",
       "      <th>hits_A</th>\n",
       "      <th>authorities_A</th>\n",
       "      <th>hits_B</th>\n",
       "      <th>authorities_B</th>\n",
       "    </tr>\n",
       "  </thead>\n",
       "  <tbody>\n",
       "    <tr>\n",
       "      <th>0</th>\n",
       "      <td>0</td>\n",
       "      <td>1236</td>\n",
       "      <td>14</td>\n",
       "      <td>0.000003</td>\n",
       "      <td>0.000003</td>\n",
       "      <td>0.000057</td>\n",
       "      <td>0.000057</td>\n",
       "    </tr>\n",
       "    <tr>\n",
       "      <th>1</th>\n",
       "      <td>0</td>\n",
       "      <td>1655</td>\n",
       "      <td>9</td>\n",
       "      <td>0.000003</td>\n",
       "      <td>0.000003</td>\n",
       "      <td>0.000011</td>\n",
       "      <td>0.000011</td>\n",
       "    </tr>\n",
       "    <tr>\n",
       "      <th>2</th>\n",
       "      <td>0</td>\n",
       "      <td>1797</td>\n",
       "      <td>4</td>\n",
       "      <td>0.000003</td>\n",
       "      <td>0.000003</td>\n",
       "      <td>0.000003</td>\n",
       "      <td>0.000003</td>\n",
       "    </tr>\n",
       "    <tr>\n",
       "      <th>3</th>\n",
       "      <td>0</td>\n",
       "      <td>2414</td>\n",
       "      <td>1</td>\n",
       "      <td>0.000003</td>\n",
       "      <td>0.000003</td>\n",
       "      <td>0.000002</td>\n",
       "      <td>0.000002</td>\n",
       "    </tr>\n",
       "    <tr>\n",
       "      <th>4</th>\n",
       "      <td>0</td>\n",
       "      <td>2568</td>\n",
       "      <td>8</td>\n",
       "      <td>0.000003</td>\n",
       "      <td>0.000003</td>\n",
       "      <td>0.000018</td>\n",
       "      <td>0.000018</td>\n",
       "    </tr>\n",
       "    <tr>\n",
       "      <th>...</th>\n",
       "      <td>...</td>\n",
       "      <td>...</td>\n",
       "      <td>...</td>\n",
       "      <td>...</td>\n",
       "      <td>...</td>\n",
       "      <td>...</td>\n",
       "      <td>...</td>\n",
       "    </tr>\n",
       "    <tr>\n",
       "      <th>16031</th>\n",
       "      <td>999</td>\n",
       "      <td>2038</td>\n",
       "      <td>1</td>\n",
       "      <td>0.000229</td>\n",
       "      <td>0.000229</td>\n",
       "      <td>0.000807</td>\n",
       "      <td>0.000807</td>\n",
       "    </tr>\n",
       "    <tr>\n",
       "      <th>16032</th>\n",
       "      <td>999</td>\n",
       "      <td>2250</td>\n",
       "      <td>4</td>\n",
       "      <td>0.000229</td>\n",
       "      <td>0.000229</td>\n",
       "      <td>0.000227</td>\n",
       "      <td>0.000227</td>\n",
       "    </tr>\n",
       "    <tr>\n",
       "      <th>16033</th>\n",
       "      <td>999</td>\n",
       "      <td>2600</td>\n",
       "      <td>1</td>\n",
       "      <td>0.000229</td>\n",
       "      <td>0.000229</td>\n",
       "      <td>0.000117</td>\n",
       "      <td>0.000117</td>\n",
       "    </tr>\n",
       "    <tr>\n",
       "      <th>16034</th>\n",
       "      <td>999</td>\n",
       "      <td>2905</td>\n",
       "      <td>3</td>\n",
       "      <td>0.000229</td>\n",
       "      <td>0.000229</td>\n",
       "      <td>0.000045</td>\n",
       "      <td>0.000045</td>\n",
       "    </tr>\n",
       "    <tr>\n",
       "      <th>16035</th>\n",
       "      <td>999</td>\n",
       "      <td>3926</td>\n",
       "      <td>1</td>\n",
       "      <td>0.000229</td>\n",
       "      <td>0.000229</td>\n",
       "      <td>0.000596</td>\n",
       "      <td>0.000596</td>\n",
       "    </tr>\n",
       "  </tbody>\n",
       "</table>\n",
       "<p>16036 rows × 7 columns</p>\n",
       "</div>"
      ],
      "text/plain": [
       "      Author_A Author_B  count    hits_A  authorities_A    hits_B  \\\n",
       "0            0     1236     14  0.000003       0.000003  0.000057   \n",
       "1            0     1655      9  0.000003       0.000003  0.000011   \n",
       "2            0     1797      4  0.000003       0.000003  0.000003   \n",
       "3            0     2414      1  0.000003       0.000003  0.000002   \n",
       "4            0     2568      8  0.000003       0.000003  0.000018   \n",
       "...        ...      ...    ...       ...            ...       ...   \n",
       "16031      999     2038      1  0.000229       0.000229  0.000807   \n",
       "16032      999     2250      4  0.000229       0.000229  0.000227   \n",
       "16033      999     2600      1  0.000229       0.000229  0.000117   \n",
       "16034      999     2905      3  0.000229       0.000229  0.000045   \n",
       "16035      999     3926      1  0.000229       0.000229  0.000596   \n",
       "\n",
       "       authorities_B  \n",
       "0           0.000057  \n",
       "1           0.000011  \n",
       "2           0.000003  \n",
       "3           0.000002  \n",
       "4           0.000018  \n",
       "...              ...  \n",
       "16031       0.000807  \n",
       "16032       0.000227  \n",
       "16033       0.000117  \n",
       "16034       0.000045  \n",
       "16035       0.000596  \n",
       "\n",
       "[16036 rows x 7 columns]"
      ]
     },
     "execution_count": 32,
     "metadata": {},
     "output_type": "execute_result"
    }
   ],
   "source": [
    "#Positive instances\n",
    "edges = [(i,e) for i,e in zip(df_pos.Author_A, df_pos.Author_B)]\n",
    "\"\"\"\n",
    "feat = feature_maker(edges)\n",
    "feat = pd.DataFrame(feat, columns = ['aa','ra','jc','pa'])\n",
    "feat2 = feature_maker2(edges)\n",
    "feat2 = pd.DataFrame(feat2, columns = ['path_len','bet_cA','bet_cB'])\n",
    "\"\"\"\n",
    "feat3 = feature_maker3(edges)\n",
    "feat3 = pd.DataFrame(feat3, columns = ['hits_A','authorities_A','hits_B','authorities_B'])\n",
    "\"\"\"\n",
    "feat4 = feature_maker4(edges)\n",
    "feat4 = pd.DataFrame(feat4, columns = ['common_neigh_centr'])\n",
    "\"\"\"\n",
    "#df_pos2 = pd.concat([df_pos, feat,feat2], axis = 1)\n",
    "df_pos2 = pd.concat([df_pos, feat3], axis = 1)\n",
    "df_pos2"
   ]
  },
  {
   "cell_type": "code",
   "execution_count": 31,
   "metadata": {},
   "outputs": [
    {
     "name": "stdout",
     "output_type": "stream",
     "text": [
      "[[3.1662441796204187e-06, 3.1662441797505687e-06, 5.7136290686742184e-05, 5.713629068892072e-05]]\n"
     ]
    }
   ],
   "source": [
    "prueba=feature_maker3([('0','1236')])\n",
    "print(prueba)"
   ]
  },
  {
   "cell_type": "code",
   "execution_count": 8,
   "metadata": {},
   "outputs": [],
   "source": []
  },
  {
   "cell_type": "code",
   "execution_count": 33,
   "metadata": {},
   "outputs": [
    {
     "data": {
      "text/html": [
       "<div>\n",
       "<style scoped>\n",
       "    .dataframe tbody tr th:only-of-type {\n",
       "        vertical-align: middle;\n",
       "    }\n",
       "\n",
       "    .dataframe tbody tr th {\n",
       "        vertical-align: top;\n",
       "    }\n",
       "\n",
       "    .dataframe thead th {\n",
       "        text-align: right;\n",
       "    }\n",
       "</style>\n",
       "<table border=\"1\" class=\"dataframe\">\n",
       "  <thead>\n",
       "    <tr style=\"text-align: right;\">\n",
       "      <th></th>\n",
       "      <th>Author_A</th>\n",
       "      <th>Author_B</th>\n",
       "      <th>count</th>\n",
       "      <th>hits_A</th>\n",
       "      <th>authorities_A</th>\n",
       "      <th>hits_B</th>\n",
       "      <th>authorities_B</th>\n",
       "    </tr>\n",
       "  </thead>\n",
       "  <tbody>\n",
       "    <tr>\n",
       "      <th>0</th>\n",
       "      <td>0</td>\n",
       "      <td>1044</td>\n",
       "      <td>1</td>\n",
       "      <td>0.000003</td>\n",
       "      <td>0.000003</td>\n",
       "      <td>4.560257e-06</td>\n",
       "      <td>4.560257e-06</td>\n",
       "    </tr>\n",
       "    <tr>\n",
       "      <th>1</th>\n",
       "      <td>0</td>\n",
       "      <td>2477</td>\n",
       "      <td>1</td>\n",
       "      <td>0.000003</td>\n",
       "      <td>0.000003</td>\n",
       "      <td>8.384335e-07</td>\n",
       "      <td>8.384335e-07</td>\n",
       "    </tr>\n",
       "    <tr>\n",
       "      <th>2</th>\n",
       "      <td>0</td>\n",
       "      <td>2757</td>\n",
       "      <td>1</td>\n",
       "      <td>0.000003</td>\n",
       "      <td>0.000003</td>\n",
       "      <td>2.879278e-04</td>\n",
       "      <td>2.879278e-04</td>\n",
       "    </tr>\n",
       "    <tr>\n",
       "      <th>3</th>\n",
       "      <td>0</td>\n",
       "      <td>2860</td>\n",
       "      <td>1</td>\n",
       "      <td>0.000003</td>\n",
       "      <td>0.000003</td>\n",
       "      <td>2.014412e-04</td>\n",
       "      <td>2.014412e-04</td>\n",
       "    </tr>\n",
       "    <tr>\n",
       "      <th>4</th>\n",
       "      <td>0</td>\n",
       "      <td>3338</td>\n",
       "      <td>1</td>\n",
       "      <td>0.000003</td>\n",
       "      <td>0.000003</td>\n",
       "      <td>3.075000e-04</td>\n",
       "      <td>3.075000e-04</td>\n",
       "    </tr>\n",
       "    <tr>\n",
       "      <th>...</th>\n",
       "      <td>...</td>\n",
       "      <td>...</td>\n",
       "      <td>...</td>\n",
       "      <td>...</td>\n",
       "      <td>...</td>\n",
       "      <td>...</td>\n",
       "      <td>...</td>\n",
       "    </tr>\n",
       "    <tr>\n",
       "      <th>16031</th>\n",
       "      <td>999</td>\n",
       "      <td>1831</td>\n",
       "      <td>1</td>\n",
       "      <td>0.000229</td>\n",
       "      <td>0.000229</td>\n",
       "      <td>4.054785e-04</td>\n",
       "      <td>4.054785e-04</td>\n",
       "    </tr>\n",
       "    <tr>\n",
       "      <th>16032</th>\n",
       "      <td>999</td>\n",
       "      <td>204</td>\n",
       "      <td>1</td>\n",
       "      <td>0.000229</td>\n",
       "      <td>0.000229</td>\n",
       "      <td>5.737906e-07</td>\n",
       "      <td>5.737906e-07</td>\n",
       "    </tr>\n",
       "    <tr>\n",
       "      <th>16033</th>\n",
       "      <td>999</td>\n",
       "      <td>2682</td>\n",
       "      <td>1</td>\n",
       "      <td>0.000229</td>\n",
       "      <td>0.000229</td>\n",
       "      <td>3.291513e-05</td>\n",
       "      <td>3.291513e-05</td>\n",
       "    </tr>\n",
       "    <tr>\n",
       "      <th>16034</th>\n",
       "      <td>999</td>\n",
       "      <td>3483</td>\n",
       "      <td>1</td>\n",
       "      <td>0.000229</td>\n",
       "      <td>0.000229</td>\n",
       "      <td>2.258293e-05</td>\n",
       "      <td>2.258293e-05</td>\n",
       "    </tr>\n",
       "    <tr>\n",
       "      <th>16035</th>\n",
       "      <td>999</td>\n",
       "      <td>350</td>\n",
       "      <td>1</td>\n",
       "      <td>0.000229</td>\n",
       "      <td>0.000229</td>\n",
       "      <td>3.084950e-04</td>\n",
       "      <td>3.084950e-04</td>\n",
       "    </tr>\n",
       "  </tbody>\n",
       "</table>\n",
       "<p>16036 rows × 7 columns</p>\n",
       "</div>"
      ],
      "text/plain": [
       "      Author_A Author_B  count    hits_A  authorities_A        hits_B  \\\n",
       "0            0     1044      1  0.000003       0.000003  4.560257e-06   \n",
       "1            0     2477      1  0.000003       0.000003  8.384335e-07   \n",
       "2            0     2757      1  0.000003       0.000003  2.879278e-04   \n",
       "3            0     2860      1  0.000003       0.000003  2.014412e-04   \n",
       "4            0     3338      1  0.000003       0.000003  3.075000e-04   \n",
       "...        ...      ...    ...       ...            ...           ...   \n",
       "16031      999     1831      1  0.000229       0.000229  4.054785e-04   \n",
       "16032      999      204      1  0.000229       0.000229  5.737906e-07   \n",
       "16033      999     2682      1  0.000229       0.000229  3.291513e-05   \n",
       "16034      999     3483      1  0.000229       0.000229  2.258293e-05   \n",
       "16035      999      350      1  0.000229       0.000229  3.084950e-04   \n",
       "\n",
       "       authorities_B  \n",
       "0       4.560257e-06  \n",
       "1       8.384335e-07  \n",
       "2       2.879278e-04  \n",
       "3       2.014412e-04  \n",
       "4       3.075000e-04  \n",
       "...              ...  \n",
       "16031   4.054785e-04  \n",
       "16032   5.737906e-07  \n",
       "16033   3.291513e-05  \n",
       "16034   2.258293e-05  \n",
       "16035   3.084950e-04  \n",
       "\n",
       "[16036 rows x 7 columns]"
      ]
     },
     "execution_count": 33,
     "metadata": {},
     "output_type": "execute_result"
    }
   ],
   "source": [
    "#Negative instances\n",
    "edges = [(i,e) for i,e in zip(df_neg.Author_A, df_neg.Author_B)]\n",
    "\"\"\"\n",
    "feat = feature_maker(edges)\n",
    "feat = pd.DataFrame(feat, columns = ['aa','ra','jc','pa'])\n",
    "feat2 = feature_maker2(edges)\n",
    "feat2 = pd.DataFrame(feat2, columns = ['path_len','bet_cA','bet_cB'])\n",
    "\"\"\"\n",
    "feat3 = feature_maker3(edges)\n",
    "feat3 = pd.DataFrame(feat3, columns = ['hits_A','authorities_A','hits_B','authorities_B'])\n",
    "\"\"\"\n",
    "feat4 = feature_maker4(edges)\n",
    "feat4 = pd.DataFrame(feat4, columns = ['common_neigh_centr'])\n",
    "\"\"\"\n",
    "#df_neg2 = pd.concat([df_neg, feat, feat2], axis = 1)\n",
    "df_neg2 = pd.concat([df_neg, feat3], axis = 1)\n",
    "df_neg2"
   ]
  },
  {
   "cell_type": "code",
   "execution_count": 34,
   "metadata": {},
   "outputs": [],
   "source": [
    "df_train = pd.concat([df_pos2, df_neg2], axis = 0)\n",
    "#df_train.to_csv('train_transformed7feat.csv')\n",
    "df_train.to_csv('train_add_hits.csv')"
   ]
  },
  {
   "cell_type": "code",
   "execution_count": 35,
   "metadata": {},
   "outputs": [],
   "source": [
    "#Test set\n",
    "edges = [(str(i),str(e)) for i,e in zip(test_df.Source, test_df.Sink)]\n",
    "\"\"\"\n",
    "feat = feature_maker(edges)\n",
    "feat = pd.DataFrame(feat, columns = ['aa','ra','jc','pa'])\n",
    "feat2 = feature_maker2(edges)\n",
    "feat2 = pd.DataFrame(feat2, columns = ['path_len','bet_cA','bet_cB'])\n",
    "\"\"\"\n",
    "feat3 = feature_maker3(edges)\n",
    "feat3 = pd.DataFrame(feat3, columns = ['hits_A','authorities_A','hits_B','authorities_B'])\n",
    "\"\"\"\n",
    "feat4 = feature_maker4(edges)\n",
    "feat4 = pd.DataFrame(feat4, columns = ['common_neigh_centr'])\n",
    "#test = pd.concat([test_df, feat, feat2], axis =1)\n",
    "\"\"\"\n",
    "test = pd.concat([test_df, feat3], axis =1)   \n",
    "\n",
    "\n",
    "#test.to_csv('test_transformed7feat.csv')\n",
    "test.to_csv('test_add_hits.csv')"
   ]
  },
  {
   "cell_type": "markdown",
   "metadata": {},
   "source": [
    "# OLD STUFF"
   ]
  },
  {
   "cell_type": "code",
   "execution_count": null,
   "metadata": {},
   "outputs": [],
   "source": [
    "\"\"\"\n",
    "tested features\n",
    "\n",
    "\n",
    "\"\"\"\n",
    "feature_1 = []\n",
    "metric = nx.common_neighbor_centrality(ng)\n",
    "for s,t in ng.edges():\n",
    "    try:\n",
    "        for u,v,p in metric:\n",
    "            feature_1.append(p)\n",
    "    except:\n",
    "        feature_1.append(0)\n",
    "\n",
    "katz = nx.katz.katz_centrality(ng)\n",
    "# Katz centrality Author_A - doesn't converge.\n",
    "feature_10 = []\n",
    "for s,t in ng.edges():\n",
    "    try:\n",
    "        kc = katz[s]\n",
    "        feature_10.append(kc)\n",
    "    except:\n",
    "        feature_10.append(0)\n",
    "\n",
    "# Katz centrality Author_B\n",
    "feature_11 = []\n",
    "for s,t in ng.edges():\n",
    "    try:\n",
    "        kc = katz[t]\n",
    "        feature_11.append(kc)\n",
    "    except:\n",
    "        feature_11.append(0)\n",
    "\n",
    "katz = nx.katz.katz_centrality(ng_neg)\n",
    "# Katz centrality Author_A neg edges.\n",
    "feature_10_neg = []\n",
    "for s,t in ng_neg.edges():\n",
    "    try:\n",
    "        kc = katz[s]\n",
    "        feature_10_neg.append(kc)\n",
    "    except:\n",
    "        feature_10_neg.append(0)\n",
    "\n",
    "# Katz centrality Author_B neg edges.\n",
    "feature_11_neg = []\n",
    "for s,t in ng_neg.edges():\n",
    "    try:\n",
    "        kc = katz[t]\n",
    "        feature_11_neg.append(kc)\n",
    "    except:\n",
    "        feature_11_neg.append(0)"
   ]
  },
  {
   "cell_type": "code",
   "execution_count": 34,
   "metadata": {},
   "outputs": [],
   "source": [
    "def extract_feats(g, ds = 'train'):\n",
    "    btwc = nx.edge_betweenness_centrality(g)\n",
    "    feature_2 = []\n",
    "    feature_3 = []\n",
    "    cc = nx.closeness_centrality(g)\n",
    "    feature_4 = []\n",
    "    dc = nx.degree_centrality(g)\n",
    "    feature_5 = []\n",
    "    feature_6 = []\n",
    "    feature_7 = []\n",
    "    pr = nx.pagerank(g)\n",
    "    # pagerank Author_A.\n",
    "    feature_8 = []\n",
    "    # pagerank Author_B.\n",
    "    feature_9 = []\n",
    "    hits = nx.hits(g, max_iter=500)\n",
    "    # for Author A.\n",
    "    feature_12 = []\n",
    "    feature_13 = []\n",
    "    # for Author B.\n",
    "    feature_14 = []\n",
    "    feature_15 = []\n",
    "    \n",
    "    for s,t in g.edges():\n",
    "        if g.get_edge_data(s, t)['dataset'] == ds:\n",
    "            try:\n",
    "                feature_2.append(btwc[(str(s),str(t))])\n",
    "                metric = nx.adamic_adar_index(g, [(s,t)])\n",
    "\n",
    "                for u,v,p in metric:\n",
    "                    feature_3.append(p)\n",
    "                feature_4.append(cc[str(s)])\n",
    "                feature_5.append(dc[str(s)])\n",
    "\n",
    "                metric = nx.jaccard_coefficient(g, [(s,t)])\n",
    "                for u,v,p in metric:\n",
    "                    feature_6.append(p)\n",
    "                metric = nx.preferential_attachment(g, [(s,t)])\n",
    "                for u,v,p in metric:\n",
    "                    feature_7.append(p)\n",
    "                rank = pr[s]\n",
    "                feature_8.append(rank)\n",
    "                rank = pr[t]\n",
    "                feature_9.append(rank)\n",
    "                hit_i = hits[0][s]\n",
    "                hit_j = hits[1][s]\n",
    "                feature_12.append(hit_i)\n",
    "                feature_13.append(hit_j)\n",
    "                hit_i = hits[0][t]\n",
    "                hit_j = hits[1][t]\n",
    "                feature_14.append(hit_i)\n",
    "                feature_15.append(hit_j)\n",
    "            except:\n",
    "                feature_2.append(0)\n",
    "                feature_3.append(0)\n",
    "                feature_4.append(0)\n",
    "                feature_5.append(0)\n",
    "                feature_6.append(0)\n",
    "                feature_7.append(0)\n",
    "                feature_8.append(0)\n",
    "                feature_9.append(0)\n",
    "                feature_12.append(0)\n",
    "                feature_13.append(0)\n",
    "                feature_14.append(0)\n",
    "                feature_15.append(0)\n",
    "    return feature_2, feature_3, feature_4, feature_5, feature_6, feature_7, feature_8, feature_9, feature_12, feature_13, feature_14, feature_15  \n",
    "\n",
    "\n",
    "# need \"community\" information for that. Do we have that piece of information?\n",
    "#wic = nx.within_inter_cluster(ng)"
   ]
  },
  {
   "cell_type": "code",
   "execution_count": null,
   "metadata": {},
   "outputs": [],
   "source": [
    "#df_pos['cnc'] = feature_1\n",
    "df_pos['btwc'] = feature_2(ng)\n",
    "df_pos['adar'] = feature_3(ng)\n",
    "df_pos['cc'] = feature_4(ng)\n",
    "df_pos['dc'] = feature_5(ng)\n",
    "df_pos['jc'] = feature_6(ng)\n",
    "df_pos['pa'] = feature_7(ng)\n",
    "df_pos['pagerank_A'] = feature_8(ng)\n",
    "df_pos['pagerank_B'] = feature_9(ng)\n",
    "#df_pos['katz_A'] = feature_10\n",
    "#df_pos['katz_B'] = feature_11\n",
    "df_pos['hits_authority_A'], df_pos['hits_hubs_A'] = feature_12_13(ng)\n",
    "df_pos['hits_authority_B'], df_pos['hits_hubs_B'] = feature_14_15(ng)\n",
    "#df_neg['cnc'] = feature_1_neg\n",
    "df_neg['btwc'] = feature_2(ng_neg)\n",
    "df_neg['adar'] = feature_3(ng_neg)\n",
    "df_neg['cc'] = feature_4(ng_neg)\n",
    "df_neg['dc'] = feature_5(ng_neg)\n",
    "df_neg['jc'] = feature_6(ng_neg)\n",
    "df_neg['pa'] = feature_7(ng_neg)\n",
    "df_neg['pagerank_A'] = feature_8(ng_neg)\n",
    "df_neg['pagerank_B'] = feature_9(ng_neg)\n",
    "#df_neg['katz_A'] = feature_10_neg\n",
    "#df_neg['katz_B'] = feature_11_neg\n",
    "df_neg['hits_authority_A'], df_neg['hits_hubs_A'] = feature_12_13(ng_neg)\n",
    "df_neg['hits_authority_B'], df_neg['hits_hubs_B'] = feature_14_15(ng_neg)"
   ]
  },
  {
   "cell_type": "code",
   "execution_count": 152,
   "metadata": {},
   "outputs": [],
   "source": [
    "import pickle\n",
    "df_pos.to_csv(\"pos_training_data.csv\")\n",
    "df_neg.to_csv(\"neg_training_data.csv\")\n",
    "with open('pos_training_labels.ob', 'wb') as fp:\n",
    "    pickle.dump(y_pos, fp)\n",
    "with open('neg_training_labels.ob', 'wb') as fp:\n",
    "    pickle.dump(y_neg, fp)\n",
    "df_final_train = df_pos.append(df_neg,ignore_index=True)\n",
    "y_final_train = np.concatenate((y_pos,y_neg))\n",
    "df_final_train.to_csv(\"training_data_combined.csv\")\n",
    "with open('training_labels_combined.ob', 'wb') as fp:\n",
    "    pickle.dump(y_final_train, fp)"
   ]
  },
  {
   "cell_type": "code",
   "execution_count": null,
   "metadata": {},
   "outputs": [],
   "source": [
    "df_final_train = pd.read_csv(\"training_data_combined.csv\")"
   ]
  },
  {
   "cell_type": "markdown",
   "metadata": {},
   "source": [
    "### Transform test set"
   ]
  },
  {
   "cell_type": "markdown",
   "metadata": {},
   "source": [
    "#### First try of gettin mixing test and train network to calculate features properly. Didnt work"
   ]
  },
  {
   "cell_type": "code",
   "execution_count": 82,
   "metadata": {},
   "outputs": [
    {
     "ename": "KeyboardInterrupt",
     "evalue": "",
     "output_type": "error",
     "traceback": [
      "\u001b[1;31m---------------------------------------------------------------------------\u001b[0m",
      "\u001b[1;31mKeyboardInterrupt\u001b[0m                         Traceback (most recent call last)",
      "\u001b[1;32m<ipython-input-82-d9f7d10c3386>\u001b[0m in \u001b[0;36m<module>\u001b[1;34m\u001b[0m\n\u001b[0;32m      9\u001b[0m \u001b[0mng_test\u001b[0m \u001b[1;33m=\u001b[0m \u001b[0mnx\u001b[0m\u001b[1;33m.\u001b[0m\u001b[0mfull_join\u001b[0m\u001b[1;33m(\u001b[0m\u001b[0mng\u001b[0m\u001b[1;33m,\u001b[0m\u001b[0mng_test\u001b[0m\u001b[1;33m)\u001b[0m\u001b[1;33m\u001b[0m\u001b[1;33m\u001b[0m\u001b[0m\n\u001b[0;32m     10\u001b[0m \u001b[1;33m\u001b[0m\u001b[0m\n\u001b[1;32m---> 11\u001b[1;33m \u001b[0mtest_df\u001b[0m\u001b[1;33m[\u001b[0m\u001b[1;34m'btwc'\u001b[0m\u001b[1;33m]\u001b[0m\u001b[1;33m,\u001b[0m \u001b[0mtest_df\u001b[0m\u001b[1;33m[\u001b[0m\u001b[1;34m'adar'\u001b[0m\u001b[1;33m]\u001b[0m\u001b[1;33m,\u001b[0m \u001b[0mtest_df\u001b[0m\u001b[1;33m[\u001b[0m\u001b[1;34m'cc'\u001b[0m\u001b[1;33m]\u001b[0m\u001b[1;33m,\u001b[0m \u001b[0mtest_df\u001b[0m\u001b[1;33m[\u001b[0m\u001b[1;34m'dc'\u001b[0m\u001b[1;33m]\u001b[0m\u001b[1;33m,\u001b[0m \u001b[0mtest_df\u001b[0m\u001b[1;33m[\u001b[0m\u001b[1;34m'jc'\u001b[0m\u001b[1;33m]\u001b[0m\u001b[1;33m,\u001b[0m \u001b[0mtest_df\u001b[0m\u001b[1;33m[\u001b[0m\u001b[1;34m'pa'\u001b[0m\u001b[1;33m]\u001b[0m\u001b[1;33m,\u001b[0m \u001b[0mtest_df\u001b[0m\u001b[1;33m[\u001b[0m\u001b[1;34m'pagerank_A'\u001b[0m\u001b[1;33m]\u001b[0m\u001b[1;33m,\u001b[0m \u001b[0mtest_df\u001b[0m\u001b[1;33m[\u001b[0m\u001b[1;34m'pagerank_B'\u001b[0m\u001b[1;33m]\u001b[0m\u001b[1;33m,\u001b[0m\u001b[0mtest_df\u001b[0m\u001b[1;33m[\u001b[0m\u001b[1;34m'hits_authority_A'\u001b[0m\u001b[1;33m]\u001b[0m\u001b[1;33m,\u001b[0m \u001b[0mtest_df\u001b[0m\u001b[1;33m[\u001b[0m\u001b[1;34m'hits_hubs_A'\u001b[0m\u001b[1;33m]\u001b[0m\u001b[1;33m,\u001b[0m\u001b[0mtest_df\u001b[0m\u001b[1;33m[\u001b[0m\u001b[1;34m'hits_authority_B'\u001b[0m\u001b[1;33m]\u001b[0m\u001b[1;33m,\u001b[0m \u001b[0mtest_df\u001b[0m\u001b[1;33m[\u001b[0m\u001b[1;34m'hits_hubs_B'\u001b[0m\u001b[1;33m]\u001b[0m  \u001b[1;33m=\u001b[0m \u001b[0mextract_feats\u001b[0m\u001b[1;33m(\u001b[0m\u001b[0mng_test\u001b[0m\u001b[1;33m,\u001b[0m \u001b[1;34m'test'\u001b[0m\u001b[1;33m)\u001b[0m\u001b[1;33m\u001b[0m\u001b[1;33m\u001b[0m\u001b[0m\n\u001b[0m",
      "\u001b[1;32m<ipython-input-34-f20c97a08e92>\u001b[0m in \u001b[0;36mextract_feats\u001b[1;34m(g, ds)\u001b[0m\n\u001b[0;32m      1\u001b[0m \u001b[1;32mdef\u001b[0m \u001b[0mextract_feats\u001b[0m\u001b[1;33m(\u001b[0m\u001b[0mg\u001b[0m\u001b[1;33m,\u001b[0m \u001b[0mds\u001b[0m \u001b[1;33m=\u001b[0m \u001b[1;34m'train'\u001b[0m\u001b[1;33m)\u001b[0m\u001b[1;33m:\u001b[0m\u001b[1;33m\u001b[0m\u001b[1;33m\u001b[0m\u001b[0m\n\u001b[1;32m----> 2\u001b[1;33m     \u001b[0mbtwc\u001b[0m \u001b[1;33m=\u001b[0m \u001b[0mnx\u001b[0m\u001b[1;33m.\u001b[0m\u001b[0medge_betweenness_centrality\u001b[0m\u001b[1;33m(\u001b[0m\u001b[0mg\u001b[0m\u001b[1;33m)\u001b[0m\u001b[1;33m\u001b[0m\u001b[1;33m\u001b[0m\u001b[0m\n\u001b[0m\u001b[0;32m      3\u001b[0m     \u001b[0mfeature_2\u001b[0m \u001b[1;33m=\u001b[0m \u001b[1;33m[\u001b[0m\u001b[1;33m]\u001b[0m\u001b[1;33m\u001b[0m\u001b[1;33m\u001b[0m\u001b[0m\n\u001b[0;32m      4\u001b[0m     \u001b[0mfeature_3\u001b[0m \u001b[1;33m=\u001b[0m \u001b[1;33m[\u001b[0m\u001b[1;33m]\u001b[0m\u001b[1;33m\u001b[0m\u001b[1;33m\u001b[0m\u001b[0m\n\u001b[0;32m      5\u001b[0m     \u001b[0mcc\u001b[0m \u001b[1;33m=\u001b[0m \u001b[0mnx\u001b[0m\u001b[1;33m.\u001b[0m\u001b[0mcloseness_centrality\u001b[0m\u001b[1;33m(\u001b[0m\u001b[0mg\u001b[0m\u001b[1;33m)\u001b[0m\u001b[1;33m\u001b[0m\u001b[1;33m\u001b[0m\u001b[0m\n",
      "\u001b[1;32m<decorator-gen-243>\u001b[0m in \u001b[0;36medge_betweenness_centrality\u001b[1;34m(G, k, normalized, weight, seed)\u001b[0m\n",
      "\u001b[1;32mC:\\ProgramData\\Anaconda3\\lib\\site-packages\\networkx\\utils\\decorators.py\u001b[0m in \u001b[0;36m_random_state\u001b[1;34m(func, *args, **kwargs)\u001b[0m\n\u001b[0;32m    467\u001b[0m         \u001b[0mnew_args\u001b[0m \u001b[1;33m=\u001b[0m \u001b[0mlist\u001b[0m\u001b[1;33m(\u001b[0m\u001b[0margs\u001b[0m\u001b[1;33m)\u001b[0m\u001b[1;33m\u001b[0m\u001b[1;33m\u001b[0m\u001b[0m\n\u001b[0;32m    468\u001b[0m         \u001b[0mnew_args\u001b[0m\u001b[1;33m[\u001b[0m\u001b[0mrandom_state_index\u001b[0m\u001b[1;33m]\u001b[0m \u001b[1;33m=\u001b[0m \u001b[0mrandom_state\u001b[0m\u001b[1;33m\u001b[0m\u001b[1;33m\u001b[0m\u001b[0m\n\u001b[1;32m--> 469\u001b[1;33m         \u001b[1;32mreturn\u001b[0m \u001b[0mfunc\u001b[0m\u001b[1;33m(\u001b[0m\u001b[1;33m*\u001b[0m\u001b[0mnew_args\u001b[0m\u001b[1;33m,\u001b[0m \u001b[1;33m**\u001b[0m\u001b[0mkwargs\u001b[0m\u001b[1;33m)\u001b[0m\u001b[1;33m\u001b[0m\u001b[1;33m\u001b[0m\u001b[0m\n\u001b[0m\u001b[0;32m    470\u001b[0m \u001b[1;33m\u001b[0m\u001b[0m\n\u001b[0;32m    471\u001b[0m     \u001b[1;32mreturn\u001b[0m \u001b[0m_random_state\u001b[0m\u001b[1;33m\u001b[0m\u001b[1;33m\u001b[0m\u001b[0m\n",
      "\u001b[1;32mC:\\ProgramData\\Anaconda3\\lib\\site-packages\\networkx\\algorithms\\centrality\\betweenness.py\u001b[0m in \u001b[0;36medge_betweenness_centrality\u001b[1;34m(G, k, normalized, weight, seed)\u001b[0m\n\u001b[0;32m    226\u001b[0m             \u001b[0mS\u001b[0m\u001b[1;33m,\u001b[0m \u001b[0mP\u001b[0m\u001b[1;33m,\u001b[0m \u001b[0msigma\u001b[0m \u001b[1;33m=\u001b[0m \u001b[0m_single_source_dijkstra_path_basic\u001b[0m\u001b[1;33m(\u001b[0m\u001b[0mG\u001b[0m\u001b[1;33m,\u001b[0m \u001b[0ms\u001b[0m\u001b[1;33m,\u001b[0m \u001b[0mweight\u001b[0m\u001b[1;33m)\u001b[0m\u001b[1;33m\u001b[0m\u001b[1;33m\u001b[0m\u001b[0m\n\u001b[0;32m    227\u001b[0m         \u001b[1;31m# accumulation\u001b[0m\u001b[1;33m\u001b[0m\u001b[1;33m\u001b[0m\u001b[1;33m\u001b[0m\u001b[0m\n\u001b[1;32m--> 228\u001b[1;33m         \u001b[0mbetweenness\u001b[0m \u001b[1;33m=\u001b[0m \u001b[0m_accumulate_edges\u001b[0m\u001b[1;33m(\u001b[0m\u001b[0mbetweenness\u001b[0m\u001b[1;33m,\u001b[0m \u001b[0mS\u001b[0m\u001b[1;33m,\u001b[0m \u001b[0mP\u001b[0m\u001b[1;33m,\u001b[0m \u001b[0msigma\u001b[0m\u001b[1;33m,\u001b[0m \u001b[0ms\u001b[0m\u001b[1;33m)\u001b[0m\u001b[1;33m\u001b[0m\u001b[1;33m\u001b[0m\u001b[0m\n\u001b[0m\u001b[0;32m    229\u001b[0m     \u001b[1;31m# rescaling\u001b[0m\u001b[1;33m\u001b[0m\u001b[1;33m\u001b[0m\u001b[1;33m\u001b[0m\u001b[0m\n\u001b[0;32m    230\u001b[0m     \u001b[1;32mfor\u001b[0m \u001b[0mn\u001b[0m \u001b[1;32min\u001b[0m \u001b[0mG\u001b[0m\u001b[1;33m:\u001b[0m  \u001b[1;31m# remove nodes to only return edges\u001b[0m\u001b[1;33m\u001b[0m\u001b[1;33m\u001b[0m\u001b[0m\n",
      "\u001b[1;32mC:\\ProgramData\\Anaconda3\\lib\\site-packages\\networkx\\algorithms\\centrality\\betweenness.py\u001b[0m in \u001b[0;36m_accumulate_edges\u001b[1;34m(betweenness, S, P, sigma, s)\u001b[0m\n\u001b[0;32m    340\u001b[0m             \u001b[0mc\u001b[0m \u001b[1;33m=\u001b[0m \u001b[0msigma\u001b[0m\u001b[1;33m[\u001b[0m\u001b[0mv\u001b[0m\u001b[1;33m]\u001b[0m \u001b[1;33m*\u001b[0m \u001b[0mcoeff\u001b[0m\u001b[1;33m\u001b[0m\u001b[1;33m\u001b[0m\u001b[0m\n\u001b[0;32m    341\u001b[0m             \u001b[1;32mif\u001b[0m \u001b[1;33m(\u001b[0m\u001b[0mv\u001b[0m\u001b[1;33m,\u001b[0m \u001b[0mw\u001b[0m\u001b[1;33m)\u001b[0m \u001b[1;32mnot\u001b[0m \u001b[1;32min\u001b[0m \u001b[0mbetweenness\u001b[0m\u001b[1;33m:\u001b[0m\u001b[1;33m\u001b[0m\u001b[1;33m\u001b[0m\u001b[0m\n\u001b[1;32m--> 342\u001b[1;33m                 \u001b[0mbetweenness\u001b[0m\u001b[1;33m[\u001b[0m\u001b[1;33m(\u001b[0m\u001b[0mw\u001b[0m\u001b[1;33m,\u001b[0m \u001b[0mv\u001b[0m\u001b[1;33m)\u001b[0m\u001b[1;33m]\u001b[0m \u001b[1;33m+=\u001b[0m \u001b[0mc\u001b[0m\u001b[1;33m\u001b[0m\u001b[1;33m\u001b[0m\u001b[0m\n\u001b[0m\u001b[0;32m    343\u001b[0m             \u001b[1;32melse\u001b[0m\u001b[1;33m:\u001b[0m\u001b[1;33m\u001b[0m\u001b[1;33m\u001b[0m\u001b[0m\n\u001b[0;32m    344\u001b[0m                 \u001b[0mbetweenness\u001b[0m\u001b[1;33m[\u001b[0m\u001b[1;33m(\u001b[0m\u001b[0mv\u001b[0m\u001b[1;33m,\u001b[0m \u001b[0mw\u001b[0m\u001b[1;33m)\u001b[0m\u001b[1;33m]\u001b[0m \u001b[1;33m+=\u001b[0m \u001b[0mc\u001b[0m\u001b[1;33m\u001b[0m\u001b[1;33m\u001b[0m\u001b[0m\n",
      "\u001b[1;31mKeyboardInterrupt\u001b[0m: "
     ]
    }
   ],
   "source": [
    "# public test data transformation.\n",
    "for s,t in ng.edges():\n",
    "    nx.set_edge_attributes(ng, {(s,t):{'dataset':'train'}})\n",
    "test_df = pd.read_csv('test-public.csv')\n",
    "test_df.drop(test_df.columns[[0]], axis=1, inplace=True)\n",
    "test_df.columns = ['Author_A','Author_B']\n",
    "test_df = test_df.groupby(['Author_A','Author_B']).size().reset_index().rename(columns={0:'count'})\n",
    "test_df['dataset'] = ['test' for i in range(test_df.shape[0])]\n",
    "#create undirectional graph \n",
    "ng_test = nx.convert_matrix.from_pandas_edgelist(test_df, source= 'Author_A', target = 'Author_B', edge_attr= ['count','dataset'])\n",
    "ng_test = nx.union(ng,ng_test)\n",
    "\n",
    "test_df['btwc'], test_df['adar'], test_df['cc'], test_df['dc'], test_df['jc'], test_df['pa'], test_df['pagerank_A'], test_df['pagerank_B'],test_df['hits_authority_A'], test_df['hits_hubs_A'],test_df['hits_authority_B'], test_df['hits_hubs_B']  = extract_feats(ng_test, 'test')"
   ]
  }
 ],
 "metadata": {
  "kernelspec": {
   "display_name": "Python 3",
   "language": "python",
   "name": "python3"
  },
  "language_info": {
   "codemirror_mode": {
    "name": "ipython",
    "version": 3
   },
   "file_extension": ".py",
   "mimetype": "text/x-python",
   "name": "python",
   "nbconvert_exporter": "python",
   "pygments_lexer": "ipython3",
   "version": "3.7.4"
  }
 },
 "nbformat": 4,
 "nbformat_minor": 5
}
