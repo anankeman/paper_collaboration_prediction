{
 "cells": [
  {
   "cell_type": "code",
   "execution_count": 2,
   "metadata": {},
   "outputs": [],
   "source": [
    "import pandas as pd\n",
    "from sklearn.model_selection import train_test_split\n",
    "from sklearn.linear_model import LogisticRegression\n",
    "from sklearn.linear_model import Ridge\n",
    "from sklearn import metrics"
   ]
  },
  {
   "cell_type": "code",
   "execution_count": 44,
   "metadata": {},
   "outputs": [],
   "source": [
    "test = pd.read_csv(\"test_transformed.csv\")\n",
    "df = pd.read_csv(\"train_transformed.csv\")"
   ]
  },
  {
   "cell_type": "code",
   "execution_count": 49,
   "metadata": {},
   "outputs": [
    {
     "data": {
      "text/html": [
       "<div>\n",
       "<style scoped>\n",
       "    .dataframe tbody tr th:only-of-type {\n",
       "        vertical-align: middle;\n",
       "    }\n",
       "\n",
       "    .dataframe tbody tr th {\n",
       "        vertical-align: top;\n",
       "    }\n",
       "\n",
       "    .dataframe thead th {\n",
       "        text-align: right;\n",
       "    }\n",
       "</style>\n",
       "<table border=\"1\" class=\"dataframe\">\n",
       "  <thead>\n",
       "    <tr style=\"text-align: right;\">\n",
       "      <th></th>\n",
       "      <th>Unnamed: 0</th>\n",
       "      <th>Author_A</th>\n",
       "      <th>Author_B</th>\n",
       "      <th>count</th>\n",
       "      <th>dataset</th>\n",
       "      <th>btwc</th>\n",
       "      <th>adar</th>\n",
       "      <th>cc</th>\n",
       "      <th>dc</th>\n",
       "      <th>jc</th>\n",
       "      <th>pa</th>\n",
       "      <th>pagerank_A</th>\n",
       "      <th>pagerank_B</th>\n",
       "      <th>hits_authority_A</th>\n",
       "      <th>hits_hubs_A</th>\n",
       "      <th>hits_authority_B</th>\n",
       "      <th>hits_hubs_B</th>\n",
       "    </tr>\n",
       "  </thead>\n",
       "  <tbody>\n",
       "    <tr>\n",
       "      <th>0</th>\n",
       "      <td>0</td>\n",
       "      <td>0</td>\n",
       "      <td>2917</td>\n",
       "      <td>1</td>\n",
       "      <td>test</td>\n",
       "      <td>0.000000e+00</td>\n",
       "      <td>0.0</td>\n",
       "      <td>0.000000</td>\n",
       "      <td>0.000000</td>\n",
       "      <td>0.0</td>\n",
       "      <td>0</td>\n",
       "      <td>0.000000</td>\n",
       "      <td>0.000000</td>\n",
       "      <td>0.000000e+00</td>\n",
       "      <td>0.000000e+00</td>\n",
       "      <td>0.000000e+00</td>\n",
       "      <td>0.000000e+00</td>\n",
       "    </tr>\n",
       "    <tr>\n",
       "      <th>1</th>\n",
       "      <td>1</td>\n",
       "      <td>0</td>\n",
       "      <td>2956</td>\n",
       "      <td>1</td>\n",
       "      <td>test</td>\n",
       "      <td>0.000000e+00</td>\n",
       "      <td>0.0</td>\n",
       "      <td>0.000000</td>\n",
       "      <td>0.000000</td>\n",
       "      <td>0.0</td>\n",
       "      <td>0</td>\n",
       "      <td>0.000000</td>\n",
       "      <td>0.000000</td>\n",
       "      <td>0.000000e+00</td>\n",
       "      <td>0.000000e+00</td>\n",
       "      <td>0.000000e+00</td>\n",
       "      <td>0.000000e+00</td>\n",
       "    </tr>\n",
       "    <tr>\n",
       "      <th>2</th>\n",
       "      <td>2</td>\n",
       "      <td>1</td>\n",
       "      <td>4038</td>\n",
       "      <td>1</td>\n",
       "      <td>test</td>\n",
       "      <td>0.000000e+00</td>\n",
       "      <td>0.0</td>\n",
       "      <td>0.000000</td>\n",
       "      <td>0.000000</td>\n",
       "      <td>0.0</td>\n",
       "      <td>0</td>\n",
       "      <td>0.000000</td>\n",
       "      <td>0.000000</td>\n",
       "      <td>0.000000e+00</td>\n",
       "      <td>0.000000e+00</td>\n",
       "      <td>0.000000e+00</td>\n",
       "      <td>0.000000e+00</td>\n",
       "    </tr>\n",
       "    <tr>\n",
       "      <th>3</th>\n",
       "      <td>3</td>\n",
       "      <td>2</td>\n",
       "      <td>1848</td>\n",
       "      <td>1</td>\n",
       "      <td>test</td>\n",
       "      <td>0.000000e+00</td>\n",
       "      <td>0.0</td>\n",
       "      <td>0.000000</td>\n",
       "      <td>0.000000</td>\n",
       "      <td>0.0</td>\n",
       "      <td>0</td>\n",
       "      <td>0.000000</td>\n",
       "      <td>0.000000</td>\n",
       "      <td>0.000000e+00</td>\n",
       "      <td>0.000000e+00</td>\n",
       "      <td>0.000000e+00</td>\n",
       "      <td>0.000000e+00</td>\n",
       "    </tr>\n",
       "    <tr>\n",
       "      <th>4</th>\n",
       "      <td>4</td>\n",
       "      <td>3</td>\n",
       "      <td>513</td>\n",
       "      <td>1</td>\n",
       "      <td>test</td>\n",
       "      <td>0.000000e+00</td>\n",
       "      <td>0.0</td>\n",
       "      <td>0.000000</td>\n",
       "      <td>0.000000</td>\n",
       "      <td>0.0</td>\n",
       "      <td>0</td>\n",
       "      <td>0.000000</td>\n",
       "      <td>0.000000</td>\n",
       "      <td>0.000000e+00</td>\n",
       "      <td>0.000000e+00</td>\n",
       "      <td>0.000000e+00</td>\n",
       "      <td>0.000000e+00</td>\n",
       "    </tr>\n",
       "    <tr>\n",
       "      <th>...</th>\n",
       "      <td>...</td>\n",
       "      <td>...</td>\n",
       "      <td>...</td>\n",
       "      <td>...</td>\n",
       "      <td>...</td>\n",
       "      <td>...</td>\n",
       "      <td>...</td>\n",
       "      <td>...</td>\n",
       "      <td>...</td>\n",
       "      <td>...</td>\n",
       "      <td>...</td>\n",
       "      <td>...</td>\n",
       "      <td>...</td>\n",
       "      <td>...</td>\n",
       "      <td>...</td>\n",
       "      <td>...</td>\n",
       "      <td>...</td>\n",
       "    </tr>\n",
       "    <tr>\n",
       "      <th>1995</th>\n",
       "      <td>1995</td>\n",
       "      <td>3865</td>\n",
       "      <td>3924</td>\n",
       "      <td>1</td>\n",
       "      <td>test</td>\n",
       "      <td>0.000000e+00</td>\n",
       "      <td>0.0</td>\n",
       "      <td>0.000000</td>\n",
       "      <td>0.000000</td>\n",
       "      <td>0.0</td>\n",
       "      <td>0</td>\n",
       "      <td>0.000000</td>\n",
       "      <td>0.000000</td>\n",
       "      <td>0.000000e+00</td>\n",
       "      <td>0.000000e+00</td>\n",
       "      <td>0.000000e+00</td>\n",
       "      <td>0.000000e+00</td>\n",
       "    </tr>\n",
       "    <tr>\n",
       "      <th>1996</th>\n",
       "      <td>1996</td>\n",
       "      <td>3917</td>\n",
       "      <td>4025</td>\n",
       "      <td>1</td>\n",
       "      <td>test</td>\n",
       "      <td>5.409429e-08</td>\n",
       "      <td>0.0</td>\n",
       "      <td>0.122962</td>\n",
       "      <td>0.000658</td>\n",
       "      <td>0.0</td>\n",
       "      <td>1</td>\n",
       "      <td>0.000164</td>\n",
       "      <td>0.000164</td>\n",
       "      <td>5.589347e-78</td>\n",
       "      <td>2.812119e-76</td>\n",
       "      <td>5.589347e-78</td>\n",
       "      <td>2.812119e-76</td>\n",
       "    </tr>\n",
       "    <tr>\n",
       "      <th>1997</th>\n",
       "      <td>1997</td>\n",
       "      <td>3922</td>\n",
       "      <td>3947</td>\n",
       "      <td>1</td>\n",
       "      <td>test</td>\n",
       "      <td>0.000000e+00</td>\n",
       "      <td>0.0</td>\n",
       "      <td>0.000000</td>\n",
       "      <td>0.000000</td>\n",
       "      <td>0.0</td>\n",
       "      <td>0</td>\n",
       "      <td>0.000000</td>\n",
       "      <td>0.000000</td>\n",
       "      <td>0.000000e+00</td>\n",
       "      <td>0.000000e+00</td>\n",
       "      <td>0.000000e+00</td>\n",
       "      <td>0.000000e+00</td>\n",
       "    </tr>\n",
       "    <tr>\n",
       "      <th>1998</th>\n",
       "      <td>1998</td>\n",
       "      <td>3955</td>\n",
       "      <td>3987</td>\n",
       "      <td>1</td>\n",
       "      <td>test</td>\n",
       "      <td>0.000000e+00</td>\n",
       "      <td>0.0</td>\n",
       "      <td>0.000000</td>\n",
       "      <td>0.000000</td>\n",
       "      <td>0.0</td>\n",
       "      <td>0</td>\n",
       "      <td>0.000000</td>\n",
       "      <td>0.000000</td>\n",
       "      <td>0.000000e+00</td>\n",
       "      <td>0.000000e+00</td>\n",
       "      <td>0.000000e+00</td>\n",
       "      <td>0.000000e+00</td>\n",
       "    </tr>\n",
       "    <tr>\n",
       "      <th>1999</th>\n",
       "      <td>1999</td>\n",
       "      <td>3993</td>\n",
       "      <td>4063</td>\n",
       "      <td>1</td>\n",
       "      <td>test</td>\n",
       "      <td>0.000000e+00</td>\n",
       "      <td>0.0</td>\n",
       "      <td>0.000000</td>\n",
       "      <td>0.000000</td>\n",
       "      <td>0.0</td>\n",
       "      <td>0</td>\n",
       "      <td>0.000000</td>\n",
       "      <td>0.000000</td>\n",
       "      <td>0.000000e+00</td>\n",
       "      <td>0.000000e+00</td>\n",
       "      <td>0.000000e+00</td>\n",
       "      <td>0.000000e+00</td>\n",
       "    </tr>\n",
       "  </tbody>\n",
       "</table>\n",
       "<p>2000 rows × 17 columns</p>\n",
       "</div>"
      ],
      "text/plain": [
       "      Unnamed: 0  Author_A  Author_B  count dataset          btwc  adar  \\\n",
       "0              0         0      2917      1    test  0.000000e+00   0.0   \n",
       "1              1         0      2956      1    test  0.000000e+00   0.0   \n",
       "2              2         1      4038      1    test  0.000000e+00   0.0   \n",
       "3              3         2      1848      1    test  0.000000e+00   0.0   \n",
       "4              4         3       513      1    test  0.000000e+00   0.0   \n",
       "...          ...       ...       ...    ...     ...           ...   ...   \n",
       "1995        1995      3865      3924      1    test  0.000000e+00   0.0   \n",
       "1996        1996      3917      4025      1    test  5.409429e-08   0.0   \n",
       "1997        1997      3922      3947      1    test  0.000000e+00   0.0   \n",
       "1998        1998      3955      3987      1    test  0.000000e+00   0.0   \n",
       "1999        1999      3993      4063      1    test  0.000000e+00   0.0   \n",
       "\n",
       "            cc        dc   jc  pa  pagerank_A  pagerank_B  hits_authority_A  \\\n",
       "0     0.000000  0.000000  0.0   0    0.000000    0.000000      0.000000e+00   \n",
       "1     0.000000  0.000000  0.0   0    0.000000    0.000000      0.000000e+00   \n",
       "2     0.000000  0.000000  0.0   0    0.000000    0.000000      0.000000e+00   \n",
       "3     0.000000  0.000000  0.0   0    0.000000    0.000000      0.000000e+00   \n",
       "4     0.000000  0.000000  0.0   0    0.000000    0.000000      0.000000e+00   \n",
       "...        ...       ...  ...  ..         ...         ...               ...   \n",
       "1995  0.000000  0.000000  0.0   0    0.000000    0.000000      0.000000e+00   \n",
       "1996  0.122962  0.000658  0.0   1    0.000164    0.000164      5.589347e-78   \n",
       "1997  0.000000  0.000000  0.0   0    0.000000    0.000000      0.000000e+00   \n",
       "1998  0.000000  0.000000  0.0   0    0.000000    0.000000      0.000000e+00   \n",
       "1999  0.000000  0.000000  0.0   0    0.000000    0.000000      0.000000e+00   \n",
       "\n",
       "       hits_hubs_A  hits_authority_B   hits_hubs_B  \n",
       "0     0.000000e+00      0.000000e+00  0.000000e+00  \n",
       "1     0.000000e+00      0.000000e+00  0.000000e+00  \n",
       "2     0.000000e+00      0.000000e+00  0.000000e+00  \n",
       "3     0.000000e+00      0.000000e+00  0.000000e+00  \n",
       "4     0.000000e+00      0.000000e+00  0.000000e+00  \n",
       "...            ...               ...           ...  \n",
       "1995  0.000000e+00      0.000000e+00  0.000000e+00  \n",
       "1996  2.812119e-76      5.589347e-78  2.812119e-76  \n",
       "1997  0.000000e+00      0.000000e+00  0.000000e+00  \n",
       "1998  0.000000e+00      0.000000e+00  0.000000e+00  \n",
       "1999  0.000000e+00      0.000000e+00  0.000000e+00  \n",
       "\n",
       "[2000 rows x 17 columns]"
      ]
     },
     "execution_count": 49,
     "metadata": {},
     "output_type": "execute_result"
    }
   ],
   "source": [
    "test"
   ]
  },
  {
   "cell_type": "code",
   "execution_count": 13,
   "metadata": {},
   "outputs": [],
   "source": [
    "x_train, x_test, y_train, y_test = train_test_split(df.iloc[:,4:], [\"pos\" if i <= df.shape[0]//2 else \"neg\" for i in range(df.shape[0])])"
   ]
  },
  {
   "cell_type": "code",
   "execution_count": 17,
   "metadata": {},
   "outputs": [
    {
     "name": "stdout",
     "output_type": "stream",
     "text": [
      "              precision    recall  f1-score   support\n",
      "\n",
      "         neg       0.92      0.97      0.95      4058\n",
      "         pos       0.97      0.92      0.94      3960\n",
      "\n",
      "    accuracy                           0.95      8018\n",
      "   macro avg       0.95      0.95      0.95      8018\n",
      "weighted avg       0.95      0.95      0.95      8018\n",
      "\n"
     ]
    }
   ],
   "source": [
    "LR = LogisticRegression(n_jobs = 4).fit(x_train, y_train)\n",
    "LRT = LR.predict(x_test)\n",
    "\n",
    "print(metrics.classification_report(y_test, LRT))\n"
   ]
  },
  {
   "cell_type": "code",
   "execution_count": 46,
   "metadata": {},
   "outputs": [],
   "source": [
    "probs = LR.predict_proba(x_test)"
   ]
  },
  {
   "cell_type": "code",
   "execution_count": 48,
   "metadata": {},
   "outputs": [
    {
     "data": {
      "text/plain": [
       "array([0.94062615, 0.05937385])"
      ]
     },
     "execution_count": 48,
     "metadata": {},
     "output_type": "execute_result"
    }
   ],
   "source": [
    "probs[0]"
   ]
  },
  {
   "cell_type": "code",
   "execution_count": 45,
   "metadata": {},
   "outputs": [
    {
     "data": {
      "text/plain": [
       "Counter({'pos': 1800, 'neg': 200})"
      ]
     },
     "execution_count": 45,
     "metadata": {},
     "output_type": "execute_result"
    }
   ],
   "source": [
    "import collections\n",
    "collections.Counter(LR.predict(test.iloc[:,5:]))"
   ]
  },
  {
   "cell_type": "code",
   "execution_count": 37,
   "metadata": {},
   "outputs": [
    {
     "data": {
      "text/plain": [
       "Counter({'neg': 4058, 'pos': 3960})"
      ]
     },
     "execution_count": 37,
     "metadata": {},
     "output_type": "execute_result"
    }
   ],
   "source": [
    "collections.Counter(y_test)"
   ]
  },
  {
   "cell_type": "code",
   "execution_count": 36,
   "metadata": {},
   "outputs": [
    {
     "data": {
      "text/plain": [
       "Counter({'neg': 4274, 'pos': 3744})"
      ]
     },
     "execution_count": 36,
     "metadata": {},
     "output_type": "execute_result"
    }
   ],
   "source": [
    "collections.Counter(LR.predict(x_test))"
   ]
  },
  {
   "cell_type": "code",
   "execution_count": null,
   "metadata": {},
   "outputs": [],
   "source": [
    "clf = Ridge(alpha=1.0)\n",
    "clf.fit(X, y)"
   ]
  }
 ],
 "metadata": {
  "kernelspec": {
   "display_name": "Python 3",
   "language": "python",
   "name": "python3"
  },
  "language_info": {
   "codemirror_mode": {
    "name": "ipython",
    "version": 3
   },
   "file_extension": ".py",
   "mimetype": "text/x-python",
   "name": "python",
   "nbconvert_exporter": "python",
   "pygments_lexer": "ipython3",
   "version": "3.7.4"
  }
 },
 "nbformat": 4,
 "nbformat_minor": 4
}
