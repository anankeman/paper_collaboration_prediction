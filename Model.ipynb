{
 "cells": [
  {
   "cell_type": "code",
   "execution_count": 71,
   "metadata": {},
   "outputs": [],
   "source": [
    "import pandas as pd\n",
    "from sklearn.model_selection import train_test_split\n",
    "from sklearn.linear_model import LogisticRegression\n",
    "from sklearn.linear_model import Ridge\n",
    "from sklearn import metrics\n",
    "from sklearn.svm import LinearSVC\n",
    "from sklearn.calibration import CalibratedClassifierCV"
   ]
  },
  {
   "cell_type": "code",
   "execution_count": 98,
   "metadata": {},
   "outputs": [],
   "source": [
    "test = pd.read_csv(\"test_transformed_allFeatures.csv\")\n",
    "df = pd.read_csv(\"train_transformed_allFeat.csv\")\n",
    "test.drop(test.columns[[7,13,14]], axis=1, inplace=True)\n",
    "df.drop(df.columns[[7,13,14]], axis=1, inplace=True)"
   ]
  },
  {
   "cell_type": "code",
   "execution_count": 99,
   "metadata": {},
   "outputs": [
    {
     "data": {
      "text/html": [
       "<div>\n",
       "<style scoped>\n",
       "    .dataframe tbody tr th:only-of-type {\n",
       "        vertical-align: middle;\n",
       "    }\n",
       "\n",
       "    .dataframe tbody tr th {\n",
       "        vertical-align: top;\n",
       "    }\n",
       "\n",
       "    .dataframe thead th {\n",
       "        text-align: right;\n",
       "    }\n",
       "</style>\n",
       "<table border=\"1\" class=\"dataframe\">\n",
       "  <thead>\n",
       "    <tr style=\"text-align: right;\">\n",
       "      <th></th>\n",
       "      <th>aa</th>\n",
       "      <th>ra</th>\n",
       "      <th>jc</th>\n",
       "      <th>path_len</th>\n",
       "      <th>dc_A</th>\n",
       "      <th>dc_B</th>\n",
       "      <th>cc_A</th>\n",
       "      <th>cc_B</th>\n",
       "    </tr>\n",
       "  </thead>\n",
       "  <tbody>\n",
       "    <tr>\n",
       "      <th>0</th>\n",
       "      <td>2.471649</td>\n",
       "      <td>0.531746</td>\n",
       "      <td>0.428571</td>\n",
       "      <td>1</td>\n",
       "      <td>0.002124</td>\n",
       "      <td>0.003186</td>\n",
       "      <td>0.187879</td>\n",
       "      <td>0.223134</td>\n",
       "    </tr>\n",
       "    <tr>\n",
       "      <th>1</th>\n",
       "      <td>2.976054</td>\n",
       "      <td>0.668651</td>\n",
       "      <td>0.466667</td>\n",
       "      <td>1</td>\n",
       "      <td>0.002124</td>\n",
       "      <td>0.003717</td>\n",
       "      <td>0.187879</td>\n",
       "      <td>0.209683</td>\n",
       "    </tr>\n",
       "    <tr>\n",
       "      <th>2</th>\n",
       "      <td>2.899858</td>\n",
       "      <td>0.628968</td>\n",
       "      <td>0.700000</td>\n",
       "      <td>1</td>\n",
       "      <td>0.002124</td>\n",
       "      <td>0.002390</td>\n",
       "      <td>0.187879</td>\n",
       "      <td>0.187891</td>\n",
       "    </tr>\n",
       "    <tr>\n",
       "      <th>3</th>\n",
       "      <td>2.471649</td>\n",
       "      <td>0.531746</td>\n",
       "      <td>0.600000</td>\n",
       "      <td>1</td>\n",
       "      <td>0.002124</td>\n",
       "      <td>0.002124</td>\n",
       "      <td>0.187879</td>\n",
       "      <td>0.181356</td>\n",
       "    </tr>\n",
       "    <tr>\n",
       "      <th>4</th>\n",
       "      <td>2.976054</td>\n",
       "      <td>0.668651</td>\n",
       "      <td>0.466667</td>\n",
       "      <td>1</td>\n",
       "      <td>0.002124</td>\n",
       "      <td>0.003717</td>\n",
       "      <td>0.187879</td>\n",
       "      <td>0.208769</td>\n",
       "    </tr>\n",
       "    <tr>\n",
       "      <th>...</th>\n",
       "      <td>...</td>\n",
       "      <td>...</td>\n",
       "      <td>...</td>\n",
       "      <td>...</td>\n",
       "      <td>...</td>\n",
       "      <td>...</td>\n",
       "      <td>...</td>\n",
       "      <td>...</td>\n",
       "    </tr>\n",
       "    <tr>\n",
       "      <th>32067</th>\n",
       "      <td>0.000000</td>\n",
       "      <td>0.000000</td>\n",
       "      <td>0.000000</td>\n",
       "      <td>3</td>\n",
       "      <td>0.002655</td>\n",
       "      <td>0.001328</td>\n",
       "      <td>0.246668</td>\n",
       "      <td>0.225652</td>\n",
       "    </tr>\n",
       "    <tr>\n",
       "      <th>32068</th>\n",
       "      <td>0.000000</td>\n",
       "      <td>0.000000</td>\n",
       "      <td>0.000000</td>\n",
       "      <td>999</td>\n",
       "      <td>0.002655</td>\n",
       "      <td>0.001593</td>\n",
       "      <td>0.246668</td>\n",
       "      <td>0.173938</td>\n",
       "    </tr>\n",
       "    <tr>\n",
       "      <th>32069</th>\n",
       "      <td>0.000000</td>\n",
       "      <td>0.000000</td>\n",
       "      <td>0.000000</td>\n",
       "      <td>3</td>\n",
       "      <td>0.002655</td>\n",
       "      <td>0.002390</td>\n",
       "      <td>0.246668</td>\n",
       "      <td>0.224344</td>\n",
       "    </tr>\n",
       "    <tr>\n",
       "      <th>32070</th>\n",
       "      <td>0.000000</td>\n",
       "      <td>0.000000</td>\n",
       "      <td>0.000000</td>\n",
       "      <td>3</td>\n",
       "      <td>0.002655</td>\n",
       "      <td>0.001062</td>\n",
       "      <td>0.246668</td>\n",
       "      <td>0.213252</td>\n",
       "    </tr>\n",
       "    <tr>\n",
       "      <th>32071</th>\n",
       "      <td>0.000000</td>\n",
       "      <td>0.000000</td>\n",
       "      <td>0.000000</td>\n",
       "      <td>4</td>\n",
       "      <td>0.002655</td>\n",
       "      <td>0.001062</td>\n",
       "      <td>0.246668</td>\n",
       "      <td>0.239830</td>\n",
       "    </tr>\n",
       "  </tbody>\n",
       "</table>\n",
       "<p>32072 rows × 8 columns</p>\n",
       "</div>"
      ],
      "text/plain": [
       "             aa        ra        jc  path_len      dc_A      dc_B      cc_A  \\\n",
       "0      2.471649  0.531746  0.428571         1  0.002124  0.003186  0.187879   \n",
       "1      2.976054  0.668651  0.466667         1  0.002124  0.003717  0.187879   \n",
       "2      2.899858  0.628968  0.700000         1  0.002124  0.002390  0.187879   \n",
       "3      2.471649  0.531746  0.600000         1  0.002124  0.002124  0.187879   \n",
       "4      2.976054  0.668651  0.466667         1  0.002124  0.003717  0.187879   \n",
       "...         ...       ...       ...       ...       ...       ...       ...   \n",
       "32067  0.000000  0.000000  0.000000         3  0.002655  0.001328  0.246668   \n",
       "32068  0.000000  0.000000  0.000000       999  0.002655  0.001593  0.246668   \n",
       "32069  0.000000  0.000000  0.000000         3  0.002655  0.002390  0.246668   \n",
       "32070  0.000000  0.000000  0.000000         3  0.002655  0.001062  0.246668   \n",
       "32071  0.000000  0.000000  0.000000         4  0.002655  0.001062  0.246668   \n",
       "\n",
       "           cc_B  \n",
       "0      0.223134  \n",
       "1      0.209683  \n",
       "2      0.187891  \n",
       "3      0.181356  \n",
       "4      0.208769  \n",
       "...         ...  \n",
       "32067  0.225652  \n",
       "32068  0.173938  \n",
       "32069  0.224344  \n",
       "32070  0.213252  \n",
       "32071  0.239830  \n",
       "\n",
       "[32072 rows x 8 columns]"
      ]
     },
     "execution_count": 99,
     "metadata": {},
     "output_type": "execute_result"
    }
   ],
   "source": [
    "df.iloc[:,4:]"
   ]
  },
  {
   "cell_type": "code",
   "execution_count": 100,
   "metadata": {},
   "outputs": [
    {
     "data": {
      "text/html": [
       "<div>\n",
       "<style scoped>\n",
       "    .dataframe tbody tr th:only-of-type {\n",
       "        vertical-align: middle;\n",
       "    }\n",
       "\n",
       "    .dataframe tbody tr th {\n",
       "        vertical-align: top;\n",
       "    }\n",
       "\n",
       "    .dataframe thead th {\n",
       "        text-align: right;\n",
       "    }\n",
       "</style>\n",
       "<table border=\"1\" class=\"dataframe\">\n",
       "  <thead>\n",
       "    <tr style=\"text-align: right;\">\n",
       "      <th></th>\n",
       "      <th>aa</th>\n",
       "      <th>ra</th>\n",
       "      <th>jc</th>\n",
       "      <th>path_len</th>\n",
       "      <th>dc_A</th>\n",
       "      <th>dc_B</th>\n",
       "      <th>cc_A</th>\n",
       "      <th>cc_B</th>\n",
       "    </tr>\n",
       "  </thead>\n",
       "  <tbody>\n",
       "    <tr>\n",
       "      <th>0</th>\n",
       "      <td>0.000000</td>\n",
       "      <td>0.000000</td>\n",
       "      <td>0.000000</td>\n",
       "      <td>3</td>\n",
       "      <td>0.002124</td>\n",
       "      <td>0.001859</td>\n",
       "      <td>0.187879</td>\n",
       "      <td>0.218136</td>\n",
       "    </tr>\n",
       "    <tr>\n",
       "      <th>1</th>\n",
       "      <td>0.000000</td>\n",
       "      <td>0.000000</td>\n",
       "      <td>0.000000</td>\n",
       "      <td>5</td>\n",
       "      <td>0.002124</td>\n",
       "      <td>0.000797</td>\n",
       "      <td>0.187879</td>\n",
       "      <td>0.203260</td>\n",
       "    </tr>\n",
       "    <tr>\n",
       "      <th>2</th>\n",
       "      <td>0.000000</td>\n",
       "      <td>0.000000</td>\n",
       "      <td>0.000000</td>\n",
       "      <td>3</td>\n",
       "      <td>0.004249</td>\n",
       "      <td>0.008232</td>\n",
       "      <td>0.229441</td>\n",
       "      <td>0.256824</td>\n",
       "    </tr>\n",
       "    <tr>\n",
       "      <th>3</th>\n",
       "      <td>1.242670</td>\n",
       "      <td>0.400000</td>\n",
       "      <td>0.080000</td>\n",
       "      <td>1</td>\n",
       "      <td>0.006373</td>\n",
       "      <td>0.000797</td>\n",
       "      <td>0.263182</td>\n",
       "      <td>0.206104</td>\n",
       "    </tr>\n",
       "    <tr>\n",
       "      <th>4</th>\n",
       "      <td>0.000000</td>\n",
       "      <td>0.000000</td>\n",
       "      <td>0.000000</td>\n",
       "      <td>4</td>\n",
       "      <td>0.004514</td>\n",
       "      <td>0.006107</td>\n",
       "      <td>0.247700</td>\n",
       "      <td>0.246366</td>\n",
       "    </tr>\n",
       "    <tr>\n",
       "      <th>...</th>\n",
       "      <td>...</td>\n",
       "      <td>...</td>\n",
       "      <td>...</td>\n",
       "      <td>...</td>\n",
       "      <td>...</td>\n",
       "      <td>...</td>\n",
       "      <td>...</td>\n",
       "      <td>...</td>\n",
       "    </tr>\n",
       "    <tr>\n",
       "      <th>1995</th>\n",
       "      <td>0.000000</td>\n",
       "      <td>0.000000</td>\n",
       "      <td>0.000000</td>\n",
       "      <td>5</td>\n",
       "      <td>0.000266</td>\n",
       "      <td>0.000531</td>\n",
       "      <td>0.177465</td>\n",
       "      <td>0.217868</td>\n",
       "    </tr>\n",
       "    <tr>\n",
       "      <th>1996</th>\n",
       "      <td>0.000000</td>\n",
       "      <td>0.000000</td>\n",
       "      <td>0.000000</td>\n",
       "      <td>999</td>\n",
       "      <td>0.000531</td>\n",
       "      <td>0.000266</td>\n",
       "      <td>0.228538</td>\n",
       "      <td>0.000266</td>\n",
       "    </tr>\n",
       "    <tr>\n",
       "      <th>1997</th>\n",
       "      <td>0.000000</td>\n",
       "      <td>0.000000</td>\n",
       "      <td>0.000000</td>\n",
       "      <td>3</td>\n",
       "      <td>0.001062</td>\n",
       "      <td>0.007700</td>\n",
       "      <td>0.214815</td>\n",
       "      <td>0.249028</td>\n",
       "    </tr>\n",
       "    <tr>\n",
       "      <th>1998</th>\n",
       "      <td>1.766048</td>\n",
       "      <td>0.424368</td>\n",
       "      <td>0.053333</td>\n",
       "      <td>1</td>\n",
       "      <td>0.019649</td>\n",
       "      <td>0.001328</td>\n",
       "      <td>0.280597</td>\n",
       "      <td>0.231677</td>\n",
       "    </tr>\n",
       "    <tr>\n",
       "      <th>1999</th>\n",
       "      <td>0.000000</td>\n",
       "      <td>0.000000</td>\n",
       "      <td>0.000000</td>\n",
       "      <td>5</td>\n",
       "      <td>0.003983</td>\n",
       "      <td>0.000266</td>\n",
       "      <td>0.227797</td>\n",
       "      <td>0.169839</td>\n",
       "    </tr>\n",
       "  </tbody>\n",
       "</table>\n",
       "<p>2000 rows × 8 columns</p>\n",
       "</div>"
      ],
      "text/plain": [
       "            aa        ra        jc  path_len      dc_A      dc_B      cc_A  \\\n",
       "0     0.000000  0.000000  0.000000         3  0.002124  0.001859  0.187879   \n",
       "1     0.000000  0.000000  0.000000         5  0.002124  0.000797  0.187879   \n",
       "2     0.000000  0.000000  0.000000         3  0.004249  0.008232  0.229441   \n",
       "3     1.242670  0.400000  0.080000         1  0.006373  0.000797  0.263182   \n",
       "4     0.000000  0.000000  0.000000         4  0.004514  0.006107  0.247700   \n",
       "...        ...       ...       ...       ...       ...       ...       ...   \n",
       "1995  0.000000  0.000000  0.000000         5  0.000266  0.000531  0.177465   \n",
       "1996  0.000000  0.000000  0.000000       999  0.000531  0.000266  0.228538   \n",
       "1997  0.000000  0.000000  0.000000         3  0.001062  0.007700  0.214815   \n",
       "1998  1.766048  0.424368  0.053333         1  0.019649  0.001328  0.280597   \n",
       "1999  0.000000  0.000000  0.000000         5  0.003983  0.000266  0.227797   \n",
       "\n",
       "          cc_B  \n",
       "0     0.218136  \n",
       "1     0.203260  \n",
       "2     0.256824  \n",
       "3     0.206104  \n",
       "4     0.246366  \n",
       "...        ...  \n",
       "1995  0.217868  \n",
       "1996  0.000266  \n",
       "1997  0.249028  \n",
       "1998  0.231677  \n",
       "1999  0.169839  \n",
       "\n",
       "[2000 rows x 8 columns]"
      ]
     },
     "execution_count": 100,
     "metadata": {},
     "output_type": "execute_result"
    }
   ],
   "source": [
    "test.iloc[:,4:]"
   ]
  },
  {
   "cell_type": "code",
   "execution_count": 101,
   "metadata": {},
   "outputs": [],
   "source": [
    "x_train, x_test, y_train, y_test = train_test_split(df.iloc[:,4:], [\"pos\" if i <= df.shape[0]//2 else \"neg\" for i in range(df.shape[0])])"
   ]
  },
  {
   "cell_type": "code",
   "execution_count": 102,
   "metadata": {},
   "outputs": [
    {
     "name": "stdout",
     "output_type": "stream",
     "text": [
      "              precision    recall  f1-score   support\n",
      "\n",
      "         neg       1.00      1.00      1.00      4017\n",
      "         pos       1.00      1.00      1.00      4001\n",
      "\n",
      "    accuracy                           1.00      8018\n",
      "   macro avg       1.00      1.00      1.00      8018\n",
      "weighted avg       1.00      1.00      1.00      8018\n",
      "\n"
     ]
    }
   ],
   "source": [
    "LR = LogisticRegression(n_jobs = 4).fit(x_train, y_train)\n",
    "LRT = LR.predict(x_test)\n",
    "\n",
    "print(metrics.classification_report(y_test, LRT))\n"
   ]
  },
  {
   "cell_type": "code",
   "execution_count": 103,
   "metadata": {},
   "outputs": [],
   "source": [
    "probs = LR.predict_proba(x_test)"
   ]
  },
  {
   "cell_type": "code",
   "execution_count": 104,
   "metadata": {},
   "outputs": [
    {
     "data": {
      "text/plain": [
       "1.0"
      ]
     },
     "execution_count": 104,
     "metadata": {},
     "output_type": "execute_result"
    }
   ],
   "source": [
    "metrics.roc_auc_score(y_test, probs[:, 1])"
   ]
  },
  {
   "cell_type": "code",
   "execution_count": 105,
   "metadata": {},
   "outputs": [
    {
     "data": {
      "text/plain": [
       "Counter({'neg': 1252, 'pos': 748})"
      ]
     },
     "execution_count": 105,
     "metadata": {},
     "output_type": "execute_result"
    }
   ],
   "source": [
    "import collections\n",
    "collections.Counter(LR.predict(test.iloc[:,4:]))"
   ]
  },
  {
   "cell_type": "code",
   "execution_count": 106,
   "metadata": {},
   "outputs": [
    {
     "data": {
      "text/plain": [
       "Counter({'pos': 4001, 'neg': 4017})"
      ]
     },
     "execution_count": 106,
     "metadata": {},
     "output_type": "execute_result"
    }
   ],
   "source": [
    "collections.Counter(y_test)"
   ]
  },
  {
   "cell_type": "code",
   "execution_count": 107,
   "metadata": {},
   "outputs": [
    {
     "data": {
      "text/plain": [
       "Counter({'pos': 4001, 'neg': 4017})"
      ]
     },
     "execution_count": 107,
     "metadata": {},
     "output_type": "execute_result"
    }
   ],
   "source": [
    "collections.Counter(LR.predict(x_test))"
   ]
  },
  {
   "cell_type": "code",
   "execution_count": 108,
   "metadata": {},
   "outputs": [
    {
     "data": {
      "text/plain": [
       "array([7.66620525e-04, 1.06927707e-09, 7.71304714e-04, ...,\n",
       "       7.70006621e-04, 9.99920385e-01, 1.06946092e-09])"
      ]
     },
     "execution_count": 108,
     "metadata": {},
     "output_type": "execute_result"
    }
   ],
   "source": [
    "results = LR.predict_proba(test.iloc[:,4:])\n",
    "results[:,1]"
   ]
  },
  {
   "cell_type": "code",
   "execution_count": 109,
   "metadata": {},
   "outputs": [],
   "source": [
    "output = pd.DataFrame({'Id': [i for i in range(1,2001)], 'Predicted': results[:,1]})\n",
    "output.to_csv('logRegResult_no_btw_no_pa.csv', header = True, index= False)"
   ]
  },
  {
   "cell_type": "code",
   "execution_count": null,
   "metadata": {},
   "outputs": [],
   "source": [
    "#ridge regression\n",
    "\n",
    "clf = Ridge(alpha=1.0)\n",
    "clf.fit(X, y)"
   ]
  },
  {
   "cell_type": "markdown",
   "metadata": {},
   "source": [
    "Support Vector Machine (SVM)"
   ]
  },
  {
   "cell_type": "code",
   "execution_count": 57,
   "metadata": {},
   "outputs": [
    {
     "name": "stderr",
     "output_type": "stream",
     "text": [
      "C:\\Users\\Melissa Speer\\anaconda3\\lib\\site-packages\\sklearn\\svm\\_base.py:976: ConvergenceWarning: Liblinear failed to converge, increase the number of iterations.\n",
      "  warnings.warn(\"Liblinear failed to converge, increase \"\n",
      "C:\\Users\\Melissa Speer\\anaconda3\\lib\\site-packages\\sklearn\\svm\\_base.py:976: ConvergenceWarning: Liblinear failed to converge, increase the number of iterations.\n",
      "  warnings.warn(\"Liblinear failed to converge, increase \"\n",
      "C:\\Users\\Melissa Speer\\anaconda3\\lib\\site-packages\\sklearn\\svm\\_base.py:976: ConvergenceWarning: Liblinear failed to converge, increase the number of iterations.\n",
      "  warnings.warn(\"Liblinear failed to converge, increase \"\n",
      "C:\\Users\\Melissa Speer\\anaconda3\\lib\\site-packages\\sklearn\\svm\\_base.py:976: ConvergenceWarning: Liblinear failed to converge, increase the number of iterations.\n",
      "  warnings.warn(\"Liblinear failed to converge, increase \"\n"
     ]
    },
    {
     "name": "stdout",
     "output_type": "stream",
     "text": [
      "              precision    recall  f1-score   support\n",
      "\n",
      "         neg       1.00      1.00      1.00      4041\n",
      "         pos       1.00      1.00      1.00      3977\n",
      "\n",
      "    accuracy                           1.00      8018\n",
      "   macro avg       1.00      1.00      1.00      8018\n",
      "weighted avg       1.00      1.00      1.00      8018\n",
      "\n"
     ]
    },
    {
     "name": "stderr",
     "output_type": "stream",
     "text": [
      "C:\\Users\\Melissa Speer\\anaconda3\\lib\\site-packages\\sklearn\\svm\\_base.py:976: ConvergenceWarning: Liblinear failed to converge, increase the number of iterations.\n",
      "  warnings.warn(\"Liblinear failed to converge, increase \"\n"
     ]
    }
   ],
   "source": [
    "SVM = LinearSVC(max_iter=10000)\n",
    "#SVM_predict = SVM.predict(x_test)\n",
    "clf = CalibratedClassifierCV(SVM) \n",
    "clf.fit(x_train, y_train)\n",
    "clf_predict = clf.predict(x_test)\n",
    "\n",
    "\n",
    "print(metrics.classification_report(y_test, clf_predict))"
   ]
  },
  {
   "cell_type": "code",
   "execution_count": 58,
   "metadata": {},
   "outputs": [],
   "source": [
    "probs = clf.predict_proba(x_test)"
   ]
  },
  {
   "cell_type": "code",
   "execution_count": 59,
   "metadata": {},
   "outputs": [
    {
     "data": {
      "text/plain": [
       "array([[0.67533204, 0.32466796],\n",
       "       [0.34029695, 0.65970305],\n",
       "       [0.35430718, 0.64569282],\n",
       "       ...,\n",
       "       [0.80227792, 0.19772208],\n",
       "       [0.67984221, 0.32015779],\n",
       "       [0.67347837, 0.32652163]])"
      ]
     },
     "execution_count": 59,
     "metadata": {},
     "output_type": "execute_result"
    }
   ],
   "source": [
    "probs"
   ]
  },
  {
   "cell_type": "code",
   "execution_count": 60,
   "metadata": {},
   "outputs": [
    {
     "data": {
      "text/plain": [
       "1.0"
      ]
     },
     "execution_count": 60,
     "metadata": {},
     "output_type": "execute_result"
    }
   ],
   "source": [
    "metrics.roc_auc_score(y_test, probs[:, 1])"
   ]
  },
  {
   "cell_type": "code",
   "execution_count": 61,
   "metadata": {},
   "outputs": [
    {
     "data": {
      "text/plain": [
       "Counter({'neg': 1465, 'pos': 535})"
      ]
     },
     "execution_count": 61,
     "metadata": {},
     "output_type": "execute_result"
    }
   ],
   "source": [
    "collections.Counter(clf.predict(test.iloc[:,4:]))"
   ]
  },
  {
   "cell_type": "code",
   "execution_count": 42,
   "metadata": {},
   "outputs": [
    {
     "data": {
      "text/plain": [
       "Counter({'neg': 4029, 'pos': 3989})"
      ]
     },
     "execution_count": 42,
     "metadata": {},
     "output_type": "execute_result"
    }
   ],
   "source": [
    "collections.Counter(y_test)"
   ]
  },
  {
   "cell_type": "code",
   "execution_count": 20,
   "metadata": {},
   "outputs": [
    {
     "data": {
      "text/plain": [
       "array([0.32588784, 0.11201567, 0.32562297, ..., 0.32601893, 0.65587601,\n",
       "       0.11203549])"
      ]
     },
     "execution_count": 20,
     "metadata": {},
     "output_type": "execute_result"
    }
   ],
   "source": [
    "results = clf.predict_proba(test.iloc[:,4:])\n",
    "results[:,1]"
   ]
  },
  {
   "cell_type": "code",
   "execution_count": 22,
   "metadata": {},
   "outputs": [],
   "source": [
    "output = pd.DataFrame({'Id': [i for i in range(1,2001)], 'Predicted': results[:,1]})\n",
    "output.to_csv('svmResult.csv', header = True, index= False)"
   ]
  },
  {
   "cell_type": "code",
   "execution_count": null,
   "metadata": {},
   "outputs": [],
   "source": []
  }
 ],
 "metadata": {
  "kernelspec": {
   "display_name": "Python 3",
   "language": "python",
   "name": "python3"
  },
  "language_info": {
   "codemirror_mode": {
    "name": "ipython",
    "version": 3
   },
   "file_extension": ".py",
   "mimetype": "text/x-python",
   "name": "python",
   "nbconvert_exporter": "python",
   "pygments_lexer": "ipython3",
   "version": "3.8.5"
  }
 },
 "nbformat": 4,
 "nbformat_minor": 4
}
