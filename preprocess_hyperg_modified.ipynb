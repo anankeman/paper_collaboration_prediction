{
 "cells": [
  {
   "cell_type": "code",
   "execution_count": 1,
   "metadata": {},
   "outputs": [],
   "source": [
    "import csv\n",
    "import itertools\n",
    "import pandas as pd\n",
    "import numpy as np\n",
    "import networkx as nx"
   ]
  },
  {
   "cell_type": "markdown",
   "metadata": {},
   "source": [
    "## Hypergraph to regular graph"
   ]
  },
  {
   "cell_type": "code",
   "execution_count": 10,
   "metadata": {},
   "outputs": [
    {
     "name": "stdout",
     "output_type": "stream",
     "text": [
      "Name: \n",
      "Type: Graph\n",
      "Number of nodes: 3767\n",
      "Number of edges: 16036\n",
      "Average degree:   8.5139\n",
      "      Author_A Author_B  count\n",
      "0            0     1236     14\n",
      "1            0     1655      9\n",
      "2            0     1797      4\n",
      "3            0     2414      1\n",
      "4            0     2568      8\n",
      "...        ...      ...    ...\n",
      "16031      999     2038      1\n",
      "16032      999     2250      4\n",
      "16033      999     2600      1\n",
      "16034      999     2905      3\n",
      "16035      999     3926      1\n",
      "\n",
      "[16036 rows x 3 columns]\n"
     ]
    },
    {
     "ename": "NameError",
     "evalue": "name 'authorlist' is not defined",
     "output_type": "error",
     "traceback": [
      "\u001b[1;31m---------------------------------------------------------------------------\u001b[0m",
      "\u001b[1;31mNameError\u001b[0m                                 Traceback (most recent call last)",
      "\u001b[1;32m<ipython-input-10-8b08c60b7b41>\u001b[0m in \u001b[0;36m<module>\u001b[1;34m\u001b[0m\n\u001b[0;32m     20\u001b[0m \u001b[0mauthorlist_A\u001b[0m \u001b[1;33m=\u001b[0m \u001b[0mg_df\u001b[0m\u001b[1;33m[\u001b[0m\u001b[1;34m'Author_A'\u001b[0m\u001b[1;33m]\u001b[0m\u001b[1;33m.\u001b[0m\u001b[0mto_list\u001b[0m\u001b[1;33m(\u001b[0m\u001b[1;33m)\u001b[0m\u001b[1;33m\u001b[0m\u001b[1;33m\u001b[0m\u001b[0m\n\u001b[0;32m     21\u001b[0m \u001b[0mauthorlist_B\u001b[0m \u001b[1;33m=\u001b[0m \u001b[0mg_df\u001b[0m\u001b[1;33m[\u001b[0m\u001b[1;34m'Author_B'\u001b[0m\u001b[1;33m]\u001b[0m\u001b[1;33m.\u001b[0m\u001b[0mto_list\u001b[0m\u001b[1;33m(\u001b[0m\u001b[1;33m)\u001b[0m\u001b[1;33m\u001b[0m\u001b[1;33m\u001b[0m\u001b[0m\n\u001b[1;32m---> 22\u001b[1;33m \u001b[0mauthorlist\u001b[0m\u001b[1;33m.\u001b[0m\u001b[0mextend\u001b[0m\u001b[1;33m(\u001b[0m\u001b[0mauthorlist_B\u001b[0m\u001b[1;33m)\u001b[0m\u001b[1;33m\u001b[0m\u001b[1;33m\u001b[0m\u001b[0m\n\u001b[0m\u001b[0;32m     23\u001b[0m \u001b[0mauthorlist\u001b[0m \u001b[1;33m=\u001b[0m \u001b[0mlist\u001b[0m\u001b[1;33m(\u001b[0m\u001b[0mset\u001b[0m\u001b[1;33m(\u001b[0m\u001b[0mauthorlist\u001b[0m\u001b[1;33m)\u001b[0m\u001b[1;33m)\u001b[0m \u001b[1;31m# remove duplicates\u001b[0m\u001b[1;33m\u001b[0m\u001b[1;33m\u001b[0m\u001b[0m\n\u001b[0;32m     24\u001b[0m \u001b[0mauthorlist_A\u001b[0m \u001b[1;33m=\u001b[0m \u001b[0mlist\u001b[0m\u001b[1;33m(\u001b[0m\u001b[0mset\u001b[0m\u001b[1;33m(\u001b[0m\u001b[0mauthorlist_A\u001b[0m\u001b[1;33m)\u001b[0m\u001b[1;33m)\u001b[0m \u001b[1;31m# remove duplicates\u001b[0m\u001b[1;33m\u001b[0m\u001b[1;33m\u001b[0m\u001b[0m\n",
      "\u001b[1;31mNameError\u001b[0m: name 'authorlist' is not defined"
     ]
    }
   ],
   "source": [
    "papers=[]\n",
    "with open(\"train.txt\", \"r\") as f:\n",
    "    for x in f:\n",
    "        token_list=x.rstrip(\"\\n\").split()\n",
    "        papers.append(token_list)\n",
    "\n",
    "graph=[]\n",
    "\n",
    "for paper in papers:\n",
    "    for pair in itertools.combinations(paper, 2):\n",
    "        graph.append(pair)\n",
    "\n",
    "graph_df=pd.DataFrame(graph, columns=['Author_A','Author_B'])\n",
    "#Calculate weights\n",
    "g_df = graph_df.groupby(['Author_A','Author_B']).size().reset_index().rename(columns={0:'count'})\n",
    "#create undirectional graph \n",
    "ng = nx.convert_matrix.from_pandas_edgelist(g_df, source= 'Author_A', target = 'Author_B', edge_attr= 'count')\n",
    "print(nx.info(ng))\n",
    "print(g_df)\n",
    "authorlist_A = g_df['Author_A'].to_list()\n",
    "authorlist_B = g_df['Author_B'].to_list()\n",
    "authorlist.extend(authorlist_B)\n",
    "authorlist = list(set(authorlist)) # remove duplicates\n",
    "authorlist_A = list(set(authorlist_A)) # remove duplicates\n",
    "authorlist_B = list(set(authorlist_B)) # remove duplicates"
   ]
  },
  {
   "cell_type": "code",
   "execution_count": 18,
   "metadata": {},
   "outputs": [],
   "source": [
    "#getting all set of edges\n",
    "r = csv.reader(open('no_headers_graph_pos.csv','r'))\n",
    "edges = dict()\n",
    "for edge in r:\n",
    "    edges[(edge[0], edge[1])] = 1"
   ]
  },
  {
   "cell_type": "markdown",
   "metadata": {},
   "source": [
    "## Create negative samples"
   ]
  },
  {
   "cell_type": "code",
   "execution_count": 19,
   "metadata": {},
   "outputs": [
    {
     "name": "stdout",
     "output_type": "stream",
     "text": [
      "Wall time: 651 ms\n"
     ]
    }
   ],
   "source": [
    "%%time\n",
    "###generating negative edges from given graph\n",
    "import random\n",
    "\n",
    "random.seed(1687)\n",
    "missing_edges = set([])\n",
    "while (len(missing_edges)<16036): # such that same number as positive edges\n",
    "    a=random.choice(authorlist_A) # as the authorlist in the train set, contains all possible authors.\n",
    "    b=random.choice(authorlist_B)\n",
    "    tmp = edges.get((a,b),-1)\n",
    "    if tmp == -1 and a!=b:\n",
    "        try:\n",
    "            if nx.shortest_path_length(ng,source=a,target=b) > 2 and (a,b) not in missing_edges and (b,a) not in missing_edges: \n",
    "                \n",
    "                missing_edges.add((a,b))\n",
    "            else:\n",
    "                continue  \n",
    "        except:\n",
    "            if (a,b) not in missing_edges and (b,a) not in missing_edges:\n",
    "                missing_edges.add((a,b))              \n",
    "    else:\n",
    "        continue"
   ]
  },
  {
   "cell_type": "code",
   "execution_count": 20,
   "metadata": {},
   "outputs": [
    {
     "name": "stdout",
     "output_type": "stream",
     "text": [
      "16036\n",
      "      Author_A Author_B  count\n",
      "0            0     1162      1\n",
      "1            0     1626      1\n",
      "2            0     2408      1\n",
      "3            0     2519      1\n",
      "4            0     2533      1\n",
      "...        ...      ...    ...\n",
      "16031      999     1658      1\n",
      "16032      999     2536      1\n",
      "16033      999     3161      1\n",
      "16034      999     3296      1\n",
      "16035      999     3735      1\n",
      "\n",
      "[16036 rows x 3 columns]\n",
      "Name: \n",
      "Type: Graph\n",
      "Number of nodes: 3548\n",
      "Number of edges: 16036\n",
      "Average degree:   9.0395\n"
     ]
    }
   ],
   "source": [
    "print(len(missing_edges))\n",
    "df_neg = pd.DataFrame(list(missing_edges), columns=['Author_A', 'Author_B'])\n",
    "df_neg = df_neg.groupby(['Author_A','Author_B']).size().reset_index().rename(columns={0:'count'})\n",
    "df_neg['Author_A'] = df_neg['Author_A'].astype(str)\n",
    "df_neg['Author_B'] = df_neg['Author_B'].astype(str)\n",
    "\n",
    "#Unnecesary step\n",
    "ng_neg = nx.from_pandas_edgelist(df_neg, source= 'Author_A', target = 'Author_B', edge_attr= 'count')\n",
    "print(df_neg)\n",
    "df_pos = g_df\n",
    "print(nx.info(ng_neg))\n",
    "#sum(df_pos.duplicated())\n",
    "y_pos = np.ones(len(df_pos))\n",
    "y_neg = np.zeros(len(df_pos))"
   ]
  },
  {
   "cell_type": "markdown",
   "metadata": {},
   "source": [
    "### Comparing negative and positive graphs"
   ]
  },
  {
   "cell_type": "markdown",
   "metadata": {},
   "source": [
    "!!!!!!!!!!!!!!!!!!!!!!!!!!! \n",
    "Although is not required to create a negative graph, as we need to calculate each negative edge as it was an edge in the orginal graph"
   ]
  },
  {
   "cell_type": "markdown",
   "metadata": {},
   "source": [
    "#### Positive graph"
   ]
  },
  {
   "cell_type": "code",
   "execution_count": 15,
   "metadata": {},
   "outputs": [
    {
     "data": {
      "text/plain": [
       "142"
      ]
     },
     "execution_count": 15,
     "metadata": {},
     "output_type": "execute_result"
    }
   ],
   "source": [
    "nx.number_connected_components(ng)"
   ]
  },
  {
   "cell_type": "code",
   "execution_count": 16,
   "metadata": {},
   "outputs": [
    {
     "data": {
      "image/png": "[encoded data removed]",
      "text/plain": [
       "<Figure size 432x288 with 1 Axes>"
      ]
     },
     "metadata": {},
     "output_type": "display_data"
    }
   ],
   "source": [
    "import matplotlib as plt\n",
    "nx.draw_spring(ng,node_size = 10)"
   ]
  },
  {
   "cell_type": "code",
   "execution_count": 27,
   "metadata": {},
   "outputs": [],
   "source": [
    "import matplotlib.pyplot as plt\n",
    "import collections\n",
    "\n",
    "def plot_degree(G):\n",
    "    degree_sequence = sorted([d for n, d in G.degree()], reverse=True)  # degree sequence\n",
    "    degreeCount = collections.Counter(degree_sequence)\n",
    "    deg, cnt = zip(*degreeCount.items())\n",
    "\n",
    "    fig, ax = plt.subplots()\n",
    "    plt.bar(deg, cnt, width=0.80, color=\"b\");\n",
    "\n",
    "    plt.title(\"Degree Histogram\")\n",
    "    plt.ylabel(\"Count\")\n",
    "    plt.xlabel(\"Degree\")\n",
    "    ax.set_xticks([d + 0.4 for d in deg])\n",
    "    ax.set_xticklabels(deg);\n"
   ]
  },
  {
   "cell_type": "code",
   "execution_count": 28,
   "metadata": {},
   "outputs": [
    {
     "data": {
      "image/png": "[encoded data removed]",
      "text/plain": [
       "<Figure size 432x288 with 1 Axes>"
      ]
     },
     "metadata": {
      "needs_background": "light"
     },
     "output_type": "display_data"
    }
   ],
   "source": [
    "plot_degree(ng)"
   ]
  },
  {
   "cell_type": "markdown",
   "metadata": {},
   "source": [
    "#### negative graph"
   ]
  },
  {
   "cell_type": "code",
   "execution_count": 21,
   "metadata": {},
   "outputs": [
    {
     "data": {
      "image/png": "[encoded data removed]",
      "text/plain": [
       "<Figure size 432x288 with 1 Axes>"
      ]
     },
     "metadata": {},
     "output_type": "display_data"
    }
   ],
   "source": [
    "nx.draw_spring(ng_neg,node_size = 10)"
   ]
  },
  {
   "cell_type": "code",
   "execution_count": 29,
   "metadata": {},
   "outputs": [
    {
     "data": {
      "image/png": "[encoded data removed]",
      "text/plain": [
       "<Figure size 432x288 with 1 Axes>"
      ]
     },
     "metadata": {
      "needs_background": "light"
     },
     "output_type": "display_data"
    }
   ],
   "source": [
    "plot_degree(ng_neg)"
   ]
  },
  {
   "cell_type": "markdown",
   "metadata": {},
   "source": [
    "## Calculate features"
   ]
  },
  {
   "cell_type": "code",
   "execution_count": 273,
   "metadata": {},
   "outputs": [],
   "source": [
    "def feature_maker(edges):\n",
    "    features = []\n",
    "    for pair in edges:\n",
    "        feat = []\n",
    "        tmp_ng = ng.copy()\n",
    "        \n",
    "        #Add an edge to the network if node is not in training\n",
    "        if not (ng.has_node(pair[0]) and ng.has_node(pair[1])):\n",
    "            tmp_ng.add_edge(pair[0],pair[1])\n",
    "        \n",
    "        # Calculate features\n",
    "        \n",
    "        try:\n",
    "            metric = nx.adamic_adar_index(tmp_ng, [pair])\n",
    "            for s,t,m in metric:\n",
    "                feat.append(m)\n",
    "        except:\n",
    "            feat.append(0)\n",
    "        try:\n",
    "            metric = nx.resource_allocation_index(tmp_ng, [pair])\n",
    "            for s,t,m in metric:\n",
    "                feat.append(m)\n",
    "        except:\n",
    "            feat.append(0)\n",
    "        try:\n",
    "            metric = nx.jaccard_coefficient(tmp_ng, [pair])\n",
    "            for s,t,m in metric:\n",
    "                feat.append(m)\n",
    "        except:\n",
    "            feat.append(0)\n",
    "        try:\n",
    "            metric = nx.preferential_attachment(tmp_ng, [pair])\n",
    "            for s,t,m in metric:\n",
    "                feat.append(m)\n",
    "        except:\n",
    "            feat.append(0)\n",
    "            \n",
    "        features.append(feat)\n",
    "    return features       "
   ]
  },
  {
   "cell_type": "code",
   "execution_count": 274,
   "metadata": {},
   "outputs": [],
   "source": [
    "test_df = pd.read_csv('test-public.csv')"
   ]
  },
  {
   "cell_type": "code",
   "execution_count": 275,
   "metadata": {},
   "outputs": [],
   "source": [
    "#Positive instances\n",
    "edges = [(i,e) for i,e in zip(df_pos.Author_A, df_pos.Author_B)]\n",
    "feat = feature_maker(edges)\n",
    "feat = pd.DataFrame(feat, columns = ['aa','ra','jc','pa'])\n",
    "df_pos2 = pd.concat([df_pos, feat], axis = 1)"
   ]
  },
  {
   "cell_type": "code",
   "execution_count": 277,
   "metadata": {},
   "outputs": [],
   "source": [
    "#NEgative instances\n",
    "edges = [(i,e) for i,e in zip(df_neg.Author_A, df_neg.Author_B)]\n",
    "feat = feature_maker(edges)\n",
    "feat = pd.DataFrame(feat, columns = ['aa','ra','jc','pa'])\n",
    "df_neg2 = pd.concat([df_pos, feat], axis = 1)"
   ]
  },
  {
   "cell_type": "code",
   "execution_count": 278,
   "metadata": {},
   "outputs": [],
   "source": [
    "df_train = pd.concat([df_pos2, df_neg2], axis = 0)\n",
    "df_train.to_csv('train_transformed.csv')"
   ]
  },
  {
   "cell_type": "code",
   "execution_count": 279,
   "metadata": {},
   "outputs": [],
   "source": [
    "#Test set\n",
    "edges = [(str(i),str(e)) for i,e in zip(test_df.Source, test_df.Sink)]\n",
    "feat = feature_maker(edges)\n",
    "feat = pd.DataFrame(feat, columns = ['aa','ra','jc','pa'])\n",
    "test = pd.concat([test_df, feat], axis =1)   \n",
    "\n",
    "test.to_csv('test_transformed.csv')"
   ]
  },
  {
   "cell_type": "markdown",
   "metadata": {},
   "source": [
    "# OLD STUFF"
   ]
  },
  {
   "cell_type": "code",
   "execution_count": null,
   "metadata": {},
   "outputs": [],
   "source": [
    "\"\"\"\n",
    "tested features\n",
    "\n",
    "\n",
    "\"\"\"\n",
    "feature_1 = []\n",
    "metric = nx.common_neighbor_centrality(ng)\n",
    "for s,t in ng.edges():\n",
    "    try:\n",
    "        for u,v,p in metric:\n",
    "            feature_1.append(p)\n",
    "    except:\n",
    "        feature_1.append(0)\n",
    "\n",
    "katz = nx.katz.katz_centrality(ng)\n",
    "# Katz centrality Author_A - doesn't converge.\n",
    "feature_10 = []\n",
    "for s,t in ng.edges():\n",
    "    try:\n",
    "        kc = katz[s]\n",
    "        feature_10.append(kc)\n",
    "    except:\n",
    "        feature_10.append(0)\n",
    "\n",
    "# Katz centrality Author_B\n",
    "feature_11 = []\n",
    "for s,t in ng.edges():\n",
    "    try:\n",
    "        kc = katz[t]\n",
    "        feature_11.append(kc)\n",
    "    except:\n",
    "        feature_11.append(0)\n",
    "\n",
    "katz = nx.katz.katz_centrality(ng_neg)\n",
    "# Katz centrality Author_A neg edges.\n",
    "feature_10_neg = []\n",
    "for s,t in ng_neg.edges():\n",
    "    try:\n",
    "        kc = katz[s]\n",
    "        feature_10_neg.append(kc)\n",
    "    except:\n",
    "        feature_10_neg.append(0)\n",
    "\n",
    "# Katz centrality Author_B neg edges.\n",
    "feature_11_neg = []\n",
    "for s,t in ng_neg.edges():\n",
    "    try:\n",
    "        kc = katz[t]\n",
    "        feature_11_neg.append(kc)\n",
    "    except:\n",
    "        feature_11_neg.append(0)"
   ]
  },
  {
   "cell_type": "code",
   "execution_count": 34,
   "metadata": {},
   "outputs": [],
   "source": [
    "def extract_feats(g, ds = 'train'):\n",
    "    btwc = nx.edge_betweenness_centrality(g)\n",
    "    feature_2 = []\n",
    "    feature_3 = []\n",
    "    cc = nx.closeness_centrality(g)\n",
    "    feature_4 = []\n",
    "    dc = nx.degree_centrality(g)\n",
    "    feature_5 = []\n",
    "    feature_6 = []\n",
    "    feature_7 = []\n",
    "    pr = nx.pagerank(g)\n",
    "    # pagerank Author_A.\n",
    "    feature_8 = []\n",
    "    # pagerank Author_B.\n",
    "    feature_9 = []\n",
    "    hits = nx.hits(g, max_iter=500)\n",
    "    # for Author A.\n",
    "    feature_12 = []\n",
    "    feature_13 = []\n",
    "    # for Author B.\n",
    "    feature_14 = []\n",
    "    feature_15 = []\n",
    "    \n",
    "    for s,t in g.edges():\n",
    "        if g.get_edge_data(s, t)['dataset'] == ds:\n",
    "            try:\n",
    "                feature_2.append(btwc[(str(s),str(t))])\n",
    "                metric = nx.adamic_adar_index(g, [(s,t)])\n",
    "\n",
    "                for u,v,p in metric:\n",
    "                    feature_3.append(p)\n",
    "                feature_4.append(cc[str(s)])\n",
    "                feature_5.append(dc[str(s)])\n",
    "\n",
    "                metric = nx.jaccard_coefficient(g, [(s,t)])\n",
    "                for u,v,p in metric:\n",
    "                    feature_6.append(p)\n",
    "                metric = nx.preferential_attachment(g, [(s,t)])\n",
    "                for u,v,p in metric:\n",
    "                    feature_7.append(p)\n",
    "                rank = pr[s]\n",
    "                feature_8.append(rank)\n",
    "                rank = pr[t]\n",
    "                feature_9.append(rank)\n",
    "                hit_i = hits[0][s]\n",
    "                hit_j = hits[1][s]\n",
    "                feature_12.append(hit_i)\n",
    "                feature_13.append(hit_j)\n",
    "                hit_i = hits[0][t]\n",
    "                hit_j = hits[1][t]\n",
    "                feature_14.append(hit_i)\n",
    "                feature_15.append(hit_j)\n",
    "            except:\n",
    "                feature_2.append(0)\n",
    "                feature_3.append(0)\n",
    "                feature_4.append(0)\n",
    "                feature_5.append(0)\n",
    "                feature_6.append(0)\n",
    "                feature_7.append(0)\n",
    "                feature_8.append(0)\n",
    "                feature_9.append(0)\n",
    "                feature_12.append(0)\n",
    "                feature_13.append(0)\n",
    "                feature_14.append(0)\n",
    "                feature_15.append(0)\n",
    "    return feature_2, feature_3, feature_4, feature_5, feature_6, feature_7, feature_8, feature_9, feature_12, feature_13, feature_14, feature_15  \n",
    "\n",
    "\n",
    "# need \"community\" information for that. Do we have that piece of information?\n",
    "#wic = nx.within_inter_cluster(ng)"
   ]
  },
  {
   "cell_type": "code",
   "execution_count": null,
   "metadata": {},
   "outputs": [],
   "source": [
    "#df_pos['cnc'] = feature_1\n",
    "df_pos['btwc'] = feature_2(ng)\n",
    "df_pos['adar'] = feature_3(ng)\n",
    "df_pos['cc'] = feature_4(ng)\n",
    "df_pos['dc'] = feature_5(ng)\n",
    "df_pos['jc'] = feature_6(ng)\n",
    "df_pos['pa'] = feature_7(ng)\n",
    "df_pos['pagerank_A'] = feature_8(ng)\n",
    "df_pos['pagerank_B'] = feature_9(ng)\n",
    "#df_pos['katz_A'] = feature_10\n",
    "#df_pos['katz_B'] = feature_11\n",
    "df_pos['hits_authority_A'], df_pos['hits_hubs_A'] = feature_12_13(ng)\n",
    "df_pos['hits_authority_B'], df_pos['hits_hubs_B'] = feature_14_15(ng)\n",
    "#df_neg['cnc'] = feature_1_neg\n",
    "df_neg['btwc'] = feature_2(ng_neg)\n",
    "df_neg['adar'] = feature_3(ng_neg)\n",
    "df_neg['cc'] = feature_4(ng_neg)\n",
    "df_neg['dc'] = feature_5(ng_neg)\n",
    "df_neg['jc'] = feature_6(ng_neg)\n",
    "df_neg['pa'] = feature_7(ng_neg)\n",
    "df_neg['pagerank_A'] = feature_8(ng_neg)\n",
    "df_neg['pagerank_B'] = feature_9(ng_neg)\n",
    "#df_neg['katz_A'] = feature_10_neg\n",
    "#df_neg['katz_B'] = feature_11_neg\n",
    "df_neg['hits_authority_A'], df_neg['hits_hubs_A'] = feature_12_13(ng_neg)\n",
    "df_neg['hits_authority_B'], df_neg['hits_hubs_B'] = feature_14_15(ng_neg)"
   ]
  },
  {
   "cell_type": "code",
   "execution_count": 152,
   "metadata": {},
   "outputs": [],
   "source": [
    "import pickle\n",
    "df_pos.to_csv(\"pos_training_data.csv\")\n",
    "df_neg.to_csv(\"neg_training_data.csv\")\n",
    "with open('pos_training_labels.ob', 'wb') as fp:\n",
    "    pickle.dump(y_pos, fp)\n",
    "with open('neg_training_labels.ob', 'wb') as fp:\n",
    "    pickle.dump(y_neg, fp)\n",
    "df_final_train = df_pos.append(df_neg,ignore_index=True)\n",
    "y_final_train = np.concatenate((y_pos,y_neg))\n",
    "df_final_train.to_csv(\"training_data_combined.csv\")\n",
    "with open('training_labels_combined.ob', 'wb') as fp:\n",
    "    pickle.dump(y_final_train, fp)"
   ]
  },
  {
   "cell_type": "code",
   "execution_count": null,
   "metadata": {},
   "outputs": [],
   "source": [
    "df_final_train = pd.read_csv(\"training_data_combined.csv\")"
   ]
  },
  {
   "cell_type": "markdown",
   "metadata": {},
   "source": [
    "### Transform test set"
   ]
  },
  {
   "cell_type": "markdown",
   "metadata": {},
   "source": [
    "#### First try of gettin mixing test and train network to calculate features properly. Didnt work"
   ]
  },
  {
   "cell_type": "code",
   "execution_count": 82,
   "metadata": {},
   "outputs": [
    {
     "ename": "KeyboardInterrupt",
     "evalue": "",
     "output_type": "error",
     "traceback": [
      "\u001b[1;31m---------------------------------------------------------------------------\u001b[0m",
      "\u001b[1;31mKeyboardInterrupt\u001b[0m                         Traceback (most recent call last)",
      "\u001b[1;32m<ipython-input-82-d9f7d10c3386>\u001b[0m in \u001b[0;36m<module>\u001b[1;34m\u001b[0m\n\u001b[0;32m      9\u001b[0m \u001b[0mng_test\u001b[0m \u001b[1;33m=\u001b[0m \u001b[0mnx\u001b[0m\u001b[1;33m.\u001b[0m\u001b[0mfull_join\u001b[0m\u001b[1;33m(\u001b[0m\u001b[0mng\u001b[0m\u001b[1;33m,\u001b[0m\u001b[0mng_test\u001b[0m\u001b[1;33m)\u001b[0m\u001b[1;33m\u001b[0m\u001b[1;33m\u001b[0m\u001b[0m\n\u001b[0;32m     10\u001b[0m \u001b[1;33m\u001b[0m\u001b[0m\n\u001b[1;32m---> 11\u001b[1;33m \u001b[0mtest_df\u001b[0m\u001b[1;33m[\u001b[0m\u001b[1;34m'btwc'\u001b[0m\u001b[1;33m]\u001b[0m\u001b[1;33m,\u001b[0m \u001b[0mtest_df\u001b[0m\u001b[1;33m[\u001b[0m\u001b[1;34m'adar'\u001b[0m\u001b[1;33m]\u001b[0m\u001b[1;33m,\u001b[0m \u001b[0mtest_df\u001b[0m\u001b[1;33m[\u001b[0m\u001b[1;34m'cc'\u001b[0m\u001b[1;33m]\u001b[0m\u001b[1;33m,\u001b[0m \u001b[0mtest_df\u001b[0m\u001b[1;33m[\u001b[0m\u001b[1;34m'dc'\u001b[0m\u001b[1;33m]\u001b[0m\u001b[1;33m,\u001b[0m \u001b[0mtest_df\u001b[0m\u001b[1;33m[\u001b[0m\u001b[1;34m'jc'\u001b[0m\u001b[1;33m]\u001b[0m\u001b[1;33m,\u001b[0m \u001b[0mtest_df\u001b[0m\u001b[1;33m[\u001b[0m\u001b[1;34m'pa'\u001b[0m\u001b[1;33m]\u001b[0m\u001b[1;33m,\u001b[0m \u001b[0mtest_df\u001b[0m\u001b[1;33m[\u001b[0m\u001b[1;34m'pagerank_A'\u001b[0m\u001b[1;33m]\u001b[0m\u001b[1;33m,\u001b[0m \u001b[0mtest_df\u001b[0m\u001b[1;33m[\u001b[0m\u001b[1;34m'pagerank_B'\u001b[0m\u001b[1;33m]\u001b[0m\u001b[1;33m,\u001b[0m\u001b[0mtest_df\u001b[0m\u001b[1;33m[\u001b[0m\u001b[1;34m'hits_authority_A'\u001b[0m\u001b[1;33m]\u001b[0m\u001b[1;33m,\u001b[0m \u001b[0mtest_df\u001b[0m\u001b[1;33m[\u001b[0m\u001b[1;34m'hits_hubs_A'\u001b[0m\u001b[1;33m]\u001b[0m\u001b[1;33m,\u001b[0m\u001b[0mtest_df\u001b[0m\u001b[1;33m[\u001b[0m\u001b[1;34m'hits_authority_B'\u001b[0m\u001b[1;33m]\u001b[0m\u001b[1;33m,\u001b[0m \u001b[0mtest_df\u001b[0m\u001b[1;33m[\u001b[0m\u001b[1;34m'hits_hubs_B'\u001b[0m\u001b[1;33m]\u001b[0m  \u001b[1;33m=\u001b[0m \u001b[0mextract_feats\u001b[0m\u001b[1;33m(\u001b[0m\u001b[0mng_test\u001b[0m\u001b[1;33m,\u001b[0m \u001b[1;34m'test'\u001b[0m\u001b[1;33m)\u001b[0m\u001b[1;33m\u001b[0m\u001b[1;33m\u001b[0m\u001b[0m\n\u001b[0m",
      "\u001b[1;32m<ipython-input-34-f20c97a08e92>\u001b[0m in \u001b[0;36mextract_feats\u001b[1;34m(g, ds)\u001b[0m\n\u001b[0;32m      1\u001b[0m \u001b[1;32mdef\u001b[0m \u001b[0mextract_feats\u001b[0m\u001b[1;33m(\u001b[0m\u001b[0mg\u001b[0m\u001b[1;33m,\u001b[0m \u001b[0mds\u001b[0m \u001b[1;33m=\u001b[0m \u001b[1;34m'train'\u001b[0m\u001b[1;33m)\u001b[0m\u001b[1;33m:\u001b[0m\u001b[1;33m\u001b[0m\u001b[1;33m\u001b[0m\u001b[0m\n\u001b[1;32m----> 2\u001b[1;33m     \u001b[0mbtwc\u001b[0m \u001b[1;33m=\u001b[0m \u001b[0mnx\u001b[0m\u001b[1;33m.\u001b[0m\u001b[0medge_betweenness_centrality\u001b[0m\u001b[1;33m(\u001b[0m\u001b[0mg\u001b[0m\u001b[1;33m)\u001b[0m\u001b[1;33m\u001b[0m\u001b[1;33m\u001b[0m\u001b[0m\n\u001b[0m\u001b[0;32m      3\u001b[0m     \u001b[0mfeature_2\u001b[0m \u001b[1;33m=\u001b[0m \u001b[1;33m[\u001b[0m\u001b[1;33m]\u001b[0m\u001b[1;33m\u001b[0m\u001b[1;33m\u001b[0m\u001b[0m\n\u001b[0;32m      4\u001b[0m     \u001b[0mfeature_3\u001b[0m \u001b[1;33m=\u001b[0m \u001b[1;33m[\u001b[0m\u001b[1;33m]\u001b[0m\u001b[1;33m\u001b[0m\u001b[1;33m\u001b[0m\u001b[0m\n\u001b[0;32m      5\u001b[0m     \u001b[0mcc\u001b[0m \u001b[1;33m=\u001b[0m \u001b[0mnx\u001b[0m\u001b[1;33m.\u001b[0m\u001b[0mcloseness_centrality\u001b[0m\u001b[1;33m(\u001b[0m\u001b[0mg\u001b[0m\u001b[1;33m)\u001b[0m\u001b[1;33m\u001b[0m\u001b[1;33m\u001b[0m\u001b[0m\n",
      "\u001b[1;32m<decorator-gen-243>\u001b[0m in \u001b[0;36medge_betweenness_centrality\u001b[1;34m(G, k, normalized, weight, seed)\u001b[0m\n",
      "\u001b[1;32mC:\\ProgramData\\Anaconda3\\lib\\site-packages\\networkx\\utils\\decorators.py\u001b[0m in \u001b[0;36m_random_state\u001b[1;34m(func, *args, **kwargs)\u001b[0m\n\u001b[0;32m    467\u001b[0m         \u001b[0mnew_args\u001b[0m \u001b[1;33m=\u001b[0m \u001b[0mlist\u001b[0m\u001b[1;33m(\u001b[0m\u001b[0margs\u001b[0m\u001b[1;33m)\u001b[0m\u001b[1;33m\u001b[0m\u001b[1;33m\u001b[0m\u001b[0m\n\u001b[0;32m    468\u001b[0m         \u001b[0mnew_args\u001b[0m\u001b[1;33m[\u001b[0m\u001b[0mrandom_state_index\u001b[0m\u001b[1;33m]\u001b[0m \u001b[1;33m=\u001b[0m \u001b[0mrandom_state\u001b[0m\u001b[1;33m\u001b[0m\u001b[1;33m\u001b[0m\u001b[0m\n\u001b[1;32m--> 469\u001b[1;33m         \u001b[1;32mreturn\u001b[0m \u001b[0mfunc\u001b[0m\u001b[1;33m(\u001b[0m\u001b[1;33m*\u001b[0m\u001b[0mnew_args\u001b[0m\u001b[1;33m,\u001b[0m \u001b[1;33m**\u001b[0m\u001b[0mkwargs\u001b[0m\u001b[1;33m)\u001b[0m\u001b[1;33m\u001b[0m\u001b[1;33m\u001b[0m\u001b[0m\n\u001b[0m\u001b[0;32m    470\u001b[0m \u001b[1;33m\u001b[0m\u001b[0m\n\u001b[0;32m    471\u001b[0m     \u001b[1;32mreturn\u001b[0m \u001b[0m_random_state\u001b[0m\u001b[1;33m\u001b[0m\u001b[1;33m\u001b[0m\u001b[0m\n",
      "\u001b[1;32mC:\\ProgramData\\Anaconda3\\lib\\site-packages\\networkx\\algorithms\\centrality\\betweenness.py\u001b[0m in \u001b[0;36medge_betweenness_centrality\u001b[1;34m(G, k, normalized, weight, seed)\u001b[0m\n\u001b[0;32m    226\u001b[0m             \u001b[0mS\u001b[0m\u001b[1;33m,\u001b[0m \u001b[0mP\u001b[0m\u001b[1;33m,\u001b[0m \u001b[0msigma\u001b[0m \u001b[1;33m=\u001b[0m \u001b[0m_single_source_dijkstra_path_basic\u001b[0m\u001b[1;33m(\u001b[0m\u001b[0mG\u001b[0m\u001b[1;33m,\u001b[0m \u001b[0ms\u001b[0m\u001b[1;33m,\u001b[0m \u001b[0mweight\u001b[0m\u001b[1;33m)\u001b[0m\u001b[1;33m\u001b[0m\u001b[1;33m\u001b[0m\u001b[0m\n\u001b[0;32m    227\u001b[0m         \u001b[1;31m# accumulation\u001b[0m\u001b[1;33m\u001b[0m\u001b[1;33m\u001b[0m\u001b[1;33m\u001b[0m\u001b[0m\n\u001b[1;32m--> 228\u001b[1;33m         \u001b[0mbetweenness\u001b[0m \u001b[1;33m=\u001b[0m \u001b[0m_accumulate_edges\u001b[0m\u001b[1;33m(\u001b[0m\u001b[0mbetweenness\u001b[0m\u001b[1;33m,\u001b[0m \u001b[0mS\u001b[0m\u001b[1;33m,\u001b[0m \u001b[0mP\u001b[0m\u001b[1;33m,\u001b[0m \u001b[0msigma\u001b[0m\u001b[1;33m,\u001b[0m \u001b[0ms\u001b[0m\u001b[1;33m)\u001b[0m\u001b[1;33m\u001b[0m\u001b[1;33m\u001b[0m\u001b[0m\n\u001b[0m\u001b[0;32m    229\u001b[0m     \u001b[1;31m# rescaling\u001b[0m\u001b[1;33m\u001b[0m\u001b[1;33m\u001b[0m\u001b[1;33m\u001b[0m\u001b[0m\n\u001b[0;32m    230\u001b[0m     \u001b[1;32mfor\u001b[0m \u001b[0mn\u001b[0m \u001b[1;32min\u001b[0m \u001b[0mG\u001b[0m\u001b[1;33m:\u001b[0m  \u001b[1;31m# remove nodes to only return edges\u001b[0m\u001b[1;33m\u001b[0m\u001b[1;33m\u001b[0m\u001b[0m\n",
      "\u001b[1;32mC:\\ProgramData\\Anaconda3\\lib\\site-packages\\networkx\\algorithms\\centrality\\betweenness.py\u001b[0m in \u001b[0;36m_accumulate_edges\u001b[1;34m(betweenness, S, P, sigma, s)\u001b[0m\n\u001b[0;32m    340\u001b[0m             \u001b[0mc\u001b[0m \u001b[1;33m=\u001b[0m \u001b[0msigma\u001b[0m\u001b[1;33m[\u001b[0m\u001b[0mv\u001b[0m\u001b[1;33m]\u001b[0m \u001b[1;33m*\u001b[0m \u001b[0mcoeff\u001b[0m\u001b[1;33m\u001b[0m\u001b[1;33m\u001b[0m\u001b[0m\n\u001b[0;32m    341\u001b[0m             \u001b[1;32mif\u001b[0m \u001b[1;33m(\u001b[0m\u001b[0mv\u001b[0m\u001b[1;33m,\u001b[0m \u001b[0mw\u001b[0m\u001b[1;33m)\u001b[0m \u001b[1;32mnot\u001b[0m \u001b[1;32min\u001b[0m \u001b[0mbetweenness\u001b[0m\u001b[1;33m:\u001b[0m\u001b[1;33m\u001b[0m\u001b[1;33m\u001b[0m\u001b[0m\n\u001b[1;32m--> 342\u001b[1;33m                 \u001b[0mbetweenness\u001b[0m\u001b[1;33m[\u001b[0m\u001b[1;33m(\u001b[0m\u001b[0mw\u001b[0m\u001b[1;33m,\u001b[0m \u001b[0mv\u001b[0m\u001b[1;33m)\u001b[0m\u001b[1;33m]\u001b[0m \u001b[1;33m+=\u001b[0m \u001b[0mc\u001b[0m\u001b[1;33m\u001b[0m\u001b[1;33m\u001b[0m\u001b[0m\n\u001b[0m\u001b[0;32m    343\u001b[0m             \u001b[1;32melse\u001b[0m\u001b[1;33m:\u001b[0m\u001b[1;33m\u001b[0m\u001b[1;33m\u001b[0m\u001b[0m\n\u001b[0;32m    344\u001b[0m                 \u001b[0mbetweenness\u001b[0m\u001b[1;33m[\u001b[0m\u001b[1;33m(\u001b[0m\u001b[0mv\u001b[0m\u001b[1;33m,\u001b[0m \u001b[0mw\u001b[0m\u001b[1;33m)\u001b[0m\u001b[1;33m]\u001b[0m \u001b[1;33m+=\u001b[0m \u001b[0mc\u001b[0m\u001b[1;33m\u001b[0m\u001b[1;33m\u001b[0m\u001b[0m\n",
      "\u001b[1;31mKeyboardInterrupt\u001b[0m: "
     ]
    }
   ],
   "source": [
    "# public test data transformation.\n",
    "for s,t in ng.edges():\n",
    "    nx.set_edge_attributes(ng, {(s,t):{'dataset':'train'}})\n",
    "test_df = pd.read_csv('test-public.csv')\n",
    "test_df.drop(test_df.columns[[0]], axis=1, inplace=True)\n",
    "test_df.columns = ['Author_A','Author_B']\n",
    "test_df = test_df.groupby(['Author_A','Author_B']).size().reset_index().rename(columns={0:'count'})\n",
    "test_df['dataset'] = ['test' for i in range(test_df.shape[0])]\n",
    "#create undirectional graph \n",
    "ng_test = nx.convert_matrix.from_pandas_edgelist(test_df, source= 'Author_A', target = 'Author_B', edge_attr= ['count','dataset'])\n",
    "ng_test = nx.union(ng,ng_test)\n",
    "\n",
    "test_df['btwc'], test_df['adar'], test_df['cc'], test_df['dc'], test_df['jc'], test_df['pa'], test_df['pagerank_A'], test_df['pagerank_B'],test_df['hits_authority_A'], test_df['hits_hubs_A'],test_df['hits_authority_B'], test_df['hits_hubs_B']  = extract_feats(ng_test, 'test')"
   ]
  }
 ],
 "metadata": {
  "kernelspec": {
   "display_name": "Python 3",
   "language": "python",
   "name": "python3"
  },
  "language_info": {
   "codemirror_mode": {
    "name": "ipython",
    "version": 3
   },
   "file_extension": ".py",
   "mimetype": "text/x-python",
   "name": "python",
   "nbconvert_exporter": "python",
   "pygments_lexer": "ipython3",
   "version": "3.7.4"
  }
 },
 "nbformat": 4,
 "nbformat_minor": 5
}
